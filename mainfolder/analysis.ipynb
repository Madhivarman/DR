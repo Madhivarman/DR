{
 "cells": [
  {
   "cell_type": "code",
   "execution_count": 72,
   "metadata": {},
   "outputs": [],
   "source": [
    "import pandas as pd\n",
    "import numpy as np\n",
    "import matplotlib.pyplot as plt\n",
    "\n",
    "#style \n",
    "plt.style.use('ggplot')"
   ]
  },
  {
   "cell_type": "code",
   "execution_count": 3,
   "metadata": {},
   "outputs": [],
   "source": [
    "#import the text\n",
    "df = pd.read_csv(\"features.txt\",sep=\"\\t\",header=None,names=['doc_id','features'])"
   ]
  },
  {
   "cell_type": "code",
   "execution_count": 4,
   "metadata": {},
   "outputs": [
    {
     "data": {
      "text/html": [
       "<div>\n",
       "<style scoped>\n",
       "    .dataframe tbody tr th:only-of-type {\n",
       "        vertical-align: middle;\n",
       "    }\n",
       "\n",
       "    .dataframe tbody tr th {\n",
       "        vertical-align: top;\n",
       "    }\n",
       "\n",
       "    .dataframe thead th {\n",
       "        text-align: right;\n",
       "    }\n",
       "</style>\n",
       "<table border=\"1\" class=\"dataframe\">\n",
       "  <thead>\n",
       "    <tr style=\"text-align: right;\">\n",
       "      <th></th>\n",
       "      <th>doc_id</th>\n",
       "      <th>features</th>\n",
       "    </tr>\n",
       "  </thead>\n",
       "  <tbody>\n",
       "    <tr>\n",
       "      <th>0</th>\n",
       "      <td>0</td>\n",
       "      <td>alfonsin,allsuite,arnott,bonded,briefed,bulax,...</td>\n",
       "    </tr>\n",
       "    <tr>\n",
       "      <th>1</th>\n",
       "      <td>0</td>\n",
       "      <td>dependent,cellulosa,allentown,bases,ergenc,err...</td>\n",
       "    </tr>\n",
       "    <tr>\n",
       "      <th>2</th>\n",
       "      <td>0</td>\n",
       "      <td>cellulosa,emphasizing,edina,celsius,dependent,...</td>\n",
       "    </tr>\n",
       "    <tr>\n",
       "      <th>3</th>\n",
       "      <td>0</td>\n",
       "      <td>edina,cellulosa,allentown,emphasizing,celsius,...</td>\n",
       "    </tr>\n",
       "    <tr>\n",
       "      <th>4</th>\n",
       "      <td>0</td>\n",
       "      <td>downed,ecologists,edina,emphasizing,cellulosa,...</td>\n",
       "    </tr>\n",
       "  </tbody>\n",
       "</table>\n",
       "</div>"
      ],
      "text/plain": [
       "   doc_id                                           features\n",
       "0       0  alfonsin,allsuite,arnott,bonded,briefed,bulax,...\n",
       "1       0  dependent,cellulosa,allentown,bases,ergenc,err...\n",
       "2       0  cellulosa,emphasizing,edina,celsius,dependent,...\n",
       "3       0  edina,cellulosa,allentown,emphasizing,celsius,...\n",
       "4       0  downed,ecologists,edina,emphasizing,cellulosa,..."
      ]
     },
     "execution_count": 4,
     "metadata": {},
     "output_type": "execute_result"
    }
   ],
   "source": [
    "df.head()"
   ]
  },
  {
   "cell_type": "code",
   "execution_count": 5,
   "metadata": {},
   "outputs": [
    {
     "data": {
      "text/plain": [
       "(100, 'companyt,ansy,cmi,bokma,countrys,assurance,bodies,bojangle,derek,esb,')"
      ]
     },
     "execution_count": 5,
     "metadata": {},
     "output_type": "execute_result"
    }
   ],
   "source": [
    "#append all df into the list\n",
    "count_freq = []\n",
    "\n",
    "for index,row in df.iterrows():\n",
    "    count_freq.append((row['doc_id'],row['features']))\n",
    "\n",
    "count_freq[11055]"
   ]
  },
  {
   "cell_type": "code",
   "execution_count": 6,
   "metadata": {},
   "outputs": [],
   "source": [
    "import collections \n",
    "from collections import Counter\n",
    "\n",
    "result = collections.defaultdict(list)\n",
    "for data in count_freq:\n",
    "    result[data[0]].append(data[1])\n"
   ]
  },
  {
   "cell_type": "code",
   "execution_count": 11,
   "metadata": {},
   "outputs": [],
   "source": [
    "#analyse the count frequency of the word\n",
    "freq_count = []#list\n",
    "\n",
    "for key,value in result.items():\n",
    "    features = ' '.join(value)\n",
    "    features = features.replace(\",\",\" \")\n",
    "    freq_count.append((key,Counter(features.split()).items()))"
   ]
  },
  {
   "cell_type": "code",
   "execution_count": 52,
   "metadata": {},
   "outputs": [],
   "source": [
    "# get top 6 elements\n",
    "def analyse_the_document(category):\n",
    "    dict_values = freq_count[category][1]\n",
    "    dictionary = sorted(dict_values,key=lambda x:-x[1])[:6]\n",
    "    X=[]\n",
    "    Y=[]\n",
    "    for features,freq in dictionary:\n",
    "        X.append(features)\n",
    "        Y.append(freq)\n",
    "    \n",
    "    #start plotting\n",
    "    plt.bar(X,Y,label=\"Frequency Analysis\",color=['red','green','blue','yellow','orange','purple'])\n",
    "    plt.xlabel(\"Document Top Words\")\n",
    "    plt.ylabel(\"Frequency\")\n",
    "    plt.show()"
   ]
  },
  {
   "cell_type": "code",
   "execution_count": 54,
   "metadata": {},
   "outputs": [
    {
     "name": "stdout",
     "output_type": "stream",
     "text": [
      "Enter the Document Category to analyse:56\n"
     ]
    },
    {
     "data": {
      "image/png": "[encoded data removed]",
      "text/plain": [
       "<matplotlib.figure.Figure at 0x7fa31e8aa908>"
      ]
     },
     "metadata": {},
     "output_type": "display_data"
    }
   ],
   "source": [
    "user_category = input(\"Enter the Document Category to analyse:\")\n",
    "res = analyse_the_document(int(user_category))"
   ]
  },
  {
   "cell_type": "code",
   "execution_count": 58,
   "metadata": {},
   "outputs": [],
   "source": [
    "# analyse the accuracy of the model\n",
    "from classify import score,mnb_score,svc_score,rndm_score"
   ]
  },
  {
   "cell_type": "code",
   "execution_count": 123,
   "metadata": {},
   "outputs": [
    {
     "data": {
      "image/png": "[encoded data removed]",
      "text/plain": [
       "<matplotlib.figure.Figure at 0x7fa3052fdbe0>"
      ]
     },
     "metadata": {},
     "output_type": "display_data"
    }
   ],
   "source": [
    "model = [score*100,mnb_score*100,svc_score*100,rndm_score*100]\n",
    "names = ['SGD','MNB','SVM','RC']\n",
    "plot = dict(zip(model,names))\n",
    "X=[]\n",
    "Y=[]\n",
    "for acc,alg in plot.items():\n",
    "    X.append(alg)\n",
    "    Y.append(acc)\n",
    "plt.scatter(X,Y)\n",
    "plt.xlabel(\"Algorithm\")\n",
    "plt.ylabel(\"Accuracy\")\n",
    "plt.show()"
   ]
  },
  {
   "cell_type": "code",
   "execution_count": null,
   "metadata": {},
   "outputs": [],
   "source": []
  }
 ],
 "metadata": {
  "kernelspec": {
   "display_name": "Python 3",
   "language": "python",
   "name": "python3"
  },
  "language_info": {
   "codemirror_mode": {
    "name": "ipython",
    "version": 3
   },
   "file_extension": ".py",
   "mimetype": "text/x-python",
   "name": "python",
   "nbconvert_exporter": "python",
   "pygments_lexer": "ipython3",
   "version": "3.5.2"
  }
 },
 "nbformat": 4,
 "nbformat_minor": 2
}
