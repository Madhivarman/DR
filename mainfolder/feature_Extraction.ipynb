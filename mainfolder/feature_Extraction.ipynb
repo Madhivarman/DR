{
 "cells": [
  {
   "cell_type": "code",
   "execution_count": 106,
   "metadata": {},
   "outputs": [],
   "source": [
    "import numpy as np \n",
    "import pandas as pd\n",
    "import nltk\n",
    "from nltk.corpus import stopwords\n",
    "from sklearn.feature_extraction.text import TfidfVectorizer\n",
    "from sklearn.feature_extraction.text import CountVectorizer\n",
    "from sklearn.model_selection import GridSearchCV\n",
    "from sklearn.decomposition import TruncatedSVD\n",
    "import re"
   ]
  },
  {
   "cell_type": "code",
   "execution_count": 107,
   "metadata": {},
   "outputs": [],
   "source": [
    "def tagAndTrainingData(file):\n",
    "\t#returning tokenize sentence\n",
    "\ttags = []\n",
    "\tdocuments = []\n",
    "\tcounter = 1\n",
    "\twith open(file) as f:\n",
    "\t\tfor line in f:\n",
    "\t\t\t#skip the first line\n",
    "\t\t\tif counter == 1:\n",
    "\t\t\t\tcounter += 1\n",
    "\t\t\t\tcontinue\n",
    "\n",
    "\t\t\ttags.append(line[:3]) #separating document_id\n",
    "\t\t\tdocuments.append(line[3:]) #separating body of the document\n",
    "\treturn tags,documents"
   ]
  },
  {
   "cell_type": "code",
   "execution_count": 109,
   "metadata": {},
   "outputs": [],
   "source": [
    "Y,X = tagAndTrainingData('preprocessing/trainingdataset.txt')\n",
    "df_X = pd.Series(X,index=None)\n"
   ]
  },
  {
   "cell_type": "code",
   "execution_count": 110,
   "metadata": {},
   "outputs": [],
   "source": [
    "#vecotrizer\n",
    "stopwords = set(stopwords.words('english'))\n",
    "vectorizer = TfidfVectorizer(stop_words=stopwords,use_idf=True)"
   ]
  },
  {
   "cell_type": "code",
   "execution_count": 112,
   "metadata": {},
   "outputs": [],
   "source": [
    "vect_X = vectorizer.fit_transform(df_X)"
   ]
  },
  {
   "cell_type": "code",
   "execution_count": 113,
   "metadata": {},
   "outputs": [
    {
     "data": {
      "text/plain": [
       "<1x30269 sparse matrix of type '<class 'numpy.float64'>'\n",
       "\twith 54 stored elements in Compressed Sparse Row format>"
      ]
     },
     "execution_count": 113,
     "metadata": {},
     "output_type": "execute_result"
    }
   ],
   "source": [
    "vect_X[0]"
   ]
  },
  {
   "cell_type": "code",
   "execution_count": 114,
   "metadata": {},
   "outputs": [
    {
     "name": "stdout",
     "output_type": "stream",
     "text": [
      "30269\n"
     ]
    }
   ],
   "source": [
    "terms = vectorizer.get_feature_names()\n",
    "print(len(terms))"
   ]
  },
  {
   "cell_type": "code",
   "execution_count": 115,
   "metadata": {},
   "outputs": [],
   "source": [
    "#list to store the TruncatedSVD value\n",
    "decomposition = []\n",
    "i=1\n",
    "prev = 0\n",
    "svd = TruncatedSVD(n_components=765,n_iter=10)\n",
    "while(i*765 <= vect_X.shape[0]):\n",
    "    index = i*765\n",
    "    data = df_X.loc[prev:index]\n",
    "    decomposition.append(data) # document in the list shape(766,) *15 times\n",
    "    prev=index\n",
    "    i+=1"
   ]
  },
  {
   "cell_type": "code",
   "execution_count": 116,
   "metadata": {},
   "outputs": [],
   "source": [
    "data_decomp = []\n",
    "for data in decomposition:\n",
    "    data_decomp.append(vectorizer.fit_transform(data))"
   ]
  },
  {
   "cell_type": "code",
   "execution_count": 117,
   "metadata": {},
   "outputs": [
    {
     "data": {
      "text/plain": [
       "[<766x7842 sparse matrix of type '<class 'numpy.float64'>'\n",
       " \twith 46391 stored elements in Compressed Sparse Row format>,\n",
       " <766x7641 sparse matrix of type '<class 'numpy.float64'>'\n",
       " \twith 46410 stored elements in Compressed Sparse Row format>,\n",
       " <766x8053 sparse matrix of type '<class 'numpy.float64'>'\n",
       " \twith 48886 stored elements in Compressed Sparse Row format>,\n",
       " <766x8600 sparse matrix of type '<class 'numpy.float64'>'\n",
       " \twith 59063 stored elements in Compressed Sparse Row format>,\n",
       " <766x7227 sparse matrix of type '<class 'numpy.float64'>'\n",
       " \twith 55066 stored elements in Compressed Sparse Row format>,\n",
       " <766x5872 sparse matrix of type '<class 'numpy.float64'>'\n",
       " \twith 29363 stored elements in Compressed Sparse Row format>,\n",
       " <766x5079 sparse matrix of type '<class 'numpy.float64'>'\n",
       " \twith 26690 stored elements in Compressed Sparse Row format>,\n",
       " <766x5187 sparse matrix of type '<class 'numpy.float64'>'\n",
       " \twith 26397 stored elements in Compressed Sparse Row format>,\n",
       " <766x6323 sparse matrix of type '<class 'numpy.float64'>'\n",
       " \twith 30629 stored elements in Compressed Sparse Row format>,\n",
       " <766x8590 sparse matrix of type '<class 'numpy.float64'>'\n",
       " \twith 55559 stored elements in Compressed Sparse Row format>,\n",
       " <766x8599 sparse matrix of type '<class 'numpy.float64'>'\n",
       " \twith 59324 stored elements in Compressed Sparse Row format>,\n",
       " <766x8539 sparse matrix of type '<class 'numpy.float64'>'\n",
       " \twith 46804 stored elements in Compressed Sparse Row format>,\n",
       " <766x8024 sparse matrix of type '<class 'numpy.float64'>'\n",
       " \twith 42233 stored elements in Compressed Sparse Row format>,\n",
       " <766x8813 sparse matrix of type '<class 'numpy.float64'>'\n",
       " \twith 50544 stored elements in Compressed Sparse Row format>,\n",
       " <765x9128 sparse matrix of type '<class 'numpy.float64'>'\n",
       " \twith 68730 stored elements in Compressed Sparse Row format>]"
      ]
     },
     "execution_count": 117,
     "metadata": {},
     "output_type": "execute_result"
    }
   ],
   "source": [
    "data_decomp #did broke down into smaller pieces"
   ]
  },
  {
   "cell_type": "code",
   "execution_count": 119,
   "metadata": {},
   "outputs": [
    {
     "name": "stdout",
     "output_type": "stream",
     "text": [
      "Finished 1 iteration\n",
      "Finished 2 iteration\n",
      "Finished 3 iteration\n",
      "Finished 4 iteration\n",
      "Finished 5 iteration\n",
      "Finished 6 iteration\n",
      "Finished 7 iteration\n",
      "Finished 8 iteration\n",
      "Finished 9 iteration\n",
      "Finished 10 iteration\n",
      "Finished 11 iteration\n",
      "Finished 12 iteration\n",
      "Finished 13 iteration\n",
      "Finished 14 iteration\n",
      "Finished 15 iteration\n"
     ]
    }
   ],
   "source": [
    "svd_fit=[]\n",
    "i=1\n",
    "for data in data_decomp:\n",
    "    svd_fit.append(svd.fit(data))\n",
    "    print(\"Finished {} iteration\".format(i))\n",
    "    i+=1"
   ]
  },
  {
   "cell_type": "code",
   "execution_count": 122,
   "metadata": {},
   "outputs": [
    {
     "data": {
      "text/plain": [
       "TruncatedSVD(algorithm='randomized', n_components=765, n_iter=10,\n",
       "       random_state=None, tol=0.0)"
      ]
     },
     "execution_count": 122,
     "metadata": {},
     "output_type": "execute_result"
    }
   ],
   "source": [
    "#sample\n",
    "svd_fit[5]"
   ]
  },
  {
   "cell_type": "code",
   "execution_count": 125,
   "metadata": {},
   "outputs": [],
   "source": [
    "with open(\"features.txt\",\"w\") as fp:\n",
    "    batch=1\n",
    "    for trunc_svd  in svd_fit:\n",
    "        fp.write(\"BATCH:{}\\n\".format(batch))\n",
    "        for i,comp in enumerate(trunc_svd.components_):\n",
    "            termsInGroup = zip(terms,comp)\n",
    "            sortedItems = sorted(termsInGroup,key=lambda x:x[1],reverse=False)[:10] #maximum of 10 keywords per document\n",
    "            fp.write(\"{},\".format(i))\n",
    "            for term in sortedItems:\n",
    "                fp.write(\"{},\\t\".format(term[0]))\n",
    "            fp.write(\"\\n\")\n",
    "        fp.write(\"\\n\")\n",
    "        batch +=1"
   ]
  },
  {
   "cell_type": "code",
   "execution_count": null,
   "metadata": {},
   "outputs": [],
   "source": []
  }
 ],
 "metadata": {
  "kernelspec": {
   "display_name": "Python 2",
   "language": "python",
   "name": "python2"
  },
  "language_info": {
   "codemirror_mode": {
    "name": "ipython",
    "version": 3
   },
   "file_extension": ".py",
   "mimetype": "text/x-python",
   "name": "python",
   "nbconvert_exporter": "python",
   "pygments_lexer": "ipython3",
   "version": "3.5.2"
  }
 },
 "nbformat": 4,
 "nbformat_minor": 2
}
