{
 "cells": [
  {
   "cell_type": "code",
   "execution_count": 341,
   "metadata": {},
   "outputs": [],
   "source": [
    "from sklearn.externals import joblib\n",
    "import pandas as pd\n",
    "import numpy as np\n",
    "import nltk\n",
    "from nltk import word_tokenize\n",
    "import os"
   ]
  },
  {
   "cell_type": "code",
   "execution_count": 342,
   "metadata": {},
   "outputs": [],
   "source": [
    "#load the saved model\n",
    "trained_model = joblib.load('cluster_classification_model.pkl')"
   ]
  },
  {
   "cell_type": "code",
   "execution_count": 343,
   "metadata": {},
   "outputs": [
    {
     "data": {
      "text/html": [
       "<div>\n",
       "<style scoped>\n",
       "    .dataframe tbody tr th:only-of-type {\n",
       "        vertical-align: middle;\n",
       "    }\n",
       "\n",
       "    .dataframe tbody tr th {\n",
       "        vertical-align: top;\n",
       "    }\n",
       "\n",
       "    .dataframe thead th {\n",
       "        text-align: right;\n",
       "    }\n",
       "</style>\n",
       "<table border=\"1\" class=\"dataframe\">\n",
       "  <thead>\n",
       "    <tr style=\"text-align: right;\">\n",
       "      <th></th>\n",
       "      <th>category</th>\n",
       "      <th>content</th>\n",
       "      <th>clusters</th>\n",
       "      <th>document</th>\n",
       "    </tr>\n",
       "  </thead>\n",
       "  <tbody>\n",
       "    <tr>\n",
       "      <th>0</th>\n",
       "      <td>0</td>\n",
       "      <td>alfonsin allsuite arnott bonded briefed bulax ...</td>\n",
       "      <td>2</td>\n",
       "      <td>0000045</td>\n",
       "    </tr>\n",
       "    <tr>\n",
       "      <th>1</th>\n",
       "      <td>0</td>\n",
       "      <td>dependent cellulosa allentown bases ergenc err...</td>\n",
       "      <td>23</td>\n",
       "      <td>0008858</td>\n",
       "    </tr>\n",
       "    <tr>\n",
       "      <th>2</th>\n",
       "      <td>0</td>\n",
       "      <td>cellulosa emphasizing edina celsius dependent ...</td>\n",
       "      <td>23</td>\n",
       "      <td>0001242</td>\n",
       "    </tr>\n",
       "    <tr>\n",
       "      <th>3</th>\n",
       "      <td>0</td>\n",
       "      <td>edina cellulosa allentown emphasizing celsius ...</td>\n",
       "      <td>23</td>\n",
       "      <td>0009002</td>\n",
       "    </tr>\n",
       "    <tr>\n",
       "      <th>4</th>\n",
       "      <td>0</td>\n",
       "      <td>downed ecologists edina emphasizing cellulosa ...</td>\n",
       "      <td>23</td>\n",
       "      <td>0009026</td>\n",
       "    </tr>\n",
       "  </tbody>\n",
       "</table>\n",
       "</div>"
      ],
      "text/plain": [
       "   category                                            content  clusters  \\\n",
       "0         0  alfonsin allsuite arnott bonded briefed bulax ...         2   \n",
       "1         0  dependent cellulosa allentown bases ergenc err...        23   \n",
       "2         0  cellulosa emphasizing edina celsius dependent ...        23   \n",
       "3         0  edina cellulosa allentown emphasizing celsius ...        23   \n",
       "4         0  downed ecologists edina emphasizing cellulosa ...        23   \n",
       "\n",
       "  document  \n",
       "0  0000045  \n",
       "1  0008858  \n",
       "2  0001242  \n",
       "3  0009002  \n",
       "4  0009026  "
      ]
     },
     "execution_count": 343,
     "metadata": {},
     "output_type": "execute_result"
    }
   ],
   "source": [
    "#load the dataFrame\n",
    "dataFrame = pd.read_csv('document_clustered.csv',sep=',')\n",
    "dataFrame.head()"
   ]
  },
  {
   "cell_type": "code",
   "execution_count": 344,
   "metadata": {},
   "outputs": [
    {
     "data": {
      "text/html": [
       "<div>\n",
       "<style scoped>\n",
       "    .dataframe tbody tr th:only-of-type {\n",
       "        vertical-align: middle;\n",
       "    }\n",
       "\n",
       "    .dataframe tbody tr th {\n",
       "        vertical-align: top;\n",
       "    }\n",
       "\n",
       "    .dataframe thead th {\n",
       "        text-align: right;\n",
       "    }\n",
       "</style>\n",
       "<table border=\"1\" class=\"dataframe\">\n",
       "  <thead>\n",
       "    <tr style=\"text-align: right;\">\n",
       "      <th></th>\n",
       "      <th>Xplots</th>\n",
       "      <th>Yplots</th>\n",
       "      <th>labels</th>\n",
       "      <th>titles</th>\n",
       "    </tr>\n",
       "  </thead>\n",
       "  <tbody>\n",
       "    <tr>\n",
       "      <th>0</th>\n",
       "      <td>106.930675</td>\n",
       "      <td>-0.003941</td>\n",
       "      <td>2</td>\n",
       "      <td>0000045</td>\n",
       "    </tr>\n",
       "    <tr>\n",
       "      <th>1</th>\n",
       "      <td>106.632188</td>\n",
       "      <td>-0.080366</td>\n",
       "      <td>23</td>\n",
       "      <td>0008858</td>\n",
       "    </tr>\n",
       "    <tr>\n",
       "      <th>2</th>\n",
       "      <td>106.678080</td>\n",
       "      <td>0.023572</td>\n",
       "      <td>23</td>\n",
       "      <td>0001242</td>\n",
       "    </tr>\n",
       "    <tr>\n",
       "      <th>3</th>\n",
       "      <td>106.662317</td>\n",
       "      <td>-0.131450</td>\n",
       "      <td>23</td>\n",
       "      <td>0009002</td>\n",
       "    </tr>\n",
       "    <tr>\n",
       "      <th>4</th>\n",
       "      <td>106.674321</td>\n",
       "      <td>-0.104139</td>\n",
       "      <td>23</td>\n",
       "      <td>0009026</td>\n",
       "    </tr>\n",
       "  </tbody>\n",
       "</table>\n",
       "</div>"
      ],
      "text/plain": [
       "       Xplots    Yplots  labels   titles\n",
       "0  106.930675 -0.003941       2  0000045\n",
       "1  106.632188 -0.080366      23  0008858\n",
       "2  106.678080  0.023572      23  0001242\n",
       "3  106.662317 -0.131450      23  0009002\n",
       "4  106.674321 -0.104139      23  0009026"
      ]
     },
     "execution_count": 344,
     "metadata": {},
     "output_type": "execute_result"
    }
   ],
   "source": [
    "#load the Dimensional dataFrame\n",
    "low_dimension_dataFrame = pd.read_csv('../cluster_document_dimensional.csv',sep=',')\n",
    "low_dimension_dataFrame.head()"
   ]
  },
  {
   "cell_type": "code",
   "execution_count": 345,
   "metadata": {},
   "outputs": [],
   "source": [
    "#preprocess the query\n",
    "from nltk.corpus import stopwords\n",
    "def preprocess_the_data(keyword):\n",
    "    stopset = set(stopwords.words('english'))\n",
    "    word_tokens = [words for words in nltk.word_tokenize(keyword)]\n",
    "    filtered_word_tokens = []\n",
    "    for query_words in word_tokens:\n",
    "        if query_words not in stopset:\n",
    "            filtered_word_tokens.append(query_words)\n",
    "    \n",
    "    return filtered_word_tokens"
   ]
  },
  {
   "cell_type": "code",
   "execution_count": 346,
   "metadata": {},
   "outputs": [],
   "source": [
    "def predict_the_cluster_it_belongs_to(keywords_as_list): #keyword_as_list passed as list\n",
    "    join_keywords = ' '.join(keywords_as_list)\n",
    "    cluster = trained_model.predict(['r{}'.format(join_keywords)])\n",
    "    return cluster"
   ]
  },
  {
   "cell_type": "markdown",
   "metadata": {},
   "source": [
    "1. User Keywords\n",
    "2. Predict the cluster\n",
    "3. Find the cosine similarity between the cluster documents\n",
    "4. Select Top 15 documents"
   ]
  },
  {
   "cell_type": "code",
   "execution_count": 347,
   "metadata": {},
   "outputs": [],
   "source": [
    "def bring_clustered_documents(cluster):\n",
    "    as_int = int(cluster)\n",
    "    documents = dataFrame.loc[dataFrame['clusters'] == as_int]\n",
    "    return documents"
   ]
  },
  {
   "cell_type": "markdown",
   "metadata": {},
   "source": [
    "Doing pairwise cosine similarity measures the shape of the linear_kernel(X,Y) X and Y should be same\n",
    "Using PCA Decomposition we decompose the matrix"
   ]
  },
  {
   "cell_type": "code",
   "execution_count": 348,
   "metadata": {},
   "outputs": [],
   "source": [
    "from sklearn.feature_extraction.text import TfidfVectorizer\n",
    "from sklearn.metrics.pairwise import linear_kernel\n",
    "from sklearn.decomposition import TruncatedSVD\n",
    "\n",
    "def find_cosine_similarites(user_keyword,cluster_dataFrame):\n",
    "    #convert the data into Series\n",
    "    df_content = cluster_dataFrame['content']\n",
    "    content_list = []\n",
    "    for contents in df_content:\n",
    "        content_list.append(contents)\n",
    "    tfidf = TfidfVectorizer(max_df=1.0,max_features=400,use_idf=True,ngram_range=(1,5))\n",
    "    tfidf_vect = tfidf.fit_transform(content_list) #matrix shape is (n_documents,400)\n",
    "    #tfidf for user query\n",
    "    user_query_tfidf = tfidf.fit_transform(['r{}'.format(user_keyword)]) #matrix shape is (n_words,n_words)\n",
    "    n_dimension = user_query_tfidf.shape[1]\n",
    "    #TruncateSVD\n",
    "    svd = TruncatedSVD(n_components=n_dimension)\n",
    "    svd_vect = svd.fit_transform(tfidf_vect) #matrix shape is (n_documents,n_dimension) here n_dimension isequals n_words\n",
    "    similarity = linear_kernel(user_query_tfidf,svd_vect).flatten()\n",
    "    return similarity"
   ]
  },
  {
   "cell_type": "code",
   "execution_count": 349,
   "metadata": {},
   "outputs": [],
   "source": [
    "#convert the document_related_to_keyword dataframe into list\n",
    "document_list_to_append= []\n",
    "\n",
    "def convert_into_list(document_dataFrame): #shape (?,4)\n",
    "    for index,row in document_dataFrame.iterrows():\n",
    "        document_list_to_append.append(row['document'])\n",
    "    \n",
    "    return document_list_to_append"
   ]
  },
  {
   "cell_type": "code",
   "execution_count": 353,
   "metadata": {},
   "outputs": [
    {
     "name": "stdout",
     "output_type": "stream",
     "text": [
      "Enter the keyword to search:commence crisanti dylex esex amroas \n",
      "[6]\n"
     ]
    }
   ],
   "source": [
    "user_keyword = input(\"Enter the keyword to search:\")\n",
    "preprocessed_user_keyword = preprocess_the_data(user_keyword) #user query in tokenized form\n",
    "cluster_it_belongs_to = predict_the_cluster_it_belongs_to(preprocessed_user_keyword) #return the cluster it belongs to\n",
    "documents_related_to_keyword = bring_clustered_documents(cluster_it_belongs_to) #return as dataFrame\n",
    "documents_list = convert_into_list(documents_related_to_keyword) #convert into list\n",
    "#find the cosine similarity between each document\n",
    "cosine_simi_documents = find_cosine_similarites(user_keyword,documents_related_to_keyword)\n",
    "#make sure the length of cosine_simi_documents and documents_list are same \n",
    "documents_and_its_similarity = dict(zip(documents_list,cosine_simi_documents))\n",
    "print(cluster_it_belongs_to)"
   ]
  },
  {
   "cell_type": "code",
   "execution_count": 354,
   "metadata": {},
   "outputs": [],
   "source": [
    "#pick top 15 documents from the dictionary\n",
    "#using Counter to pick top values TimeComplexity will be O(nlogk) n elements K values\n",
    "from collections import Counter\n",
    "d = Counter(documents_and_its_similarity)\n",
    "document_to_show = []\n",
    "for docs,similarity in d.most_common(15):\n",
    "    document_to_show.append(docs)"
   ]
  },
  {
   "cell_type": "code",
   "execution_count": 355,
   "metadata": {},
   "outputs": [
    {
     "data": {
      "text/plain": [
       "['0007145',\n",
       " '0007378',\n",
       " '0000012',\n",
       " '0008209',\n",
       " '0007159',\n",
       " '0004111',\n",
       " '0006020',\n",
       " '0001384',\n",
       " '0003977',\n",
       " '0006067',\n",
       " '0002251',\n",
       " '0002369',\n",
       " '0004563',\n",
       " '0001663',\n",
       " '0005378']"
      ]
     },
     "execution_count": 355,
     "metadata": {},
     "output_type": "execute_result"
    }
   ],
   "source": [
    "document_to_show"
   ]
  },
  {
   "cell_type": "code",
   "execution_count": null,
   "metadata": {},
   "outputs": [],
   "source": []
  }
 ],
 "metadata": {
  "kernelspec": {
   "display_name": "Python 3",
   "language": "python",
   "name": "python3"
  },
  "language_info": {
   "codemirror_mode": {
    "name": "ipython",
    "version": 3
   },
   "file_extension": ".py",
   "mimetype": "text/x-python",
   "name": "python",
   "nbconvert_exporter": "python",
   "pygments_lexer": "ipython3",
   "version": "3.5.2"
  }
 },
 "nbformat": 4,
 "nbformat_minor": 2
}
