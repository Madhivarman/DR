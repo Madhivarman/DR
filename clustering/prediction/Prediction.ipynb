{
 "cells": [
  {
   "cell_type": "code",
   "execution_count": 1,
   "metadata": {},
   "outputs": [],
   "source": [
    "import pandas as pd\n",
    "import numpy as np\n",
    "import nltk\n",
    "from nltk import word_tokenize\n",
    "import os"
   ]
  },
  {
   "cell_type": "code",
   "execution_count": 2,
   "metadata": {},
   "outputs": [],
   "source": [
    "#reading the document dataframe which cluster it belongs to\n",
    "#import the document_clustered.csv file\n",
    "dataFrame = pd.read_csv('document_clustered.csv',sep=',',index_col=None)"
   ]
  },
  {
   "cell_type": "code",
   "execution_count": 3,
   "metadata": {},
   "outputs": [
    {
     "data": {
      "text/html": [
       "<div>\n",
       "<style scoped>\n",
       "    .dataframe tbody tr th:only-of-type {\n",
       "        vertical-align: middle;\n",
       "    }\n",
       "\n",
       "    .dataframe tbody tr th {\n",
       "        vertical-align: top;\n",
       "    }\n",
       "\n",
       "    .dataframe thead th {\n",
       "        text-align: right;\n",
       "    }\n",
       "</style>\n",
       "<table border=\"1\" class=\"dataframe\">\n",
       "  <thead>\n",
       "    <tr style=\"text-align: right;\">\n",
       "      <th></th>\n",
       "      <th>category</th>\n",
       "      <th>content</th>\n",
       "      <th>clusters</th>\n",
       "      <th>document</th>\n",
       "    </tr>\n",
       "  </thead>\n",
       "  <tbody>\n",
       "    <tr>\n",
       "      <th>0</th>\n",
       "      <td>0</td>\n",
       "      <td>alfonsin allsuite arnott bonded briefed bulax ...</td>\n",
       "      <td>2</td>\n",
       "      <td>0000045</td>\n",
       "    </tr>\n",
       "    <tr>\n",
       "      <th>1</th>\n",
       "      <td>0</td>\n",
       "      <td>dependent cellulosa allentown bases ergenc err...</td>\n",
       "      <td>23</td>\n",
       "      <td>0008858</td>\n",
       "    </tr>\n",
       "    <tr>\n",
       "      <th>2</th>\n",
       "      <td>0</td>\n",
       "      <td>cellulosa emphasizing edina celsius dependent ...</td>\n",
       "      <td>23</td>\n",
       "      <td>0001242</td>\n",
       "    </tr>\n",
       "    <tr>\n",
       "      <th>3</th>\n",
       "      <td>0</td>\n",
       "      <td>edina cellulosa allentown emphasizing celsius ...</td>\n",
       "      <td>23</td>\n",
       "      <td>0009002</td>\n",
       "    </tr>\n",
       "    <tr>\n",
       "      <th>4</th>\n",
       "      <td>0</td>\n",
       "      <td>downed ecologists edina emphasizing cellulosa ...</td>\n",
       "      <td>23</td>\n",
       "      <td>0009026</td>\n",
       "    </tr>\n",
       "  </tbody>\n",
       "</table>\n",
       "</div>"
      ],
      "text/plain": [
       "   category                                            content  clusters  \\\n",
       "0         0  alfonsin allsuite arnott bonded briefed bulax ...         2   \n",
       "1         0  dependent cellulosa allentown bases ergenc err...        23   \n",
       "2         0  cellulosa emphasizing edina celsius dependent ...        23   \n",
       "3         0  edina cellulosa allentown emphasizing celsius ...        23   \n",
       "4         0  downed ecologists edina emphasizing cellulosa ...        23   \n",
       "\n",
       "  document  \n",
       "0  0000045  \n",
       "1  0008858  \n",
       "2  0001242  \n",
       "3  0009002  \n",
       "4  0009026  "
      ]
     },
     "execution_count": 3,
     "metadata": {},
     "output_type": "execute_result"
    }
   ],
   "source": [
    "dataFrame.head()"
   ]
  },
  {
   "cell_type": "code",
   "execution_count": 4,
   "metadata": {},
   "outputs": [],
   "source": [
    "#lets train the model with KNeighbourclassifier\n",
    "X= dataFrame['content']\n",
    "y= dataFrame['clusters'] #type is pandas.core.series.Series"
   ]
  },
  {
   "cell_type": "code",
   "execution_count": 5,
   "metadata": {},
   "outputs": [],
   "source": [
    "#import necessary libraries from scikit learn\n",
    "from sklearn.pipeline import Pipeline\n",
    "from sklearn.feature_extraction.text import TfidfVectorizer\n",
    "from sklearn.neighbors import KNeighborsClassifier\n",
    "import re"
   ]
  },
  {
   "cell_type": "code",
   "execution_count": 6,
   "metadata": {},
   "outputs": [],
   "source": [
    "def tokenize(text):\n",
    "    words = [words.lower() for words in nltk.word_tokenize(text)]\n",
    "    filter_tokens = []\n",
    "    for tokens in words:\n",
    "        if re.search('[a-zA-z]',tokens):\n",
    "            filter_tokens.append(tokens)\n",
    "    return filter_tokens"
   ]
  },
  {
   "cell_type": "code",
   "execution_count": 7,
   "metadata": {},
   "outputs": [
    {
     "name": "stdout",
     "output_type": "stream",
     "text": [
      "CPU times: user 3.49 s, sys: 12 ms, total: 3.5 s\n",
      "Wall time: 3.68 s\n",
      "(11475, 14240)\n"
     ]
    }
   ],
   "source": [
    "#TfidfVectorizer\n",
    "tfidf_vectorizer = TfidfVectorizer(max_df=1.0,max_features=15000,\n",
    "                                   use_idf=True,tokenizer=tokenize,ngram_range=(1,3))\n",
    "%time tfidf_matrix = tfidf_vectorizer.fit_transform(X)\n",
    "print(tfidf_matrix.shape)"
   ]
  },
  {
   "cell_type": "code",
   "execution_count": 8,
   "metadata": {},
   "outputs": [],
   "source": [
    "from sklearn.model_selection import train_test_split\n",
    "X_train,X_test,Y_train,Y_test = train_test_split(X,y,test_size=0.3)"
   ]
  },
  {
   "cell_type": "code",
   "execution_count": 9,
   "metadata": {},
   "outputs": [
    {
     "name": "stdout",
     "output_type": "stream",
     "text": [
      "8032 3443 8032 3443\n"
     ]
    }
   ],
   "source": [
    "print(len(X_train),len(X_test),len(Y_train),len(Y_test)) #total dataset is splitted as 80,70"
   ]
  },
  {
   "cell_type": "code",
   "execution_count": 10,
   "metadata": {},
   "outputs": [
    {
     "name": "stdout",
     "output_type": "stream",
     "text": [
      "CPU times: user 1.04 s, sys: 48 ms, total: 1.09 s\n",
      "Wall time: 1.09 s\n"
     ]
    }
   ],
   "source": [
    "#Pipeline\n",
    "knn_clf = Pipeline([('vect',TfidfVectorizer()),('clf',KNeighborsClassifier(n_neighbors=50))])\n",
    "%time knn_fit = knn_clf.fit(X_train,Y_train).predict(X_test)\n",
    "accuracy = np.mean(knn_fit == Y_test)"
   ]
  },
  {
   "cell_type": "code",
   "execution_count": 11,
   "metadata": {},
   "outputs": [
    {
     "name": "stdout",
     "output_type": "stream",
     "text": [
      "Accuracy using KNeighbors is 66.047051989544\n"
     ]
    }
   ],
   "source": [
    "print(\"Accuracy using KNeighbors is {}\".format(accuracy * 100))"
   ]
  },
  {
   "cell_type": "code",
   "execution_count": 12,
   "metadata": {},
   "outputs": [
    {
     "name": "stdout",
     "output_type": "stream",
     "text": [
      "CPU times: user 0 ns, sys: 0 ns, total: 0 ns\n",
      "Wall time: 260 µs\n",
      "Accuracy using Random Forest Classifier is:100.0\n"
     ]
    },
    {
     "name": "stderr",
     "output_type": "stream",
     "text": [
      "/usr/local/lib/python3.5/dist-packages/sklearn/ensemble/forest.py:453: UserWarning: Some inputs do not have OOB scores. This probably means too few trees were used to compute any reliable oob estimates.\n",
      "  warn(\"Some inputs do not have OOB scores. \"\n",
      "/usr/local/lib/python3.5/dist-packages/sklearn/ensemble/forest.py:458: RuntimeWarning: invalid value encountered in true_divide\n",
      "  predictions[k].sum(axis=1)[:, np.newaxis])\n"
     ]
    }
   ],
   "source": [
    "#Random Forest Classifier\n",
    "from sklearn .ensemble import RandomForestClassifier\n",
    "%time rndm_clf = Pipeline([('tfidf',TfidfVectorizer()),('clf',RandomForestClassifier(n_estimators=20,criterion='gini',oob_score=True))])\n",
    "\n",
    "rndm_predict = rndm_clf.fit(X_train,Y_train).predict(X_test)\n",
    "rndm_score = np.mean(rndm_predict==Y_test)\n",
    "\n",
    "print(\"Accuracy using Random Forest Classifier is:{}\".format(rndm_score * 100))"
   ]
  },
  {
   "cell_type": "code",
   "execution_count": 14,
   "metadata": {},
   "outputs": [
    {
     "data": {
      "text/plain": [
       "['cluster_classification_model.pkl']"
      ]
     },
     "execution_count": 14,
     "metadata": {},
     "output_type": "execute_result"
    }
   ],
   "source": [
    "#save the model\n",
    "from sklearn.externals import joblib\n",
    "joblib.dump(rndm_clf,'cluster_classification_model.pkl')"
   ]
  },
  {
   "cell_type": "code",
   "execution_count": 19,
   "metadata": {},
   "outputs": [
    {
     "data": {
      "text/plain": [
       "array([48])"
      ]
     },
     "execution_count": 19,
     "metadata": {},
     "output_type": "execute_result"
    }
   ],
   "source": [
    "#load the saved model\n",
    "#\n",
    "trained_model = joblib.load('cluster_classification_model.pkl')"
   ]
  },
  {
   "cell_type": "code",
   "execution_count": null,
   "metadata": {},
   "outputs": [],
   "source": []
  }
 ],
 "metadata": {
  "kernelspec": {
   "display_name": "Python 3",
   "language": "python",
   "name": "python3"
  },
  "language_info": {
   "codemirror_mode": {
    "name": "ipython",
    "version": 3
   },
   "file_extension": ".py",
   "mimetype": "text/x-python",
   "name": "python",
   "nbconvert_exporter": "python",
   "pygments_lexer": "ipython3",
   "version": "3.5.2"
  }
 },
 "nbformat": 4,
 "nbformat_minor": 2
}
