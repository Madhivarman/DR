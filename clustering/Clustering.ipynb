{
 "cells": [
  {
   "cell_type": "code",
   "execution_count": 1,
   "metadata": {},
   "outputs": [],
   "source": [
    "import numpy as np\n",
    "import pandas as pd\n",
    "import nltk\n",
    "import re\n",
    "import os\n",
    "import sys\n",
    "import codecs\n",
    "import mpld3"
   ]
  },
  {
   "cell_type": "code",
   "execution_count": 2,
   "metadata": {},
   "outputs": [],
   "source": [
    "# initially we need document folders and document id's\n",
    "path_to_dataset = '/home/madhi/Documents/python programs/neuralnetworks/fp/Reuters21578-Apte-115Cat/training'\n",
    "folder_list = os.listdir(path_to_dataset)"
   ]
  },
  {
   "cell_type": "code",
   "execution_count": 3,
   "metadata": {},
   "outputs": [
    {
     "name": "stdout",
     "output_type": "stream",
     "text": [
      "('palladium', ['0001792', '0001862'])\n"
     ]
    }
   ],
   "source": [
    "#make a dictionary of document category and documents contain in the folder\n",
    "cat_and_docs = [] #list\n",
    "document_folder = [] #list\n",
    "for docs_folder in folder_list:\n",
    "    folder_path = path_to_dataset + \"/\" + docs_folder\n",
    "    list_of_documents = os.listdir(folder_path)\n",
    "    for real_docs in list_of_documents:\n",
    "        document_folder.append(real_docs)\n",
    "    #append folder_name and docs into the same list\n",
    "    cat_and_docs.append((docs_folder,document_folder))\n",
    "    #empty the document_folder list\n",
    "    document_folder = []\n",
    "    \n",
    "print(cat_and_docs[1]) #the list is in format category and number of docs in that list"
   ]
  },
  {
   "cell_type": "code",
   "execution_count": 4,
   "metadata": {},
   "outputs": [],
   "source": [
    "#make into dictionary\n",
    "cate = [] \n",
    "documents = []\n",
    "\n",
    "for category,docs in cat_and_docs:\n",
    "    cate.append(category)\n",
    "    documents.append(docs)\n",
    "    \n",
    "#convert into dictionary\n",
    "total_dataset = dict(zip(cate,documents))"
   ]
  },
  {
   "cell_type": "code",
   "execution_count": 5,
   "metadata": {},
   "outputs": [
    {
     "data": {
      "text/plain": [
       "116"
      ]
     },
     "execution_count": 5,
     "metadata": {},
     "output_type": "execute_result"
    }
   ],
   "source": [
    "len(total_dataset)"
   ]
  },
  {
   "cell_type": "code",
   "execution_count": 36,
   "metadata": {},
   "outputs": [
    {
     "data": {
      "text/html": [
       "<div>\n",
       "<style scoped>\n",
       "    .dataframe tbody tr th:only-of-type {\n",
       "        vertical-align: middle;\n",
       "    }\n",
       "\n",
       "    .dataframe tbody tr th {\n",
       "        vertical-align: top;\n",
       "    }\n",
       "\n",
       "    .dataframe thead th {\n",
       "        text-align: right;\n",
       "    }\n",
       "</style>\n",
       "<table border=\"1\" class=\"dataframe\">\n",
       "  <thead>\n",
       "    <tr style=\"text-align: right;\">\n",
       "      <th></th>\n",
       "      <th>Document_id</th>\n",
       "      <th>Keywords</th>\n",
       "    </tr>\n",
       "  </thead>\n",
       "  <tbody>\n",
       "    <tr>\n",
       "      <th>0</th>\n",
       "      <td>0</td>\n",
       "      <td>added oilseed processing mill standstill since...</td>\n",
       "    </tr>\n",
       "    <tr>\n",
       "      <th>1</th>\n",
       "      <td>0</td>\n",
       "      <td>march traded volumes uk grain potato futures f...</td>\n",
       "    </tr>\n",
       "    <tr>\n",
       "      <th>2</th>\n",
       "      <td>0</td>\n",
       "      <td>trades reported far us soymeal indicated uncha...</td>\n",
       "    </tr>\n",
       "    <tr>\n",
       "      <th>3</th>\n",
       "      <td>0</td>\n",
       "      <td>exported january european community countries ...</td>\n",
       "    </tr>\n",
       "    <tr>\n",
       "      <th>4</th>\n",
       "      <td>0</td>\n",
       "      <td>foreign meal users waiting expected surge ship...</td>\n",
       "    </tr>\n",
       "  </tbody>\n",
       "</table>\n",
       "</div>"
      ],
      "text/plain": [
       "   Document_id                                           Keywords\n",
       "0            0  added oilseed processing mill standstill since...\n",
       "1            0  march traded volumes uk grain potato futures f...\n",
       "2            0  trades reported far us soymeal indicated uncha...\n",
       "3            0  exported january european community countries ...\n",
       "4            0  foreign meal users waiting expected surge ship..."
      ]
     },
     "execution_count": 36,
     "metadata": {},
     "output_type": "execute_result"
    }
   ],
   "source": [
    "feature_df = pd.read_csv('features_2.txt',sep=',')\n",
    "feature_df.head()"
   ]
  },
  {
   "cell_type": "code",
   "execution_count": 7,
   "metadata": {},
   "outputs": [
    {
     "name": "stdout",
     "output_type": "stream",
     "text": [
      "(11475,) (11475,)\n"
     ]
    }
   ],
   "source": [
    "doc_category = feature_df['Document_id']\n",
    "features = feature_df['Keywords']\n",
    "#convert into pandas Series\n",
    "features_id = pd.Series(doc_category)\n",
    "features_series = pd.Series(features)\n",
    "\n",
    "print(features_id.shape,features_series.shape)"
   ]
  },
  {
   "cell_type": "code",
   "execution_count": 8,
   "metadata": {},
   "outputs": [
    {
     "name": "stdout",
     "output_type": "stream",
     "text": [
      "11475\n"
     ]
    }
   ],
   "source": [
    "from sklearn.feature_extraction.text import TfidfVectorizer\n",
    "#in features_series list all features is considered as a single string\n",
    "#we need to sepearate the words and have to apply tf-idf vectorizer and ngram to each words\n",
    "def document_category(features_id):\n",
    "    docs_category = []\n",
    "    for ids in features_id:\n",
    "        docs_category.append(ids)\n",
    "    return docs_category\n",
    "\n",
    "def separate_features_the_series(feature_series):\n",
    "    main_feature_series = []\n",
    "    features_stripped = []\n",
    "    for features in feature_series:\n",
    "        data_features = features.replace(\",\",\" \")\n",
    "        main_feature_series.append(data_features)\n",
    "    \n",
    "    return main_feature_series\n",
    "\n",
    "docs_id = document_category(features_id)\n",
    "features_splitted = separate_features_the_series(features_series)\n",
    "print(len(features_splitted))"
   ]
  },
  {
   "cell_type": "code",
   "execution_count": 9,
   "metadata": {},
   "outputs": [],
   "source": [
    "#tokenize and stem the words\n",
    "import nltk\n",
    "from nltk.stem.snowball import SnowballStemmer\n",
    "stemmer = SnowballStemmer('english')"
   ]
  },
  {
   "cell_type": "code",
   "execution_count": 10,
   "metadata": {},
   "outputs": [],
   "source": [
    "def tokenize_and_stem(text):\n",
    "    tokens = [word for sent in nltk.sent_tokenize(text) for word in nltk.word_tokenize(sent)]\n",
    "    filtered_tokens = []\n",
    "    for token in tokens:\n",
    "        if re.search('[a-zA-Z]',token):\n",
    "            filtered_tokens.append(token)\n",
    "    stems = [stemmer.stem(t) for t in filtered_tokens]\n",
    "    return stems\n",
    "\n",
    "def tokenize_only(text):\n",
    "    tokens = [word.lower() for sent in nltk.sent_tokenize(text) for word in nltk.word_tokenize(sent)]\n",
    "    filtered_tokens = []\n",
    "    for token in tokens:\n",
    "        if re.search('[a-zA-Z]',token):\n",
    "            filtered_tokens.append(token)\n",
    "    return filtered_tokens"
   ]
  },
  {
   "cell_type": "code",
   "execution_count": 11,
   "metadata": {},
   "outputs": [
    {
     "name": "stdout",
     "output_type": "stream",
     "text": [
      "CPU times: user 50.1 s, sys: 240 ms, total: 50.3 s\n",
      "Wall time: 50.5 s\n",
      "(11475, 10000)\n"
     ]
    }
   ],
   "source": [
    "tfidf_vectorizer = TfidfVectorizer(max_df=1.0,max_features=10000,use_idf=True,tokenizer=tokenize_and_stem,ngram_range=(1,3))\n",
    "%time  tfidf_matrix = tfidf_vectorizer.fit_transform(features_splitted)\n",
    "print(tfidf_matrix.shape)"
   ]
  },
  {
   "cell_type": "code",
   "execution_count": 12,
   "metadata": {},
   "outputs": [],
   "source": [
    "terms = tfidf_vectorizer.get_feature_names() #length is 10000"
   ]
  },
  {
   "cell_type": "code",
   "execution_count": 32,
   "metadata": {},
   "outputs": [],
   "source": [
    "from sklearn.metrics.pairwise import cosine_similarity\n",
    "\n",
    "dist = 1 - cosine_similarity(tfidf_matrix)"
   ]
  },
  {
   "cell_type": "code",
   "execution_count": 34,
   "metadata": {},
   "outputs": [
    {
     "data": {
      "text/plain": [
       "(11475, 11475)"
      ]
     },
     "execution_count": 34,
     "metadata": {},
     "output_type": "execute_result"
    }
   ],
   "source": [
    "dist.shape"
   ]
  },
  {
   "cell_type": "code",
   "execution_count": 14,
   "metadata": {},
   "outputs": [
    {
     "data": {
      "text/plain": [
       "116"
      ]
     },
     "execution_count": 14,
     "metadata": {},
     "output_type": "execute_result"
    }
   ],
   "source": [
    "len(cate)"
   ]
  },
  {
   "cell_type": "code",
   "execution_count": 15,
   "metadata": {},
   "outputs": [
    {
     "data": {
      "text/plain": [
       "116"
      ]
     },
     "execution_count": 15,
     "metadata": {},
     "output_type": "execute_result"
    }
   ],
   "source": [
    "len(documents)"
   ]
  },
  {
   "cell_type": "code",
   "execution_count": 54,
   "metadata": {},
   "outputs": [],
   "source": [
    "from sklearn.externals import joblib\n",
    "from sklearn.cluster import KMeans\n",
    "\n",
    "num_clusters = 60\n",
    "km = KMeans(n_clusters = num_clusters)"
   ]
  },
  {
   "cell_type": "code",
   "execution_count": 43,
   "metadata": {},
   "outputs": [],
   "source": [
    "#decompose the tfidf_matrix (11475,10000) into (11475,500)\n",
    "from sklearn.decomposition import TruncatedSVD\n",
    "svd = TruncatedSVD(n_components=500).fit_transform(tfidf_matrix) #array shape is(11475,500)"
   ]
  },
  {
   "cell_type": "code",
   "execution_count": 55,
   "metadata": {},
   "outputs": [
    {
     "name": "stdout",
     "output_type": "stream",
     "text": [
      "CPU times: user 40.8 s, sys: 15.3 s, total: 56.1 s\n",
      "Wall time: 35.9 s\n"
     ]
    },
    {
     "data": {
      "text/plain": [
       "KMeans(algorithm='auto', copy_x=True, init='k-means++', max_iter=300,\n",
       "    n_clusters=60, n_init=10, n_jobs=1, precompute_distances='auto',\n",
       "    random_state=None, tol=0.0001, verbose=0)"
      ]
     },
     "execution_count": 55,
     "metadata": {},
     "output_type": "execute_result"
    }
   ],
   "source": [
    "%time km.fit(svd)"
   ]
  },
  {
   "cell_type": "code",
   "execution_count": 56,
   "metadata": {},
   "outputs": [
    {
     "name": "stdout",
     "output_type": "stream",
     "text": [
      "CPU times: user 4 ms, sys: 0 ns, total: 4 ms\n",
      "Wall time: 56 ms\n"
     ]
    },
    {
     "data": {
      "text/plain": [
       "['clusters_2.pkl']"
      ]
     },
     "execution_count": 56,
     "metadata": {},
     "output_type": "execute_result"
    }
   ],
   "source": [
    "%time joblib.dump(km,'clusters_2.pkl')"
   ]
  },
  {
   "cell_type": "code",
   "execution_count": 57,
   "metadata": {},
   "outputs": [
    {
     "name": "stdout",
     "output_type": "stream",
     "text": [
      "[42, 34, 44, 21, 44, 34, 48, 21, 21, 15, 21, 21, 9, 0, 25, 38, 36, 9, 25, 36, 25, 0, 44, 36, 10, 7, 44, 43, 28, 29, 43, 29, 9, 38, 25, 43, 36, 38, 28, 9, 10, 9, 9, 34, 38, 29, 9, 43, 9, 25, 25, 55, 8, 38, 34, 36, 25, 58, 9, 28, 9, 28, 25, 38, 25, 9, 25, 23, 11, 36, 38, 0, 36, 28, 36, 10, 44, 44, 9, 43, 11, 25, 7, 25, 25, 0, 0, 25, 10, 11, 23, 11, 9, 36, 25, 0]\n"
     ]
    }
   ],
   "source": [
    "#load the cluster\n",
    "cl_load = joblib.load('clusters_2.pkl')\n",
    "def_clusters = cl_load.labels_.tolist()\n",
    "print(def_clusters[:96]) #just print to see the clusters"
   ]
  },
  {
   "cell_type": "code",
   "execution_count": 58,
   "metadata": {},
   "outputs": [],
   "source": [
    "#convert features_splitted into a Series Pandas\n",
    "document = {'category':docs_id,'content':features_splitted ,'clusters':def_clusters}\n",
    "frame = pd.DataFrame(document,index=[def_clusters],columns=['category','content','clusters'])"
   ]
  },
  {
   "cell_type": "code",
   "execution_count": 59,
   "metadata": {},
   "outputs": [
    {
     "data": {
      "text/plain": [
       "25    1467\n",
       "44     941\n",
       "35     825\n",
       "21     507\n",
       "58     492\n",
       "4      454\n",
       "29     453\n",
       "46     366\n",
       "36     360\n",
       "22     326\n",
       "9      307\n",
       "30     305\n",
       "3      263\n",
       "8      217\n",
       "45     201\n",
       "52     185\n",
       "57     175\n",
       "18     150\n",
       "10     149\n",
       "59     140\n",
       "6      134\n",
       "0      133\n",
       "17     132\n",
       "55     128\n",
       "16     124\n",
       "51     122\n",
       "56     118\n",
       "13     116\n",
       "38     113\n",
       "7      113\n",
       "48     112\n",
       "19     111\n",
       "41     108\n",
       "12     104\n",
       "31      99\n",
       "49      97\n",
       "14      88\n",
       "43      86\n",
       "28      85\n",
       "15      82\n",
       "42      78\n",
       "5       78\n",
       "26      74\n",
       "34      69\n",
       "33      66\n",
       "20      61\n",
       "2       60\n",
       "11      59\n",
       "40      50\n",
       "53      50\n",
       "54      48\n",
       "50      44\n",
       "39      42\n",
       "37      41\n",
       "24      36\n",
       "47      34\n",
       "1       31\n",
       "27      22\n",
       "32      22\n",
       "23      22\n",
       "Name: clusters, dtype: int64"
      ]
     },
     "execution_count": 59,
     "metadata": {},
     "output_type": "execute_result"
    }
   ],
   "source": [
    "frame['clusters'].value_counts()"
   ]
  },
  {
   "cell_type": "code",
   "execution_count": 60,
   "metadata": {},
   "outputs": [
    {
     "data": {
      "text/html": [
       "<div>\n",
       "<style scoped>\n",
       "    .dataframe tbody tr th:only-of-type {\n",
       "        vertical-align: middle;\n",
       "    }\n",
       "\n",
       "    .dataframe tbody tr th {\n",
       "        vertical-align: top;\n",
       "    }\n",
       "\n",
       "    .dataframe thead th {\n",
       "        text-align: right;\n",
       "    }\n",
       "</style>\n",
       "<table border=\"1\" class=\"dataframe\">\n",
       "  <thead>\n",
       "    <tr style=\"text-align: right;\">\n",
       "      <th></th>\n",
       "      <th>category</th>\n",
       "      <th>content</th>\n",
       "      <th>clusters</th>\n",
       "    </tr>\n",
       "  </thead>\n",
       "  <tbody>\n",
       "    <tr>\n",
       "      <th>25</th>\n",
       "      <td>87</td>\n",
       "      <td>mln dlrs hogan said systems provides integrate...</td>\n",
       "      <td>25</td>\n",
       "    </tr>\n",
       "    <tr>\n",
       "      <th>25</th>\n",
       "      <td>87</td>\n",
       "      <td>march vertex industries inc computer transceiv...</td>\n",
       "      <td>25</td>\n",
       "    </tr>\n",
       "    <tr>\n",
       "      <th>25</th>\n",
       "      <td>87</td>\n",
       "      <td>march renouf corp international said extended ...</td>\n",
       "      <td>25</td>\n",
       "    </tr>\n",
       "    <tr>\n",
       "      <th>25</th>\n",
       "      <td>87</td>\n",
       "      <td>company said acquisition still subject regulat...</td>\n",
       "      <td>25</td>\n",
       "    </tr>\n",
       "    <tr>\n",
       "      <th>19</th>\n",
       "      <td>87</td>\n",
       "      <td>group investment firms told securities exchang...</td>\n",
       "      <td>19</td>\n",
       "    </tr>\n",
       "    <tr>\n",
       "      <th>35</th>\n",
       "      <td>87</td>\n",
       "      <td>`` chrysler take renault stake american motors...</td>\n",
       "      <td>35</td>\n",
       "    </tr>\n",
       "    <tr>\n",
       "      <th>25</th>\n",
       "      <td>87</td>\n",
       "      <td>placed six mln dlrs order powercise internatio...</td>\n",
       "      <td>25</td>\n",
       "    </tr>\n",
       "    <tr>\n",
       "      <th>25</th>\n",
       "      <td>87</td>\n",
       "      <td>said book value unit mln dlrs teva said contin...</td>\n",
       "      <td>25</td>\n",
       "    </tr>\n",
       "    <tr>\n",
       "      <th>29</th>\n",
       "      <td>87</td>\n",
       "      <td>company said warrants exercisable five years p...</td>\n",
       "      <td>29</td>\n",
       "    </tr>\n",
       "    <tr>\n",
       "      <th>35</th>\n",
       "      <td>87</td>\n",
       "      <td>shr blah blah blah row gets bid harcourt brace...</td>\n",
       "      <td>35</td>\n",
       "    </tr>\n",
       "  </tbody>\n",
       "</table>\n",
       "</div>"
      ],
      "text/plain": [
       "    category                                            content  clusters\n",
       "25        87  mln dlrs hogan said systems provides integrate...        25\n",
       "25        87  march vertex industries inc computer transceiv...        25\n",
       "25        87  march renouf corp international said extended ...        25\n",
       "25        87  company said acquisition still subject regulat...        25\n",
       "19        87  group investment firms told securities exchang...        19\n",
       "35        87  `` chrysler take renault stake american motors...        35\n",
       "25        87  placed six mln dlrs order powercise internatio...        25\n",
       "25        87  said book value unit mln dlrs teva said contin...        25\n",
       "29        87  company said warrants exercisable five years p...        29\n",
       "35        87  shr blah blah blah row gets bid harcourt brace...        35"
      ]
     },
     "execution_count": 60,
     "metadata": {},
     "output_type": "execute_result"
    }
   ],
   "source": [
    "frame.iloc[9658:9668] "
   ]
  },
  {
   "cell_type": "code",
   "execution_count": 61,
   "metadata": {},
   "outputs": [
    {
     "data": {
      "text/plain": [
       "clusters\n",
       "0      6.496241\n",
       "1     81.451613\n",
       "2     55.100000\n",
       "3     44.000000\n",
       "4     46.964758\n",
       "5     43.564103\n",
       "6     44.000000\n",
       "7     43.884956\n",
       "8     48.769585\n",
       "9      4.599349\n",
       "10    26.751678\n",
       "11     1.000000\n",
       "12    44.000000\n",
       "13    47.232759\n",
       "14    44.000000\n",
       "15    57.146341\n",
       "16    44.000000\n",
       "17    60.333333\n",
       "18    35.666667\n",
       "19    87.000000\n",
       "20    32.885246\n",
       "21    66.536489\n",
       "22    60.843558\n",
       "23     2.954545\n",
       "24    69.861111\n",
       "25    59.993865\n",
       "26    58.216216\n",
       "27    44.000000\n",
       "28     4.035294\n",
       "29    69.273731\n",
       "30    44.000000\n",
       "31    72.121212\n",
       "32    54.500000\n",
       "33    45.939394\n",
       "34    50.463768\n",
       "35    49.591515\n",
       "36    18.422222\n",
       "37    36.560976\n",
       "38     1.000000\n",
       "39    96.023810\n",
       "40    44.000000\n",
       "41    44.000000\n",
       "42    49.628205\n",
       "43     1.000000\n",
       "44    46.741764\n",
       "45    44.427861\n",
       "46    49.587432\n",
       "47    52.411765\n",
       "48    65.196429\n",
       "49    44.000000\n",
       "50    44.000000\n",
       "51    44.000000\n",
       "52    44.000000\n",
       "53    45.600000\n",
       "54    40.937500\n",
       "55    51.359375\n",
       "56    24.500000\n",
       "57    59.588571\n",
       "58    74.750000\n",
       "59    44.000000\n",
       "Name: category, dtype: float64"
      ]
     },
     "execution_count": 61,
     "metadata": {},
     "output_type": "execute_result"
    }
   ],
   "source": [
    "grouped = frame['category'].groupby(frame['clusters'])\n",
    "grouped.mean() "
   ]
  },
  {
   "cell_type": "code",
   "execution_count": 62,
   "metadata": {},
   "outputs": [
    {
     "name": "stdout",
     "output_type": "stream",
     "text": [
      "11476\n"
     ]
    }
   ],
   "source": [
    "#convert document into series\n",
    "series_docs = pd.Series(documents)\n",
    "individual_docs = [] #to store individual documents\n",
    "for document in series_docs:\n",
    "    for indi_docs in document:\n",
    "        individual_docs.append(indi_docs)\n",
    "\n",
    "individual_docs.pop()\n",
    "print(len(individual_docs))"
   ]
  },
  {
   "cell_type": "code",
   "execution_count": 63,
   "metadata": {},
   "outputs": [
    {
     "name": "stdout",
     "output_type": "stream",
     "text": [
      "(11475,)\n"
     ]
    }
   ],
   "source": [
    "series_indi_docs = pd.Series(individual_docs)\n",
    "series_indi_docs = series_indi_docs[:-1]\n",
    "print(series_indi_docs.shape) #the shape of frame is (11475,4)"
   ]
  },
  {
   "cell_type": "code",
   "execution_count": 64,
   "metadata": {},
   "outputs": [
    {
     "data": {
      "text/html": [
       "<div>\n",
       "<style scoped>\n",
       "    .dataframe tbody tr th:only-of-type {\n",
       "        vertical-align: middle;\n",
       "    }\n",
       "\n",
       "    .dataframe tbody tr th {\n",
       "        vertical-align: top;\n",
       "    }\n",
       "\n",
       "    .dataframe thead th {\n",
       "        text-align: right;\n",
       "    }\n",
       "</style>\n",
       "<table border=\"1\" class=\"dataframe\">\n",
       "  <thead>\n",
       "    <tr style=\"text-align: right;\">\n",
       "      <th></th>\n",
       "      <th>category</th>\n",
       "      <th>content</th>\n",
       "      <th>clusters</th>\n",
       "    </tr>\n",
       "  </thead>\n",
       "  <tbody>\n",
       "    <tr>\n",
       "      <th>42</th>\n",
       "      <td>0</td>\n",
       "      <td>added oilseed processing mill standstill since...</td>\n",
       "      <td>42</td>\n",
       "    </tr>\n",
       "    <tr>\n",
       "      <th>34</th>\n",
       "      <td>0</td>\n",
       "      <td>march traded volumes uk grain potato futures f...</td>\n",
       "      <td>34</td>\n",
       "    </tr>\n",
       "    <tr>\n",
       "      <th>44</th>\n",
       "      <td>0</td>\n",
       "      <td>trades reported far us soymeal indicated uncha...</td>\n",
       "      <td>44</td>\n",
       "    </tr>\n",
       "    <tr>\n",
       "      <th>21</th>\n",
       "      <td>0</td>\n",
       "      <td>exported january european community countries ...</td>\n",
       "      <td>21</td>\n",
       "    </tr>\n",
       "    <tr>\n",
       "      <th>44</th>\n",
       "      <td>0</td>\n",
       "      <td>foreign meal users waiting expected surge ship...</td>\n",
       "      <td>44</td>\n",
       "    </tr>\n",
       "  </tbody>\n",
       "</table>\n",
       "</div>"
      ],
      "text/plain": [
       "    category                                            content  clusters\n",
       "42         0  added oilseed processing mill standstill since...        42\n",
       "34         0  march traded volumes uk grain potato futures f...        34\n",
       "44         0  trades reported far us soymeal indicated uncha...        44\n",
       "21         0  exported january european community countries ...        21\n",
       "44         0  foreign meal users waiting expected surge ship...        44"
      ]
     },
     "execution_count": 64,
     "metadata": {},
     "output_type": "execute_result"
    }
   ],
   "source": [
    "frame.head()"
   ]
  },
  {
   "cell_type": "code",
   "execution_count": 65,
   "metadata": {},
   "outputs": [
    {
     "data": {
      "text/html": [
       "<div>\n",
       "<style scoped>\n",
       "    .dataframe tbody tr th:only-of-type {\n",
       "        vertical-align: middle;\n",
       "    }\n",
       "\n",
       "    .dataframe tbody tr th {\n",
       "        vertical-align: top;\n",
       "    }\n",
       "\n",
       "    .dataframe thead th {\n",
       "        text-align: right;\n",
       "    }\n",
       "</style>\n",
       "<table border=\"1\" class=\"dataframe\">\n",
       "  <thead>\n",
       "    <tr style=\"text-align: right;\">\n",
       "      <th></th>\n",
       "      <th>category</th>\n",
       "      <th>content</th>\n",
       "      <th>clusters</th>\n",
       "      <th>document</th>\n",
       "    </tr>\n",
       "  </thead>\n",
       "  <tbody>\n",
       "    <tr>\n",
       "      <th>13</th>\n",
       "      <td>44</td>\n",
       "      <td>ntt said business operations plan submitted po...</td>\n",
       "      <td>13</td>\n",
       "      <td>0003569</td>\n",
       "    </tr>\n",
       "    <tr>\n",
       "      <th>7</th>\n",
       "      <td>44</td>\n",
       "      <td>company said uk agribusiness group reported ex...</td>\n",
       "      <td>7</td>\n",
       "      <td>0008869</td>\n",
       "    </tr>\n",
       "    <tr>\n",
       "      <th>12</th>\n",
       "      <td>44</td>\n",
       "      <td>tax rate pct vs pct due impact tax reform act ...</td>\n",
       "      <td>12</td>\n",
       "      <td>0003770</td>\n",
       "    </tr>\n",
       "    <tr>\n",
       "      <th>35</th>\n",
       "      <td>44</td>\n",
       "      <td>yr net blah blah blah sees higher st qtr `` am...</td>\n",
       "      <td>35</td>\n",
       "      <td>0007668</td>\n",
       "    </tr>\n",
       "    <tr>\n",
       "      <th>45</th>\n",
       "      <td>44</td>\n",
       "      <td>march excel bancorp inc said board declared in...</td>\n",
       "      <td>45</td>\n",
       "      <td>0005203</td>\n",
       "    </tr>\n",
       "    <tr>\n",
       "      <th>52</th>\n",
       "      <td>44</td>\n",
       "      <td>revs mln vs mln year shr dlrs vs dlrs net mln ...</td>\n",
       "      <td>52</td>\n",
       "      <td>0001490</td>\n",
       "    </tr>\n",
       "    <tr>\n",
       "      <th>30</th>\n",
       "      <td>44</td>\n",
       "      <td>vs given revs mln vs given  march shr cts vs g...</td>\n",
       "      <td>30</td>\n",
       "      <td>0008716</td>\n",
       "    </tr>\n",
       "    <tr>\n",
       "      <th>30</th>\n",
       "      <td>44</td>\n",
       "      <td>`` kiena gold mines ltd th qtr net toronto yea...</td>\n",
       "      <td>30</td>\n",
       "      <td>0008699</td>\n",
       "    </tr>\n",
       "    <tr>\n",
       "      <th>41</th>\n",
       "      <td>44</td>\n",
       "      <td>net includes mln dlr asset writedown mln dlr r...</td>\n",
       "      <td>41</td>\n",
       "      <td>0008809</td>\n",
       "    </tr>\n",
       "    <tr>\n",
       "      <th>59</th>\n",
       "      <td>44</td>\n",
       "      <td>cts prior pay april record april six  restaura...</td>\n",
       "      <td>59</td>\n",
       "      <td>0001533</td>\n",
       "    </tr>\n",
       "  </tbody>\n",
       "</table>\n",
       "</div>"
      ],
      "text/plain": [
       "    category                                            content  clusters  \\\n",
       "13        44  ntt said business operations plan submitted po...        13   \n",
       "7         44  company said uk agribusiness group reported ex...         7   \n",
       "12        44  tax rate pct vs pct due impact tax reform act ...        12   \n",
       "35        44  yr net blah blah blah sees higher st qtr `` am...        35   \n",
       "45        44  march excel bancorp inc said board declared in...        45   \n",
       "52        44  revs mln vs mln year shr dlrs vs dlrs net mln ...        52   \n",
       "30        44  vs given revs mln vs given  march shr cts vs g...        30   \n",
       "30        44  `` kiena gold mines ltd th qtr net toronto yea...        30   \n",
       "41        44  net includes mln dlr asset writedown mln dlr r...        41   \n",
       "59        44  cts prior pay april record april six  restaura...        59   \n",
       "\n",
       "   document  \n",
       "13  0003569  \n",
       "7   0008869  \n",
       "12  0003770  \n",
       "35  0007668  \n",
       "45  0005203  \n",
       "52  0001490  \n",
       "30  0008716  \n",
       "30  0008699  \n",
       "41  0008809  \n",
       "59  0001533  "
      ]
     },
     "execution_count": 65,
     "metadata": {},
     "output_type": "execute_result"
    }
   ],
   "source": [
    "frame['document'] = series_indi_docs.values\n",
    "frame.iloc[6000:6010]"
   ]
  },
  {
   "cell_type": "code",
   "execution_count": 66,
   "metadata": {},
   "outputs": [],
   "source": [
    "#tp store the dataFrame as  csv file for future prediction\n",
    "frame.to_csv('document_clustered_2.csv',sep=\",\",index=None)"
   ]
  },
  {
   "cell_type": "code",
   "execution_count": 67,
   "metadata": {},
   "outputs": [],
   "source": [
    "document_content = frame['content']\n",
    "stopwords = nltk.corpus.stopwords.words('english')"
   ]
  },
  {
   "cell_type": "code",
   "execution_count": 69,
   "metadata": {},
   "outputs": [
    {
     "name": "stdout",
     "output_type": "stream",
     "text": [
      "Finished 1000 documents\n",
      "Finished 2000 documents\n",
      "Finished 3000 documents\n",
      "Finished 4000 documents\n",
      "Finished 5000 documents\n",
      "Finished 6000 documents\n",
      "Finished 7000 documents\n",
      "Finished 8000 documents\n",
      "Finished 9000 documents\n",
      "Finished 10000 documents\n",
      "Finished 11000 documents\n"
     ]
    }
   ],
   "source": [
    "totalvocab_stemmed = []\n",
    "totalvocab_tokenized = []\n",
    "count=1\n",
    "for i in document_content:\n",
    "    allwords_stemmed = tokenize_and_stem(i)\n",
    "    totalvocab_stemmed.append(allwords_stemmed)\n",
    "    \n",
    "    allwords_tokens = tokenize_only(i)\n",
    "    totalvocab_tokenized.append(allwords_tokens)\n",
    "    if count % 1000 == 0:\n",
    "        print(\"Finished {} documents\".format(count))\n",
    "    count += 1 #increment the count"
   ]
  },
  {
   "cell_type": "code",
   "execution_count": 70,
   "metadata": {},
   "outputs": [
    {
     "data": {
      "text/plain": [
       "11475"
      ]
     },
     "execution_count": 70,
     "metadata": {},
     "output_type": "execute_result"
    }
   ],
   "source": [
    "len(totalvocab_stemmed)"
   ]
  },
  {
   "cell_type": "code",
   "execution_count": 71,
   "metadata": {},
   "outputs": [],
   "source": [
    "dict_documents = {'WordTokenized':totalvocab_tokenized,'WordStemmed':totalvocab_stemmed}"
   ]
  },
  {
   "cell_type": "code",
   "execution_count": 72,
   "metadata": {},
   "outputs": [],
   "source": [
    "vocab_frame = pd.DataFrame({'words':totalvocab_tokenized})"
   ]
  },
  {
   "cell_type": "code",
   "execution_count": 73,
   "metadata": {},
   "outputs": [
    {
     "data": {
      "text/plain": [
       "['patrick',\n",
       " 'patrick leahi',\n",
       " 'pattern',\n",
       " 'paul',\n",
       " 'paul volcker',\n",
       " 'paul volcker said',\n",
       " 'paulo',\n",
       " 'pay',\n",
       " 'pay april',\n",
       " 'pay april record']"
      ]
     },
     "execution_count": 73,
     "metadata": {},
     "output_type": "execute_result"
    }
   ],
   "source": [
    "terms[6040:6050]"
   ]
  },
  {
   "cell_type": "code",
   "execution_count": 75,
   "metadata": {},
   "outputs": [
    {
     "data": {
      "text/html": [
       "<div>\n",
       "<style scoped>\n",
       "    .dataframe tbody tr th:only-of-type {\n",
       "        vertical-align: middle;\n",
       "    }\n",
       "\n",
       "    .dataframe tbody tr th {\n",
       "        vertical-align: top;\n",
       "    }\n",
       "\n",
       "    .dataframe thead th {\n",
       "        text-align: right;\n",
       "    }\n",
       "</style>\n",
       "<table border=\"1\" class=\"dataframe\">\n",
       "  <thead>\n",
       "    <tr style=\"text-align: right;\">\n",
       "      <th></th>\n",
       "      <th>words</th>\n",
       "    </tr>\n",
       "  </thead>\n",
       "  <tbody>\n",
       "    <tr>\n",
       "      <th>0</th>\n",
       "      <td>[added, oilseed, processing, mill, standstill,...</td>\n",
       "    </tr>\n",
       "    <tr>\n",
       "      <th>1</th>\n",
       "      <td>[march, traded, volumes, uk, grain, potato, fu...</td>\n",
       "    </tr>\n",
       "    <tr>\n",
       "      <th>2</th>\n",
       "      <td>[trades, reported, far, us, soymeal, indicated...</td>\n",
       "    </tr>\n",
       "    <tr>\n",
       "      <th>3</th>\n",
       "      <td>[exported, january, european, community, count...</td>\n",
       "    </tr>\n",
       "    <tr>\n",
       "      <th>4</th>\n",
       "      <td>[foreign, meal, users, waiting, expected, surg...</td>\n",
       "    </tr>\n",
       "  </tbody>\n",
       "</table>\n",
       "</div>"
      ],
      "text/plain": [
       "                                               words\n",
       "0  [added, oilseed, processing, mill, standstill,...\n",
       "1  [march, traded, volumes, uk, grain, potato, fu...\n",
       "2  [trades, reported, far, us, soymeal, indicated...\n",
       "3  [exported, january, european, community, count...\n",
       "4  [foreign, meal, users, waiting, expected, surg..."
      ]
     },
     "execution_count": 75,
     "metadata": {},
     "output_type": "execute_result"
    }
   ],
   "source": [
    "vocab_frame.head()"
   ]
  },
  {
   "cell_type": "code",
   "execution_count": 76,
   "metadata": {},
   "outputs": [],
   "source": [
    "import os\n",
    "import matplotlib.pyplot as plt\n",
    "import matplotlib as mpl\n",
    "plt.style.use('ggplot')"
   ]
  },
  {
   "cell_type": "code",
   "execution_count": 77,
   "metadata": {},
   "outputs": [
    {
     "data": {
      "text/plain": [
       "(11475, 11475)"
      ]
     },
     "execution_count": 77,
     "metadata": {},
     "output_type": "execute_result"
    }
   ],
   "source": [
    "dist.shape"
   ]
  },
  {
   "cell_type": "code",
   "execution_count": 78,
   "metadata": {},
   "outputs": [],
   "source": [
    "#the eucledian distance shape(11475,11475)\n",
    "#decompose the batch into 15 batches into shape(765,765)\n",
    "#store into the list\n",
    "dist_as_batch = []\n",
    "i=1\n",
    "previous = 0\n",
    "while(i*765 <= dist.shape[0]):\n",
    "    index = i*765\n",
    "    dist_as_batch.append(dist[previous:index])\n",
    "    previous = index+1\n",
    "    i+=1"
   ]
  },
  {
   "cell_type": "code",
   "execution_count": 79,
   "metadata": {},
   "outputs": [
    {
     "data": {
      "text/plain": [
       "11475"
      ]
     },
     "execution_count": 79,
     "metadata": {},
     "output_type": "execute_result"
    }
   ],
   "source": [
    "len(dist_as_batch[0][1]) #the matrix is in shape(765,11475)"
   ]
  },
  {
   "cell_type": "markdown",
   "metadata": {},
   "source": [
    "Now the cosine_similarity variable dist has shape (11475,11475) . We need to convert them into 2D array using **MultiDimensionalScaling or PCA** . If we use MDS function directly we get **Memeroy Error** . So we need to decompose the whole dist to **multiple batches** , which is in the shape (765,11475)  into 15 batches. If we need to apply **MDS.fit_transform()** the row and column of the matrix should be in the shape(765,765)"
   ]
  },
  {
   "cell_type": "code",
   "execution_count": 80,
   "metadata": {},
   "outputs": [],
   "source": [
    "#convert the dist into DatFrame \n",
    "dist_dataFrame = pd.DataFrame(data=dist,index=None,)"
   ]
  },
  {
   "cell_type": "code",
   "execution_count": 81,
   "metadata": {},
   "outputs": [
    {
     "data": {
      "text/html": [
       "<div>\n",
       "<style scoped>\n",
       "    .dataframe tbody tr th:only-of-type {\n",
       "        vertical-align: middle;\n",
       "    }\n",
       "\n",
       "    .dataframe tbody tr th {\n",
       "        vertical-align: top;\n",
       "    }\n",
       "\n",
       "    .dataframe thead th {\n",
       "        text-align: right;\n",
       "    }\n",
       "</style>\n",
       "<table border=\"1\" class=\"dataframe\">\n",
       "  <thead>\n",
       "    <tr style=\"text-align: right;\">\n",
       "      <th></th>\n",
       "      <th>0</th>\n",
       "      <th>1</th>\n",
       "      <th>2</th>\n",
       "      <th>3</th>\n",
       "      <th>4</th>\n",
       "      <th>5</th>\n",
       "      <th>6</th>\n",
       "      <th>7</th>\n",
       "      <th>8</th>\n",
       "      <th>9</th>\n",
       "      <th>...</th>\n",
       "      <th>11465</th>\n",
       "      <th>11466</th>\n",
       "      <th>11467</th>\n",
       "      <th>11468</th>\n",
       "      <th>11469</th>\n",
       "      <th>11470</th>\n",
       "      <th>11471</th>\n",
       "      <th>11472</th>\n",
       "      <th>11473</th>\n",
       "      <th>11474</th>\n",
       "    </tr>\n",
       "  </thead>\n",
       "  <tbody>\n",
       "    <tr>\n",
       "      <th>11470</th>\n",
       "      <td>0.993356</td>\n",
       "      <td>0.951957</td>\n",
       "      <td>0.967105</td>\n",
       "      <td>1.000000</td>\n",
       "      <td>0.969208</td>\n",
       "      <td>0.975342</td>\n",
       "      <td>0.984159</td>\n",
       "      <td>0.983290</td>\n",
       "      <td>0.987629</td>\n",
       "      <td>1.000000</td>\n",
       "      <td>...</td>\n",
       "      <td>0.977136</td>\n",
       "      <td>0.990129</td>\n",
       "      <td>0.588805</td>\n",
       "      <td>0.956790</td>\n",
       "      <td>0.862011</td>\n",
       "      <td>0.000000</td>\n",
       "      <td>0.862011</td>\n",
       "      <td>0.994763</td>\n",
       "      <td>0.975646</td>\n",
       "      <td>9.847371e-01</td>\n",
       "    </tr>\n",
       "    <tr>\n",
       "      <th>11471</th>\n",
       "      <td>0.986911</td>\n",
       "      <td>0.999742</td>\n",
       "      <td>0.940389</td>\n",
       "      <td>1.000000</td>\n",
       "      <td>0.972387</td>\n",
       "      <td>0.981907</td>\n",
       "      <td>0.959021</td>\n",
       "      <td>0.940454</td>\n",
       "      <td>0.978300</td>\n",
       "      <td>0.984633</td>\n",
       "      <td>...</td>\n",
       "      <td>0.976987</td>\n",
       "      <td>0.985737</td>\n",
       "      <td>0.873290</td>\n",
       "      <td>0.899166</td>\n",
       "      <td>0.000000</td>\n",
       "      <td>0.862011</td>\n",
       "      <td>0.000000</td>\n",
       "      <td>0.922666</td>\n",
       "      <td>0.953430</td>\n",
       "      <td>9.774706e-01</td>\n",
       "    </tr>\n",
       "    <tr>\n",
       "      <th>11472</th>\n",
       "      <td>0.984249</td>\n",
       "      <td>0.994668</td>\n",
       "      <td>0.997160</td>\n",
       "      <td>0.985738</td>\n",
       "      <td>0.980550</td>\n",
       "      <td>0.958535</td>\n",
       "      <td>0.989350</td>\n",
       "      <td>0.902716</td>\n",
       "      <td>0.994512</td>\n",
       "      <td>0.984956</td>\n",
       "      <td>...</td>\n",
       "      <td>0.992577</td>\n",
       "      <td>0.989458</td>\n",
       "      <td>0.983196</td>\n",
       "      <td>0.961171</td>\n",
       "      <td>0.922666</td>\n",
       "      <td>0.994763</td>\n",
       "      <td>0.922666</td>\n",
       "      <td>0.000000</td>\n",
       "      <td>0.985428</td>\n",
       "      <td>9.762670e-01</td>\n",
       "    </tr>\n",
       "    <tr>\n",
       "      <th>11473</th>\n",
       "      <td>0.977390</td>\n",
       "      <td>0.961868</td>\n",
       "      <td>0.957344</td>\n",
       "      <td>0.880668</td>\n",
       "      <td>0.938503</td>\n",
       "      <td>0.949839</td>\n",
       "      <td>0.942475</td>\n",
       "      <td>0.853005</td>\n",
       "      <td>0.868308</td>\n",
       "      <td>0.993463</td>\n",
       "      <td>...</td>\n",
       "      <td>0.969444</td>\n",
       "      <td>0.897700</td>\n",
       "      <td>0.987901</td>\n",
       "      <td>0.968018</td>\n",
       "      <td>0.953430</td>\n",
       "      <td>0.975646</td>\n",
       "      <td>0.953430</td>\n",
       "      <td>0.985428</td>\n",
       "      <td>0.000000</td>\n",
       "      <td>7.140847e-01</td>\n",
       "    </tr>\n",
       "    <tr>\n",
       "      <th>11474</th>\n",
       "      <td>0.976087</td>\n",
       "      <td>0.980079</td>\n",
       "      <td>0.962724</td>\n",
       "      <td>0.868544</td>\n",
       "      <td>0.929152</td>\n",
       "      <td>0.923306</td>\n",
       "      <td>0.958544</td>\n",
       "      <td>0.940898</td>\n",
       "      <td>0.957839</td>\n",
       "      <td>0.996129</td>\n",
       "      <td>...</td>\n",
       "      <td>0.965732</td>\n",
       "      <td>0.921929</td>\n",
       "      <td>0.991418</td>\n",
       "      <td>0.981214</td>\n",
       "      <td>0.977471</td>\n",
       "      <td>0.984737</td>\n",
       "      <td>0.977471</td>\n",
       "      <td>0.976267</td>\n",
       "      <td>0.714085</td>\n",
       "      <td>-4.440892e-16</td>\n",
       "    </tr>\n",
       "  </tbody>\n",
       "</table>\n",
       "<p>5 rows × 11475 columns</p>\n",
       "</div>"
      ],
      "text/plain": [
       "          0         1         2         3         4         5         6      \\\n",
       "11470  0.993356  0.951957  0.967105  1.000000  0.969208  0.975342  0.984159   \n",
       "11471  0.986911  0.999742  0.940389  1.000000  0.972387  0.981907  0.959021   \n",
       "11472  0.984249  0.994668  0.997160  0.985738  0.980550  0.958535  0.989350   \n",
       "11473  0.977390  0.961868  0.957344  0.880668  0.938503  0.949839  0.942475   \n",
       "11474  0.976087  0.980079  0.962724  0.868544  0.929152  0.923306  0.958544   \n",
       "\n",
       "          7         8         9          ...          11465     11466  \\\n",
       "11470  0.983290  0.987629  1.000000      ...       0.977136  0.990129   \n",
       "11471  0.940454  0.978300  0.984633      ...       0.976987  0.985737   \n",
       "11472  0.902716  0.994512  0.984956      ...       0.992577  0.989458   \n",
       "11473  0.853005  0.868308  0.993463      ...       0.969444  0.897700   \n",
       "11474  0.940898  0.957839  0.996129      ...       0.965732  0.921929   \n",
       "\n",
       "          11467     11468     11469     11470     11471     11472     11473  \\\n",
       "11470  0.588805  0.956790  0.862011  0.000000  0.862011  0.994763  0.975646   \n",
       "11471  0.873290  0.899166  0.000000  0.862011  0.000000  0.922666  0.953430   \n",
       "11472  0.983196  0.961171  0.922666  0.994763  0.922666  0.000000  0.985428   \n",
       "11473  0.987901  0.968018  0.953430  0.975646  0.953430  0.985428  0.000000   \n",
       "11474  0.991418  0.981214  0.977471  0.984737  0.977471  0.976267  0.714085   \n",
       "\n",
       "              11474  \n",
       "11470  9.847371e-01  \n",
       "11471  9.774706e-01  \n",
       "11472  9.762670e-01  \n",
       "11473  7.140847e-01  \n",
       "11474 -4.440892e-16  \n",
       "\n",
       "[5 rows x 11475 columns]"
      ]
     },
     "execution_count": 81,
     "metadata": {},
     "output_type": "execute_result"
    }
   ],
   "source": [
    "dist_dataFrame.tail()"
   ]
  },
  {
   "cell_type": "code",
   "execution_count": 82,
   "metadata": {},
   "outputs": [],
   "source": [
    "#divide the whole data into 765 batch\n",
    "#iterate through each row and convert 11475 columns to 2 columns using PCA analysis\n",
    "#store the result in new file for future purpose\n",
    "#start the iteration of each row by iterrows()\n",
    "#Error Faced  : Expected 2D array but got 1D array instead\n",
    "from sklearn.decomposition import TruncatedSVD\n",
    "svd_two = TruncatedSVD(n_components=2,n_iter=2,random_state=5)\n",
    "#convert dataFrame into numpy array\n",
    "dist_as_np = np.array(dist)"
   ]
  },
  {
   "cell_type": "code",
   "execution_count": 84,
   "metadata": {},
   "outputs": [
    {
     "data": {
      "text/plain": [
       "(11475, 11475)"
      ]
     },
     "execution_count": 84,
     "metadata": {},
     "output_type": "execute_result"
    }
   ],
   "source": [
    "dist_as_np.shape"
   ]
  },
  {
   "cell_type": "code",
   "execution_count": 86,
   "metadata": {},
   "outputs": [
    {
     "name": "stdout",
     "output_type": "stream",
     "text": [
      "Finished Processing 1 batch\n",
      "Finished Processing 2 batch\n",
      "Finished Processing 3 batch\n",
      "Finished Processing 4 batch\n",
      "Finished Processing 5 batch\n",
      "Finished Processing 6 batch\n",
      "Finished Processing 7 batch\n",
      "Finished Processing 8 batch\n",
      "Finished Processing 9 batch\n",
      "Finished Processing 10 batch\n",
      "Finished Processing 11 batch\n",
      "Finished Processing 12 batch\n",
      "Finished Processing 13 batch\n",
      "Finished Processing 14 batch\n",
      "Finished Processing 15 batch\n"
     ]
    }
   ],
   "source": [
    "d = [] #list\n",
    "i=1\n",
    "previous = 0\n",
    "while(i*765 <= dist_as_np.shape[0]):\n",
    "    current_index = i*765\n",
    "    data = dist_as_np[previous:current_index]\n",
    "    svd_vector = svd_two.fit_transform(data)\n",
    "    d.append((i,svd_vector))\n",
    "    previous = current_index\n",
    "    print(\"Finished Processing {} batch\".format(i))\n",
    "    i+=1"
   ]
  },
  {
   "cell_type": "code",
   "execution_count": 87,
   "metadata": {},
   "outputs": [],
   "source": [
    "#now we decomposed the high dimensional data into low 2D data\n",
    "#enter the data into dataFrame\n",
    "#write the 2D vectors into text file for future reference\n",
    "with open('low_dimensional_data_2.txt','w') as fp:\n",
    "    for i,array_data in d:\n",
    "        for two_d_vectors in array_data:\n",
    "            vectors_as_str = str(two_d_vectors)\n",
    "            if vectors_as_str.startswith(' '):\n",
    "                vectors_as_str = vectors_as_str.replace(' ','')\n",
    "            replace_chars = ['[',']']\n",
    "            for char in replace_chars:\n",
    "                vectors_as_str = vectors_as_str.replace(char,'')\n",
    "            fp.write(vectors_as_str)\n",
    "            fp.write(\"\\n\")\n",
    "        "
   ]
  },
  {
   "cell_type": "code",
   "execution_count": 88,
   "metadata": {},
   "outputs": [],
   "source": [
    "low_dim_df = pd.read_csv('low_dimensional_data_2.txt',sep='\\s+',header=None,names=['X','Y'])"
   ]
  },
  {
   "cell_type": "code",
   "execution_count": 89,
   "metadata": {},
   "outputs": [
    {
     "data": {
      "text/html": [
       "<div>\n",
       "<style scoped>\n",
       "    .dataframe tbody tr th:only-of-type {\n",
       "        vertical-align: middle;\n",
       "    }\n",
       "\n",
       "    .dataframe tbody tr th {\n",
       "        vertical-align: top;\n",
       "    }\n",
       "\n",
       "    .dataframe thead th {\n",
       "        text-align: right;\n",
       "    }\n",
       "</style>\n",
       "<table border=\"1\" class=\"dataframe\">\n",
       "  <thead>\n",
       "    <tr style=\"text-align: right;\">\n",
       "      <th></th>\n",
       "      <th>X</th>\n",
       "      <th>Y</th>\n",
       "    </tr>\n",
       "  </thead>\n",
       "  <tbody>\n",
       "    <tr>\n",
       "      <th>1222</th>\n",
       "      <td>103.863956</td>\n",
       "      <td>-1.042609</td>\n",
       "    </tr>\n",
       "    <tr>\n",
       "      <th>1223</th>\n",
       "      <td>103.531983</td>\n",
       "      <td>-0.793778</td>\n",
       "    </tr>\n",
       "    <tr>\n",
       "      <th>1224</th>\n",
       "      <td>104.251486</td>\n",
       "      <td>-0.752667</td>\n",
       "    </tr>\n",
       "    <tr>\n",
       "      <th>1225</th>\n",
       "      <td>104.592207</td>\n",
       "      <td>-0.852823</td>\n",
       "    </tr>\n",
       "    <tr>\n",
       "      <th>1226</th>\n",
       "      <td>103.458812</td>\n",
       "      <td>-0.886867</td>\n",
       "    </tr>\n",
       "    <tr>\n",
       "      <th>1227</th>\n",
       "      <td>103.643969</td>\n",
       "      <td>-0.864686</td>\n",
       "    </tr>\n",
       "    <tr>\n",
       "      <th>1228</th>\n",
       "      <td>105.009777</td>\n",
       "      <td>-0.524677</td>\n",
       "    </tr>\n",
       "    <tr>\n",
       "      <th>1229</th>\n",
       "      <td>105.401987</td>\n",
       "      <td>-0.049948</td>\n",
       "    </tr>\n",
       "  </tbody>\n",
       "</table>\n",
       "</div>"
      ],
      "text/plain": [
       "               X         Y\n",
       "1222  103.863956 -1.042609\n",
       "1223  103.531983 -0.793778\n",
       "1224  104.251486 -0.752667\n",
       "1225  104.592207 -0.852823\n",
       "1226  103.458812 -0.886867\n",
       "1227  103.643969 -0.864686\n",
       "1228  105.009777 -0.524677\n",
       "1229  105.401987 -0.049948"
      ]
     },
     "execution_count": 89,
     "metadata": {},
     "output_type": "execute_result"
    }
   ],
   "source": [
    "low_dim_df.iloc[1222:1230]"
   ]
  },
  {
   "cell_type": "code",
   "execution_count": 90,
   "metadata": {},
   "outputs": [
    {
     "data": {
      "text/plain": [
       "(11475, 2)"
      ]
     },
     "execution_count": 90,
     "metadata": {},
     "output_type": "execute_result"
    }
   ],
   "source": [
    "low_dim_df.shape"
   ]
  },
  {
   "cell_type": "code",
   "execution_count": 104,
   "metadata": {},
   "outputs": [],
   "source": [
    "#pick 50 colors for different clusters\n",
    "i=0\n",
    "colors_list = []\n",
    "with open('../clustering/random_colors.txt','r') as fp:\n",
    "    data = fp.read()\n",
    "    #split by \\n\n",
    "    data_split = data.split(\"\\n\")\n",
    "    for hex_colors in data_split:\n",
    "        colors_list.append((i,hex_colors))\n",
    "        i+=1"
   ]
  },
  {
   "cell_type": "code",
   "execution_count": null,
   "metadata": {},
   "outputs": [],
   "source": []
  },
  {
   "cell_type": "code",
   "execution_count": 105,
   "metadata": {},
   "outputs": [
    {
     "data": {
      "text/plain": [
       "{0: '#e66582',\n",
       " 1: '#65afb0',\n",
       " 2: '#cb7fb4',\n",
       " 3: '#f68956',\n",
       " 4: '#f95c55',\n",
       " 5: '#e0f876',\n",
       " 6: '#6ddd48',\n",
       " 7: '#444a68',\n",
       " 8: '#90508b',\n",
       " 9: '#69eb1e',\n",
       " 10: '#95f05c',\n",
       " 11: '#712302',\n",
       " 12: '#dddb6d',\n",
       " 13: '#101d48',\n",
       " 14: '#0135f2',\n",
       " 15: '#5b90a8',\n",
       " 16: '#909236',\n",
       " 17: '#fe92e5',\n",
       " 18: '#0b518f',\n",
       " 19: '#979efb',\n",
       " 20: '#b2dd57',\n",
       " 21: '#e8fbdd',\n",
       " 22: '#823c4f',\n",
       " 23: '#4db437',\n",
       " 24: '#40281d',\n",
       " 25: '#2cd7c3',\n",
       " 26: '#ed8dea',\n",
       " 27: '#396f0d',\n",
       " 28: '#b18ab4',\n",
       " 29: '#7f24ea',\n",
       " 30: '#e9f8fd',\n",
       " 31: '#cdab7c',\n",
       " 32: '#961059',\n",
       " 33: '#59c668',\n",
       " 34: '#a898fe',\n",
       " 35: '#e7f923',\n",
       " 36: '#b38dd2',\n",
       " 37: '#8f4642',\n",
       " 38: '#875e6e',\n",
       " 39: '#01e9ca',\n",
       " 40: '#4184f3',\n",
       " 41: '#85caa0',\n",
       " 42: '#67ebe5',\n",
       " 43: '#e38618',\n",
       " 44: '#dfc2b6',\n",
       " 45: '#cef5a4',\n",
       " 46: '#875733',\n",
       " 47: '#e9036c',\n",
       " 48: '#987393',\n",
       " 49: '#14e0f1',\n",
       " 50: '#72bda3',\n",
       " 51: '#94e8b4',\n",
       " 52: '#94e8b4',\n",
       " 53: '#161b17',\n",
       " 54: '#9c886b',\n",
       " 55: '#333431',\n",
       " 56: '#bdc0ca',\n",
       " 57: '#c8923a',\n",
       " 58: '#475660',\n",
       " 59: '#ad4b57'}"
      ]
     },
     "execution_count": 105,
     "metadata": {},
     "output_type": "execute_result"
    }
   ],
   "source": [
    "colors_dict = dict(colors_list) #converted into dictionary\n",
    "colors_dict"
   ]
  },
  {
   "cell_type": "code",
   "execution_count": 106,
   "metadata": {},
   "outputs": [
    {
     "name": "stdout",
     "output_type": "stream",
     "text": [
      "11475\n"
     ]
    }
   ],
   "source": [
    "%matplotlib inline\n",
    "#creating the dataFrame\n",
    "docs = [] #list to store the docs\n",
    "document = frame['document'] # document is in type series\n",
    "for doc in document:\n",
    "    docs.append(docs)\n",
    "\n",
    "print(len(docs))"
   ]
  },
  {
   "cell_type": "code",
   "execution_count": 107,
   "metadata": {},
   "outputs": [
    {
     "name": "stdout",
     "output_type": "stream",
     "text": [
      "(11475,) (11475,)\n"
     ]
    }
   ],
   "source": [
    "xs,ys = low_dim_df.iloc[:,0],low_dim_df.iloc[:,1]\n",
    "print(xs.shape,ys.shape)"
   ]
  },
  {
   "cell_type": "code",
   "execution_count": 108,
   "metadata": {},
   "outputs": [
    {
     "data": {
      "text/html": [
       "<div>\n",
       "<style scoped>\n",
       "    .dataframe tbody tr th:only-of-type {\n",
       "        vertical-align: middle;\n",
       "    }\n",
       "\n",
       "    .dataframe tbody tr th {\n",
       "        vertical-align: top;\n",
       "    }\n",
       "\n",
       "    .dataframe thead th {\n",
       "        text-align: right;\n",
       "    }\n",
       "</style>\n",
       "<table border=\"1\" class=\"dataframe\">\n",
       "  <thead>\n",
       "    <tr style=\"text-align: right;\">\n",
       "      <th></th>\n",
       "      <th>Xplots</th>\n",
       "      <th>Yplots</th>\n",
       "      <th>labels</th>\n",
       "      <th>titles</th>\n",
       "    </tr>\n",
       "  </thead>\n",
       "  <tbody>\n",
       "    <tr>\n",
       "      <th>0</th>\n",
       "      <td>105.021225</td>\n",
       "      <td>-0.381603</td>\n",
       "      <td>42</td>\n",
       "      <td>0000045</td>\n",
       "    </tr>\n",
       "    <tr>\n",
       "      <th>1</th>\n",
       "      <td>104.191383</td>\n",
       "      <td>-0.389152</td>\n",
       "      <td>34</td>\n",
       "      <td>0008858</td>\n",
       "    </tr>\n",
       "    <tr>\n",
       "      <th>2</th>\n",
       "      <td>104.935743</td>\n",
       "      <td>-0.258712</td>\n",
       "      <td>44</td>\n",
       "      <td>0001242</td>\n",
       "    </tr>\n",
       "    <tr>\n",
       "      <th>3</th>\n",
       "      <td>104.959031</td>\n",
       "      <td>-0.193392</td>\n",
       "      <td>21</td>\n",
       "      <td>0009002</td>\n",
       "    </tr>\n",
       "    <tr>\n",
       "      <th>4</th>\n",
       "      <td>103.814419</td>\n",
       "      <td>-0.535461</td>\n",
       "      <td>44</td>\n",
       "      <td>0009026</td>\n",
       "    </tr>\n",
       "  </tbody>\n",
       "</table>\n",
       "</div>"
      ],
      "text/plain": [
       "       Xplots    Yplots  labels   titles\n",
       "0  105.021225 -0.381603      42  0000045\n",
       "1  104.191383 -0.389152      34  0008858\n",
       "2  104.935743 -0.258712      44  0001242\n",
       "3  104.959031 -0.193392      21  0009002\n",
       "4  103.814419 -0.535461      44  0009026"
      ]
     },
     "execution_count": 108,
     "metadata": {},
     "output_type": "execute_result"
    }
   ],
   "source": [
    "# xs and ys type is pandas.core.series.Series\n",
    "x = list(xs)\n",
    "y = list(ys)\n",
    "docs = frame['document']\n",
    "documents = list(docs) #convert into list\n",
    "d = {'Xplots':x,'Yplots':y,'labels':def_clusters,'titles':documents}\n",
    "df = pd.DataFrame(data=d)\n",
    "df.head()"
   ]
  },
  {
   "cell_type": "code",
   "execution_count": 109,
   "metadata": {},
   "outputs": [],
   "source": [
    "#save the above dataFrame\n",
    "df.to_csv('cluster_document_dimensional_2.csv',sep=',',index=None)"
   ]
  },
  {
   "cell_type": "code",
   "execution_count": 110,
   "metadata": {},
   "outputs": [
    {
     "data": {
      "text/html": [
       "<div>\n",
       "<style scoped>\n",
       "    .dataframe tbody tr th:only-of-type {\n",
       "        vertical-align: middle;\n",
       "    }\n",
       "\n",
       "    .dataframe tbody tr th {\n",
       "        vertical-align: top;\n",
       "    }\n",
       "\n",
       "    .dataframe thead th {\n",
       "        text-align: right;\n",
       "    }\n",
       "</style>\n",
       "<table border=\"1\" class=\"dataframe\">\n",
       "  <thead>\n",
       "    <tr style=\"text-align: right;\">\n",
       "      <th></th>\n",
       "      <th>Xplots</th>\n",
       "      <th>Yplots</th>\n",
       "      <th>labels</th>\n",
       "      <th>titles</th>\n",
       "    </tr>\n",
       "  </thead>\n",
       "  <tbody>\n",
       "    <tr>\n",
       "      <th>3890</th>\n",
       "      <td>102.497087</td>\n",
       "      <td>3.673095</td>\n",
       "      <td>6</td>\n",
       "      <td>0003044</td>\n",
       "    </tr>\n",
       "    <tr>\n",
       "      <th>3995</th>\n",
       "      <td>101.979324</td>\n",
       "      <td>6.020563</td>\n",
       "      <td>6</td>\n",
       "      <td>0009098</td>\n",
       "    </tr>\n",
       "    <tr>\n",
       "      <th>4006</th>\n",
       "      <td>102.816534</td>\n",
       "      <td>4.568854</td>\n",
       "      <td>6</td>\n",
       "      <td>0007167</td>\n",
       "    </tr>\n",
       "    <tr>\n",
       "      <th>4073</th>\n",
       "      <td>103.084435</td>\n",
       "      <td>3.887530</td>\n",
       "      <td>6</td>\n",
       "      <td>0000760</td>\n",
       "    </tr>\n",
       "    <tr>\n",
       "      <th>4082</th>\n",
       "      <td>101.847162</td>\n",
       "      <td>6.063057</td>\n",
       "      <td>6</td>\n",
       "      <td>0002447</td>\n",
       "    </tr>\n",
       "    <tr>\n",
       "      <th>4092</th>\n",
       "      <td>102.663799</td>\n",
       "      <td>4.494040</td>\n",
       "      <td>6</td>\n",
       "      <td>0006944</td>\n",
       "    </tr>\n",
       "    <tr>\n",
       "      <th>4107</th>\n",
       "      <td>102.756954</td>\n",
       "      <td>4.965404</td>\n",
       "      <td>6</td>\n",
       "      <td>0002830</td>\n",
       "    </tr>\n",
       "    <tr>\n",
       "      <th>4143</th>\n",
       "      <td>103.452349</td>\n",
       "      <td>2.239885</td>\n",
       "      <td>6</td>\n",
       "      <td>0007629</td>\n",
       "    </tr>\n",
       "    <tr>\n",
       "      <th>4198</th>\n",
       "      <td>101.433149</td>\n",
       "      <td>5.700464</td>\n",
       "      <td>6</td>\n",
       "      <td>0001504</td>\n",
       "    </tr>\n",
       "    <tr>\n",
       "      <th>4251</th>\n",
       "      <td>103.039632</td>\n",
       "      <td>3.621720</td>\n",
       "      <td>6</td>\n",
       "      <td>0004337</td>\n",
       "    </tr>\n",
       "    <tr>\n",
       "      <th>4281</th>\n",
       "      <td>101.785388</td>\n",
       "      <td>7.015336</td>\n",
       "      <td>6</td>\n",
       "      <td>0003395</td>\n",
       "    </tr>\n",
       "    <tr>\n",
       "      <th>4305</th>\n",
       "      <td>102.381183</td>\n",
       "      <td>4.634713</td>\n",
       "      <td>6</td>\n",
       "      <td>0006243</td>\n",
       "    </tr>\n",
       "    <tr>\n",
       "      <th>4322</th>\n",
       "      <td>103.039632</td>\n",
       "      <td>3.621720</td>\n",
       "      <td>6</td>\n",
       "      <td>0009561</td>\n",
       "    </tr>\n",
       "    <tr>\n",
       "      <th>4344</th>\n",
       "      <td>103.109031</td>\n",
       "      <td>3.411268</td>\n",
       "      <td>6</td>\n",
       "      <td>0009509</td>\n",
       "    </tr>\n",
       "    <tr>\n",
       "      <th>4376</th>\n",
       "      <td>102.584395</td>\n",
       "      <td>5.260162</td>\n",
       "      <td>6</td>\n",
       "      <td>0003731</td>\n",
       "    </tr>\n",
       "    <tr>\n",
       "      <th>4377</th>\n",
       "      <td>102.428409</td>\n",
       "      <td>5.428536</td>\n",
       "      <td>6</td>\n",
       "      <td>0006213</td>\n",
       "    </tr>\n",
       "    <tr>\n",
       "      <th>4390</th>\n",
       "      <td>102.105451</td>\n",
       "      <td>5.842049</td>\n",
       "      <td>6</td>\n",
       "      <td>0008032</td>\n",
       "    </tr>\n",
       "    <tr>\n",
       "      <th>4411</th>\n",
       "      <td>102.554349</td>\n",
       "      <td>5.562157</td>\n",
       "      <td>6</td>\n",
       "      <td>0004945</td>\n",
       "    </tr>\n",
       "    <tr>\n",
       "      <th>4420</th>\n",
       "      <td>101.957651</td>\n",
       "      <td>6.881985</td>\n",
       "      <td>6</td>\n",
       "      <td>0004969</td>\n",
       "    </tr>\n",
       "    <tr>\n",
       "      <th>4423</th>\n",
       "      <td>101.957558</td>\n",
       "      <td>6.344788</td>\n",
       "      <td>6</td>\n",
       "      <td>0004384</td>\n",
       "    </tr>\n",
       "    <tr>\n",
       "      <th>4426</th>\n",
       "      <td>102.627848</td>\n",
       "      <td>5.229848</td>\n",
       "      <td>6</td>\n",
       "      <td>0002414</td>\n",
       "    </tr>\n",
       "    <tr>\n",
       "      <th>4436</th>\n",
       "      <td>101.911440</td>\n",
       "      <td>7.199913</td>\n",
       "      <td>6</td>\n",
       "      <td>0008925</td>\n",
       "    </tr>\n",
       "    <tr>\n",
       "      <th>4446</th>\n",
       "      <td>101.762303</td>\n",
       "      <td>7.269519</td>\n",
       "      <td>6</td>\n",
       "      <td>0003002</td>\n",
       "    </tr>\n",
       "    <tr>\n",
       "      <th>4449</th>\n",
       "      <td>101.529928</td>\n",
       "      <td>7.838709</td>\n",
       "      <td>6</td>\n",
       "      <td>0003768</td>\n",
       "    </tr>\n",
       "    <tr>\n",
       "      <th>4454</th>\n",
       "      <td>103.278665</td>\n",
       "      <td>3.650127</td>\n",
       "      <td>6</td>\n",
       "      <td>0001702</td>\n",
       "    </tr>\n",
       "    <tr>\n",
       "      <th>4455</th>\n",
       "      <td>101.523842</td>\n",
       "      <td>7.092562</td>\n",
       "      <td>6</td>\n",
       "      <td>0002851</td>\n",
       "    </tr>\n",
       "    <tr>\n",
       "      <th>4475</th>\n",
       "      <td>102.939263</td>\n",
       "      <td>4.108953</td>\n",
       "      <td>6</td>\n",
       "      <td>0002683</td>\n",
       "    </tr>\n",
       "    <tr>\n",
       "      <th>4518</th>\n",
       "      <td>102.575931</td>\n",
       "      <td>4.573272</td>\n",
       "      <td>6</td>\n",
       "      <td>0005565</td>\n",
       "    </tr>\n",
       "    <tr>\n",
       "      <th>4533</th>\n",
       "      <td>103.042976</td>\n",
       "      <td>3.927079</td>\n",
       "      <td>6</td>\n",
       "      <td>0003620</td>\n",
       "    </tr>\n",
       "    <tr>\n",
       "      <th>4545</th>\n",
       "      <td>101.950572</td>\n",
       "      <td>7.044353</td>\n",
       "      <td>6</td>\n",
       "      <td>0001146</td>\n",
       "    </tr>\n",
       "    <tr>\n",
       "      <th>...</th>\n",
       "      <td>...</td>\n",
       "      <td>...</td>\n",
       "      <td>...</td>\n",
       "      <td>...</td>\n",
       "    </tr>\n",
       "    <tr>\n",
       "      <th>6312</th>\n",
       "      <td>101.700993</td>\n",
       "      <td>7.321850</td>\n",
       "      <td>6</td>\n",
       "      <td>0005743</td>\n",
       "    </tr>\n",
       "    <tr>\n",
       "      <th>6341</th>\n",
       "      <td>101.818629</td>\n",
       "      <td>6.573336</td>\n",
       "      <td>6</td>\n",
       "      <td>0007110</td>\n",
       "    </tr>\n",
       "    <tr>\n",
       "      <th>6357</th>\n",
       "      <td>102.247104</td>\n",
       "      <td>5.401959</td>\n",
       "      <td>6</td>\n",
       "      <td>0001327</td>\n",
       "    </tr>\n",
       "    <tr>\n",
       "      <th>6364</th>\n",
       "      <td>102.655031</td>\n",
       "      <td>5.378786</td>\n",
       "      <td>6</td>\n",
       "      <td>0001195</td>\n",
       "    </tr>\n",
       "    <tr>\n",
       "      <th>6367</th>\n",
       "      <td>103.730791</td>\n",
       "      <td>0.783809</td>\n",
       "      <td>6</td>\n",
       "      <td>0009066</td>\n",
       "    </tr>\n",
       "    <tr>\n",
       "      <th>6382</th>\n",
       "      <td>101.363445</td>\n",
       "      <td>7.035498</td>\n",
       "      <td>6</td>\n",
       "      <td>0005522</td>\n",
       "    </tr>\n",
       "    <tr>\n",
       "      <th>6398</th>\n",
       "      <td>101.167894</td>\n",
       "      <td>7.731187</td>\n",
       "      <td>6</td>\n",
       "      <td>0003558</td>\n",
       "    </tr>\n",
       "    <tr>\n",
       "      <th>6404</th>\n",
       "      <td>103.597037</td>\n",
       "      <td>1.662081</td>\n",
       "      <td>6</td>\n",
       "      <td>0005286</td>\n",
       "    </tr>\n",
       "    <tr>\n",
       "      <th>6433</th>\n",
       "      <td>101.531380</td>\n",
       "      <td>8.112795</td>\n",
       "      <td>6</td>\n",
       "      <td>0000373</td>\n",
       "    </tr>\n",
       "    <tr>\n",
       "      <th>6452</th>\n",
       "      <td>102.801472</td>\n",
       "      <td>4.884708</td>\n",
       "      <td>6</td>\n",
       "      <td>0008217</td>\n",
       "    </tr>\n",
       "    <tr>\n",
       "      <th>6475</th>\n",
       "      <td>102.507748</td>\n",
       "      <td>3.274567</td>\n",
       "      <td>6</td>\n",
       "      <td>0007921</td>\n",
       "    </tr>\n",
       "    <tr>\n",
       "      <th>6494</th>\n",
       "      <td>102.514773</td>\n",
       "      <td>3.707482</td>\n",
       "      <td>6</td>\n",
       "      <td>0009255</td>\n",
       "    </tr>\n",
       "    <tr>\n",
       "      <th>6526</th>\n",
       "      <td>101.686355</td>\n",
       "      <td>7.379203</td>\n",
       "      <td>6</td>\n",
       "      <td>0007664</td>\n",
       "    </tr>\n",
       "    <tr>\n",
       "      <th>6545</th>\n",
       "      <td>101.616110</td>\n",
       "      <td>7.583967</td>\n",
       "      <td>6</td>\n",
       "      <td>0008613</td>\n",
       "    </tr>\n",
       "    <tr>\n",
       "      <th>6560</th>\n",
       "      <td>103.154701</td>\n",
       "      <td>4.435732</td>\n",
       "      <td>6</td>\n",
       "      <td>0008643</td>\n",
       "    </tr>\n",
       "    <tr>\n",
       "      <th>6563</th>\n",
       "      <td>102.741012</td>\n",
       "      <td>3.598604</td>\n",
       "      <td>6</td>\n",
       "      <td>0006353</td>\n",
       "    </tr>\n",
       "    <tr>\n",
       "      <th>6585</th>\n",
       "      <td>102.769710</td>\n",
       "      <td>3.998470</td>\n",
       "      <td>6</td>\n",
       "      <td>0005062</td>\n",
       "    </tr>\n",
       "    <tr>\n",
       "      <th>6586</th>\n",
       "      <td>103.212528</td>\n",
       "      <td>4.307930</td>\n",
       "      <td>6</td>\n",
       "      <td>0004168</td>\n",
       "    </tr>\n",
       "    <tr>\n",
       "      <th>6611</th>\n",
       "      <td>102.634993</td>\n",
       "      <td>5.019671</td>\n",
       "      <td>6</td>\n",
       "      <td>0004463</td>\n",
       "    </tr>\n",
       "    <tr>\n",
       "      <th>6631</th>\n",
       "      <td>101.136816</td>\n",
       "      <td>7.569295</td>\n",
       "      <td>6</td>\n",
       "      <td>0004026</td>\n",
       "    </tr>\n",
       "    <tr>\n",
       "      <th>6659</th>\n",
       "      <td>102.111637</td>\n",
       "      <td>6.515443</td>\n",
       "      <td>6</td>\n",
       "      <td>0009027</td>\n",
       "    </tr>\n",
       "    <tr>\n",
       "      <th>6665</th>\n",
       "      <td>102.744924</td>\n",
       "      <td>3.773583</td>\n",
       "      <td>6</td>\n",
       "      <td>0007935</td>\n",
       "    </tr>\n",
       "    <tr>\n",
       "      <th>6681</th>\n",
       "      <td>101.261748</td>\n",
       "      <td>8.568668</td>\n",
       "      <td>6</td>\n",
       "      <td>0006876</td>\n",
       "    </tr>\n",
       "    <tr>\n",
       "      <th>6687</th>\n",
       "      <td>101.764984</td>\n",
       "      <td>7.065920</td>\n",
       "      <td>6</td>\n",
       "      <td>0006194</td>\n",
       "    </tr>\n",
       "    <tr>\n",
       "      <th>6714</th>\n",
       "      <td>102.874311</td>\n",
       "      <td>2.123779</td>\n",
       "      <td>6</td>\n",
       "      <td>0009311</td>\n",
       "    </tr>\n",
       "    <tr>\n",
       "      <th>6716</th>\n",
       "      <td>102.754165</td>\n",
       "      <td>5.008448</td>\n",
       "      <td>6</td>\n",
       "      <td>0000031</td>\n",
       "    </tr>\n",
       "    <tr>\n",
       "      <th>6735</th>\n",
       "      <td>102.223408</td>\n",
       "      <td>4.622516</td>\n",
       "      <td>6</td>\n",
       "      <td>0005553</td>\n",
       "    </tr>\n",
       "    <tr>\n",
       "      <th>6738</th>\n",
       "      <td>102.524998</td>\n",
       "      <td>4.870975</td>\n",
       "      <td>6</td>\n",
       "      <td>0004940</td>\n",
       "    </tr>\n",
       "    <tr>\n",
       "      <th>6741</th>\n",
       "      <td>102.404935</td>\n",
       "      <td>3.683521</td>\n",
       "      <td>6</td>\n",
       "      <td>0000261</td>\n",
       "    </tr>\n",
       "    <tr>\n",
       "      <th>6761</th>\n",
       "      <td>101.615405</td>\n",
       "      <td>7.200537</td>\n",
       "      <td>6</td>\n",
       "      <td>0008266</td>\n",
       "    </tr>\n",
       "  </tbody>\n",
       "</table>\n",
       "<p>134 rows × 4 columns</p>\n",
       "</div>"
      ],
      "text/plain": [
       "          Xplots    Yplots  labels   titles\n",
       "3890  102.497087  3.673095       6  0003044\n",
       "3995  101.979324  6.020563       6  0009098\n",
       "4006  102.816534  4.568854       6  0007167\n",
       "4073  103.084435  3.887530       6  0000760\n",
       "4082  101.847162  6.063057       6  0002447\n",
       "4092  102.663799  4.494040       6  0006944\n",
       "4107  102.756954  4.965404       6  0002830\n",
       "4143  103.452349  2.239885       6  0007629\n",
       "4198  101.433149  5.700464       6  0001504\n",
       "4251  103.039632  3.621720       6  0004337\n",
       "4281  101.785388  7.015336       6  0003395\n",
       "4305  102.381183  4.634713       6  0006243\n",
       "4322  103.039632  3.621720       6  0009561\n",
       "4344  103.109031  3.411268       6  0009509\n",
       "4376  102.584395  5.260162       6  0003731\n",
       "4377  102.428409  5.428536       6  0006213\n",
       "4390  102.105451  5.842049       6  0008032\n",
       "4411  102.554349  5.562157       6  0004945\n",
       "4420  101.957651  6.881985       6  0004969\n",
       "4423  101.957558  6.344788       6  0004384\n",
       "4426  102.627848  5.229848       6  0002414\n",
       "4436  101.911440  7.199913       6  0008925\n",
       "4446  101.762303  7.269519       6  0003002\n",
       "4449  101.529928  7.838709       6  0003768\n",
       "4454  103.278665  3.650127       6  0001702\n",
       "4455  101.523842  7.092562       6  0002851\n",
       "4475  102.939263  4.108953       6  0002683\n",
       "4518  102.575931  4.573272       6  0005565\n",
       "4533  103.042976  3.927079       6  0003620\n",
       "4545  101.950572  7.044353       6  0001146\n",
       "...          ...       ...     ...      ...\n",
       "6312  101.700993  7.321850       6  0005743\n",
       "6341  101.818629  6.573336       6  0007110\n",
       "6357  102.247104  5.401959       6  0001327\n",
       "6364  102.655031  5.378786       6  0001195\n",
       "6367  103.730791  0.783809       6  0009066\n",
       "6382  101.363445  7.035498       6  0005522\n",
       "6398  101.167894  7.731187       6  0003558\n",
       "6404  103.597037  1.662081       6  0005286\n",
       "6433  101.531380  8.112795       6  0000373\n",
       "6452  102.801472  4.884708       6  0008217\n",
       "6475  102.507748  3.274567       6  0007921\n",
       "6494  102.514773  3.707482       6  0009255\n",
       "6526  101.686355  7.379203       6  0007664\n",
       "6545  101.616110  7.583967       6  0008613\n",
       "6560  103.154701  4.435732       6  0008643\n",
       "6563  102.741012  3.598604       6  0006353\n",
       "6585  102.769710  3.998470       6  0005062\n",
       "6586  103.212528  4.307930       6  0004168\n",
       "6611  102.634993  5.019671       6  0004463\n",
       "6631  101.136816  7.569295       6  0004026\n",
       "6659  102.111637  6.515443       6  0009027\n",
       "6665  102.744924  3.773583       6  0007935\n",
       "6681  101.261748  8.568668       6  0006876\n",
       "6687  101.764984  7.065920       6  0006194\n",
       "6714  102.874311  2.123779       6  0009311\n",
       "6716  102.754165  5.008448       6  0000031\n",
       "6735  102.223408  4.622516       6  0005553\n",
       "6738  102.524998  4.870975       6  0004940\n",
       "6741  102.404935  3.683521       6  0000261\n",
       "6761  101.615405  7.200537       6  0008266\n",
       "\n",
       "[134 rows x 4 columns]"
      ]
     },
     "execution_count": 110,
     "metadata": {},
     "output_type": "execute_result"
    }
   ],
   "source": [
    "#cluster by groups\n",
    "groups = df.groupby('labels') #type as <pandas.core.groupby.DataFrameGroupBy>\n",
    "groups.get_group(6)"
   ]
  },
  {
   "cell_type": "code",
   "execution_count": 111,
   "metadata": {},
   "outputs": [
    {
     "data": {
      "image/png": "[encoded data removed]",
      "text/plain": [
       "<matplotlib.figure.Figure at 0x7f13af547a58>"
      ]
     },
     "metadata": {},
     "output_type": "display_data"
    },
    {
     "data": {
      "text/plain": [
       "<matplotlib.figure.Figure at 0x7f13af6cefd0>"
      ]
     },
     "metadata": {},
     "output_type": "display_data"
    }
   ],
   "source": [
    "# set up plot\n",
    "fig, ax = plt.subplots(figsize=(17, 9)) # set size\n",
    "ax.margins(0.05) # Optional, just adds 5% padding to the autoscaling\n",
    "\n",
    "#iterate through groups to layer the plot\n",
    "#note that I use the cluster_name and cluster_color dicts with the 'name' lookup to return the appropriate color/label\n",
    "for name, group in groups:\n",
    "    ax.plot(group.Xplots, group.Yplots, marker='o', linestyle='', ms=12, \n",
    "            color=colors_dict[name], \n",
    "            mec='none')\n",
    "    ax.set_aspect('auto')\n",
    "    ax.tick_params(\\\n",
    "        axis= 'Xplots',          # changes apply to the x-axis\n",
    "        which='both',      # both major and minor ticks are affected\n",
    "        bottom='off',      # ticks along the bottom edge are off\n",
    "        top='off',         # ticks along the top edge are off\n",
    "        labelbottom='off')\n",
    "    ax.tick_params(\\\n",
    "        axis= 'Yplots',         # changes apply to the y-axis\n",
    "        which='both',      # both major and minor ticks are affected\n",
    "        left='off',      # ticks along the bottom edge are off\n",
    "        top='off',         # ticks along the top edge are off\n",
    "        labelleft='off')\n",
    "\n",
    "\n",
    "    \n",
    "plt.show() #show the plot\n",
    "\n",
    "#uncomment the below to save the plot if need be\n",
    "plt.savefig('clusters_small_noaxes.png')"
   ]
  },
  {
   "cell_type": "code",
   "execution_count": null,
   "metadata": {},
   "outputs": [],
   "source": []
  }
 ],
 "metadata": {
  "kernelspec": {
   "display_name": "Python 3",
   "language": "python",
   "name": "python3"
  },
  "language_info": {
   "codemirror_mode": {
    "name": "ipython",
    "version": 3
   },
   "file_extension": ".py",
   "mimetype": "text/x-python",
   "name": "python",
   "nbconvert_exporter": "python",
   "pygments_lexer": "ipython3",
   "version": "3.5.2"
  }
 },
 "nbformat": 4,
 "nbformat_minor": 2
}
