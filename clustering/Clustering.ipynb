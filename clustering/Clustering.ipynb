{
 "cells": [
  {
   "cell_type": "code",
   "execution_count": 1,
   "metadata": {},
   "outputs": [],
   "source": [
    "import numpy as np\n",
    "import pandas as pd\n",
    "import nltk\n",
    "import re\n",
    "import os\n",
    "import sys\n",
    "import codecs\n",
    "import mpld3"
   ]
  },
  {
   "cell_type": "code",
   "execution_count": 2,
   "metadata": {},
   "outputs": [],
   "source": [
    "# initially we need document folders and document id's\n",
    "path_to_dataset = '/home/madhi/Documents/python programs/neuralnetworks/fp/Reuters21578-Apte-115Cat/training'\n",
    "folder_list = os.listdir(path_to_dataset)"
   ]
  },
  {
   "cell_type": "code",
   "execution_count": 3,
   "metadata": {},
   "outputs": [
    {
     "name": "stdout",
     "output_type": "stream",
     "text": [
      "('palladium', ['0001792', '0001862'])\n"
     ]
    }
   ],
   "source": [
    "#make a dictionary of document category and documents contain in the folder\n",
    "cat_and_docs = [] #list\n",
    "document_folder = [] #list\n",
    "for docs_folder in folder_list:\n",
    "    folder_path = path_to_dataset + \"/\" + docs_folder\n",
    "    list_of_documents = os.listdir(folder_path)\n",
    "    for real_docs in list_of_documents:\n",
    "        document_folder.append(real_docs)\n",
    "    #append folder_name and docs into the same list\n",
    "    cat_and_docs.append((docs_folder,document_folder))\n",
    "    #empty the document_folder list\n",
    "    document_folder = []\n",
    "    \n",
    "print(cat_and_docs[1]) #the list is in format category and number of docs in that list"
   ]
  },
  {
   "cell_type": "code",
   "execution_count": 4,
   "metadata": {},
   "outputs": [],
   "source": [
    "#make into dictionary\n",
    "cate = [] \n",
    "documents = []\n",
    "\n",
    "for category,docs in cat_and_docs:\n",
    "    cate.append(category)\n",
    "    documents.append(docs)\n",
    "    \n",
    "#convert into dictionary\n",
    "total_dataset = dict(zip(cate,documents))"
   ]
  },
  {
   "cell_type": "code",
   "execution_count": 5,
   "metadata": {},
   "outputs": [
    {
     "data": {
      "text/plain": [
       "116"
      ]
     },
     "execution_count": 5,
     "metadata": {},
     "output_type": "execute_result"
    }
   ],
   "source": [
    "len(total_dataset)"
   ]
  },
  {
   "cell_type": "code",
   "execution_count": 6,
   "metadata": {},
   "outputs": [
    {
     "data": {
      "text/html": [
       "<div>\n",
       "<style scoped>\n",
       "    .dataframe tbody tr th:only-of-type {\n",
       "        vertical-align: middle;\n",
       "    }\n",
       "\n",
       "    .dataframe tbody tr th {\n",
       "        vertical-align: top;\n",
       "    }\n",
       "\n",
       "    .dataframe thead th {\n",
       "        text-align: right;\n",
       "    }\n",
       "</style>\n",
       "<table border=\"1\" class=\"dataframe\">\n",
       "  <thead>\n",
       "    <tr style=\"text-align: right;\">\n",
       "      <th></th>\n",
       "      <th>doc_id</th>\n",
       "      <th>features</th>\n",
       "    </tr>\n",
       "  </thead>\n",
       "  <tbody>\n",
       "    <tr>\n",
       "      <th>0</th>\n",
       "      <td>0</td>\n",
       "      <td>alfonsin,allsuite,arnott,bonded,briefed,bulax,...</td>\n",
       "    </tr>\n",
       "    <tr>\n",
       "      <th>1</th>\n",
       "      <td>0</td>\n",
       "      <td>dependent,cellulosa,allentown,bases,ergenc,err...</td>\n",
       "    </tr>\n",
       "    <tr>\n",
       "      <th>2</th>\n",
       "      <td>0</td>\n",
       "      <td>cellulosa,emphasizing,edina,celsius,dependent,...</td>\n",
       "    </tr>\n",
       "    <tr>\n",
       "      <th>3</th>\n",
       "      <td>0</td>\n",
       "      <td>edina,cellulosa,allentown,emphasizing,celsius,...</td>\n",
       "    </tr>\n",
       "    <tr>\n",
       "      <th>4</th>\n",
       "      <td>0</td>\n",
       "      <td>downed,ecologists,edina,emphasizing,cellulosa,...</td>\n",
       "    </tr>\n",
       "  </tbody>\n",
       "</table>\n",
       "</div>"
      ],
      "text/plain": [
       "   doc_id                                           features\n",
       "0       0  alfonsin,allsuite,arnott,bonded,briefed,bulax,...\n",
       "1       0  dependent,cellulosa,allentown,bases,ergenc,err...\n",
       "2       0  cellulosa,emphasizing,edina,celsius,dependent,...\n",
       "3       0  edina,cellulosa,allentown,emphasizing,celsius,...\n",
       "4       0  downed,ecologists,edina,emphasizing,cellulosa,..."
      ]
     },
     "execution_count": 6,
     "metadata": {},
     "output_type": "execute_result"
    }
   ],
   "source": [
    "feature_df = pd.read_csv('features.txt',sep='\\t',header=None,names=['doc_id','features'])\n",
    "feature_df.head()"
   ]
  },
  {
   "cell_type": "code",
   "execution_count": 7,
   "metadata": {},
   "outputs": [
    {
     "name": "stdout",
     "output_type": "stream",
     "text": [
      "(11475,) (11475,)\n"
     ]
    }
   ],
   "source": [
    "doc_category = feature_df['doc_id']\n",
    "features = feature_df['features']\n",
    "#convert into pandas Series\n",
    "features_id = pd.Series(doc_category)\n",
    "features_series = pd.Series(features)\n",
    "\n",
    "print(features_id.shape,features_series.shape)"
   ]
  },
  {
   "cell_type": "code",
   "execution_count": 8,
   "metadata": {},
   "outputs": [
    {
     "name": "stdout",
     "output_type": "stream",
     "text": [
      "11475\n"
     ]
    }
   ],
   "source": [
    "from sklearn.feature_extraction.text import TfidfVectorizer\n",
    "#in features_series list all features is considered as a single string\n",
    "#we need to sepearate the words and have to apply tf-idf vectorizer and ngram to each words\n",
    "def document_category(features_id):\n",
    "    docs_category = []\n",
    "    for ids in features_id:\n",
    "        docs_category.append(ids)\n",
    "    return docs_category\n",
    "\n",
    "def separate_features_the_series(feature_series):\n",
    "    main_feature_series = []\n",
    "    features_stripped = []\n",
    "    for features in feature_series:\n",
    "        data_features = features.replace(\",\",\" \")\n",
    "        main_feature_series.append(data_features)\n",
    "    \n",
    "    return main_feature_series\n",
    "\n",
    "docs_id = document_category(features_id)\n",
    "features_splitted = separate_features_the_series(features_series)\n",
    "print(len(features_splitted))"
   ]
  },
  {
   "cell_type": "code",
   "execution_count": 9,
   "metadata": {},
   "outputs": [],
   "source": [
    "#tokenize and stem the words\n",
    "import nltk\n",
    "from nltk.stem.snowball import SnowballStemmer\n",
    "stemmer = SnowballStemmer('english')"
   ]
  },
  {
   "cell_type": "code",
   "execution_count": 10,
   "metadata": {},
   "outputs": [],
   "source": [
    "def tokenize_and_stem(text):\n",
    "    tokens = [word for sent in nltk.sent_tokenize(text) for word in nltk.word_tokenize(sent)]\n",
    "    filtered_tokens = []\n",
    "    for token in tokens:\n",
    "        if re.search('[a-zA-Z]',token):\n",
    "            filtered_tokens.append(token)\n",
    "    stems = [stemmer.stem(t) for t in filtered_tokens]\n",
    "    return stems\n",
    "\n",
    "def tokenize_only(text):\n",
    "    tokens = [word.lower() for sent in nltk.sent_tokenize(text) for word in nltk.word_tokenize(sent)]\n",
    "    filtered_tokens = []\n",
    "    for token in tokens:\n",
    "        if re.search('[a-zA-Z]',token):\n",
    "            filtered_tokens.append(token)\n",
    "    return filtered_tokens"
   ]
  },
  {
   "cell_type": "code",
   "execution_count": 11,
   "metadata": {},
   "outputs": [
    {
     "name": "stdout",
     "output_type": "stream",
     "text": [
      "CPU times: user 7.39 s, sys: 4 ms, total: 7.39 s\n",
      "Wall time: 7.45 s\n",
      "(11475, 14085)\n"
     ]
    }
   ],
   "source": [
    "tfidf_vectorizer = TfidfVectorizer(max_df=1.0,max_features=20000,use_idf=True,tokenizer=tokenize_and_stem,ngram_range=(1,3))\n",
    "%time  tfidf_matrix = tfidf_vectorizer.fit_transform(features_splitted)\n",
    "print(tfidf_matrix.shape)"
   ]
  },
  {
   "cell_type": "code",
   "execution_count": 12,
   "metadata": {},
   "outputs": [],
   "source": [
    "terms = tfidf_vectorizer.get_feature_names()"
   ]
  },
  {
   "cell_type": "code",
   "execution_count": 13,
   "metadata": {},
   "outputs": [],
   "source": [
    "from sklearn.metrics.pairwise import cosine_similarity\n",
    "\n",
    "dist = 1-cosine_similarity(tfidf_matrix)"
   ]
  },
  {
   "cell_type": "code",
   "execution_count": 14,
   "metadata": {},
   "outputs": [
    {
     "data": {
      "text/plain": [
       "(11475, 11475)"
      ]
     },
     "execution_count": 14,
     "metadata": {},
     "output_type": "execute_result"
    }
   ],
   "source": [
    "dist.shape"
   ]
  },
  {
   "cell_type": "code",
   "execution_count": 15,
   "metadata": {},
   "outputs": [
    {
     "data": {
      "text/plain": [
       "116"
      ]
     },
     "execution_count": 15,
     "metadata": {},
     "output_type": "execute_result"
    }
   ],
   "source": [
    "len(cate)"
   ]
  },
  {
   "cell_type": "code",
   "execution_count": 16,
   "metadata": {},
   "outputs": [
    {
     "data": {
      "text/plain": [
       "116"
      ]
     },
     "execution_count": 16,
     "metadata": {},
     "output_type": "execute_result"
    }
   ],
   "source": [
    "len(documents)"
   ]
  },
  {
   "cell_type": "code",
   "execution_count": 17,
   "metadata": {},
   "outputs": [
    {
     "name": "stdout",
     "output_type": "stream",
     "text": [
      "CPU times: user 13 s, sys: 36 ms, total: 13 s\n",
      "Wall time: 13.1 s\n"
     ]
    },
    {
     "data": {
      "text/plain": [
       "KMeans(algorithm='auto', copy_x=True, init='k-means++', max_iter=300,\n",
       "    n_clusters=50, n_init=10, n_jobs=1, precompute_distances='auto',\n",
       "    random_state=None, tol=0.0001, verbose=0)"
      ]
     },
     "execution_count": 17,
     "metadata": {},
     "output_type": "execute_result"
    }
   ],
   "source": [
    "from sklearn.externals import joblib\n",
    "from sklearn.cluster import KMeans\n",
    "\n",
    "num_clusters = 50\n",
    "km = KMeans(n_clusters = num_clusters)\n",
    "\n",
    "%time km.fit(tfidf_matrix)\n",
    "#dump the clusters for later user\n",
    "#joblib.dump(km,'clusters.pkl')"
   ]
  },
  {
   "cell_type": "code",
   "execution_count": 18,
   "metadata": {},
   "outputs": [
    {
     "name": "stdout",
     "output_type": "stream",
     "text": [
      "[2, 23, 23, 23, 23, 23, 47, 23, 23, 21, 1, 21, 21, 23, 21, 21, 47, 21, 23, 23, 21, 21, 3, 3, 3, 21, 21, 23, 3, 3, 3, 11, 3, 3, 23, 21, 21, 3, 3, 47, 21, 47, 10, 11, 1, 28, 21, 47, 3, 47, 1, 3, 11, 1, 21, 41, 1, 21, 28, 1, 28, 28, 47, 28, 1, 11, 28, 27, 27, 47, 47, 11, 28, 11, 47, 1, 27, 28, 3, 27, 27, 11, 23, 11, 27, 27, 36, 47, 28, 36, 47, 28, 27, 36, 48, 43]\n"
     ]
    }
   ],
   "source": [
    "#load the cluster\n",
    "from sklearn.externals import joblib\n",
    "cl_load = joblib.load('clusters.pkl')\n",
    "def_clusters = cl_load.labels_.tolist()\n",
    "print(def_clusters[:96]) #just print to see the clusters"
   ]
  },
  {
   "cell_type": "code",
   "execution_count": 19,
   "metadata": {},
   "outputs": [],
   "source": [
    "#convert features_splitted into a Series Pandas\n",
    "document = {'category':docs_id,'content':features_splitted ,'clusters':def_clusters}\n",
    "frame = pd.DataFrame(document,index=[def_clusters],columns=['category','content','clusters'])"
   ]
  },
  {
   "cell_type": "code",
   "execution_count": 20,
   "metadata": {},
   "outputs": [
    {
     "data": {
      "text/plain": [
       "15    360\n",
       "32    345\n",
       "45    345\n",
       "19    330\n",
       "3     300\n",
       "14    300\n",
       "16    300\n",
       "22    300\n",
       "28    285\n",
       "41    285\n",
       "37    285\n",
       "38    285\n",
       "6     270\n",
       "17    270\n",
       "8     270\n",
       "49    270\n",
       "4     270\n",
       "47    270\n",
       "46    255\n",
       "21    255\n",
       "1     255\n",
       "23    255\n",
       "33    240\n",
       "26    240\n",
       "24    225\n",
       "42    225\n",
       "35    225\n",
       "39    225\n",
       "43    225\n",
       "12    225\n",
       "13    225\n",
       "5     225\n",
       "27    210\n",
       "10    210\n",
       "9     210\n",
       "31    195\n",
       "36    195\n",
       "25    180\n",
       "44    180\n",
       "11    180\n",
       "20    165\n",
       "2     165\n",
       "18    165\n",
       "34    165\n",
       "29    135\n",
       "48    120\n",
       "0     120\n",
       "40     90\n",
       "30     75\n",
       "7      75\n",
       "Name: clusters, dtype: int64"
      ]
     },
     "execution_count": 20,
     "metadata": {},
     "output_type": "execute_result"
    }
   ],
   "source": [
    "frame['clusters'].value_counts()"
   ]
  },
  {
   "cell_type": "code",
   "execution_count": 21,
   "metadata": {},
   "outputs": [
    {
     "data": {
      "text/html": [
       "<div>\n",
       "<style scoped>\n",
       "    .dataframe tbody tr th:only-of-type {\n",
       "        vertical-align: middle;\n",
       "    }\n",
       "\n",
       "    .dataframe tbody tr th {\n",
       "        vertical-align: top;\n",
       "    }\n",
       "\n",
       "    .dataframe thead th {\n",
       "        text-align: right;\n",
       "    }\n",
       "</style>\n",
       "<table border=\"1\" class=\"dataframe\">\n",
       "  <thead>\n",
       "    <tr style=\"text-align: right;\">\n",
       "      <th></th>\n",
       "      <th>category</th>\n",
       "      <th>content</th>\n",
       "      <th>clusters</th>\n",
       "    </tr>\n",
       "  </thead>\n",
       "  <tbody>\n",
       "    <tr>\n",
       "      <th>37</th>\n",
       "      <td>87</td>\n",
       "      <td>dynalectron athletic elections bhputah denwa c...</td>\n",
       "      <td>37</td>\n",
       "    </tr>\n",
       "    <tr>\n",
       "      <th>8</th>\n",
       "      <td>87</td>\n",
       "      <td>detected conservatism bonn decided converts da...</td>\n",
       "      <td>8</td>\n",
       "    </tr>\n",
       "    <tr>\n",
       "      <th>17</th>\n",
       "      <td>87</td>\n",
       "      <td>coopervision clercq chatted enfield employee e...</td>\n",
       "      <td>17</td>\n",
       "    </tr>\n",
       "    <tr>\n",
       "      <th>41</th>\n",
       "      <td>87</td>\n",
       "      <td>cbl dwindled educate danger academics amnount ...</td>\n",
       "      <td>41</td>\n",
       "    </tr>\n",
       "    <tr>\n",
       "      <th>42</th>\n",
       "      <td>87</td>\n",
       "      <td>athletic alatenn cry counties arbitrary compac...</td>\n",
       "      <td>42</td>\n",
       "    </tr>\n",
       "    <tr>\n",
       "      <th>1</th>\n",
       "      <td>87</td>\n",
       "      <td>clercq discuss abating august completion brant...</td>\n",
       "      <td>1</td>\n",
       "    </tr>\n",
       "    <tr>\n",
       "      <th>32</th>\n",
       "      <td>87</td>\n",
       "      <td>athletic bale cole darman audit applications b...</td>\n",
       "      <td>32</td>\n",
       "    </tr>\n",
       "    <tr>\n",
       "      <th>37</th>\n",
       "      <td>87</td>\n",
       "      <td>ameritrust clipbecause airframe dnzr column be...</td>\n",
       "      <td>37</td>\n",
       "    </tr>\n",
       "    <tr>\n",
       "      <th>5</th>\n",
       "      <td>87</td>\n",
       "      <td>cbl breathing ecuadoreans culver dur clock cru...</td>\n",
       "      <td>5</td>\n",
       "    </tr>\n",
       "    <tr>\n",
       "      <th>10</th>\n",
       "      <td>87</td>\n",
       "      <td>cbl csx bni awaits creditcard coop creates dec...</td>\n",
       "      <td>10</td>\n",
       "    </tr>\n",
       "  </tbody>\n",
       "</table>\n",
       "</div>"
      ],
      "text/plain": [
       "    category                                            content  clusters\n",
       "37        87  dynalectron athletic elections bhputah denwa c...        37\n",
       "8         87  detected conservatism bonn decided converts da...         8\n",
       "17        87  coopervision clercq chatted enfield employee e...        17\n",
       "41        87  cbl dwindled educate danger academics amnount ...        41\n",
       "42        87  athletic alatenn cry counties arbitrary compac...        42\n",
       "1         87  clercq discuss abating august completion brant...         1\n",
       "32        87  athletic bale cole darman audit applications b...        32\n",
       "37        87  ameritrust clipbecause airframe dnzr column be...        37\n",
       "5         87  cbl breathing ecuadoreans culver dur clock cru...         5\n",
       "10        87  cbl csx bni awaits creditcard coop creates dec...        10"
      ]
     },
     "execution_count": 21,
     "metadata": {},
     "output_type": "execute_result"
    }
   ],
   "source": [
    "frame.iloc[9658:9668] #the less number of clusters the more number of same category documents belongs to same clusters"
   ]
  },
  {
   "cell_type": "code",
   "execution_count": 22,
   "metadata": {},
   "outputs": [
    {
     "data": {
      "text/plain": [
       "clusters\n",
       "0     50.325000\n",
       "1     46.874510\n",
       "2     48.793939\n",
       "3     46.530000\n",
       "4     49.351852\n",
       "5     50.484444\n",
       "6     47.696296\n",
       "7     51.253333\n",
       "8     49.174074\n",
       "9     47.452381\n",
       "10    47.947619\n",
       "11    46.572222\n",
       "12    51.017778\n",
       "13    50.035556\n",
       "14    47.390000\n",
       "15    47.825000\n",
       "16    50.840000\n",
       "17    48.840741\n",
       "18    51.921212\n",
       "19    49.651515\n",
       "20    51.848485\n",
       "21    45.631373\n",
       "22    47.343333\n",
       "23    45.729412\n",
       "24    52.035556\n",
       "25    49.283333\n",
       "26    50.533333\n",
       "27    46.185714\n",
       "28    46.312281\n",
       "29    46.777778\n",
       "30    51.600000\n",
       "31    51.184615\n",
       "32    49.562319\n",
       "33    50.254167\n",
       "34    50.181818\n",
       "35    50.262222\n",
       "36    46.989744\n",
       "37    48.821053\n",
       "38    49.266667\n",
       "39    47.240000\n",
       "40    50.911111\n",
       "41    48.245614\n",
       "42    48.484444\n",
       "43    47.048889\n",
       "44    51.288889\n",
       "45    48.211594\n",
       "46    49.850980\n",
       "47    45.988889\n",
       "48    50.008333\n",
       "49    50.318519\n",
       "Name: category, dtype: float64"
      ]
     },
     "execution_count": 22,
     "metadata": {},
     "output_type": "execute_result"
    }
   ],
   "source": [
    "grouped = frame['category'].groupby(frame['clusters'])\n",
    "grouped.mean() "
   ]
  },
  {
   "cell_type": "code",
   "execution_count": 23,
   "metadata": {},
   "outputs": [
    {
     "name": "stdout",
     "output_type": "stream",
     "text": [
      "11476\n"
     ]
    }
   ],
   "source": [
    "#convert document into series\n",
    "series_docs = pd.Series(documents)\n",
    "individual_docs = [] #to store individual documents\n",
    "for document in series_docs:\n",
    "    for indi_docs in document:\n",
    "        individual_docs.append(indi_docs)\n",
    "\n",
    "individual_docs.pop()\n",
    "print(len(individual_docs))"
   ]
  },
  {
   "cell_type": "code",
   "execution_count": 24,
   "metadata": {},
   "outputs": [
    {
     "name": "stdout",
     "output_type": "stream",
     "text": [
      "(11475,)\n"
     ]
    }
   ],
   "source": [
    "series_indi_docs = pd.Series(individual_docs)\n",
    "series_indi_docs = series_indi_docs[:-1]\n",
    "print(series_indi_docs.shape) #the shape of frame is (11475,4)"
   ]
  },
  {
   "cell_type": "code",
   "execution_count": 25,
   "metadata": {},
   "outputs": [
    {
     "data": {
      "text/html": [
       "<div>\n",
       "<style scoped>\n",
       "    .dataframe tbody tr th:only-of-type {\n",
       "        vertical-align: middle;\n",
       "    }\n",
       "\n",
       "    .dataframe tbody tr th {\n",
       "        vertical-align: top;\n",
       "    }\n",
       "\n",
       "    .dataframe thead th {\n",
       "        text-align: right;\n",
       "    }\n",
       "</style>\n",
       "<table border=\"1\" class=\"dataframe\">\n",
       "  <thead>\n",
       "    <tr style=\"text-align: right;\">\n",
       "      <th></th>\n",
       "      <th>category</th>\n",
       "      <th>content</th>\n",
       "      <th>clusters</th>\n",
       "    </tr>\n",
       "  </thead>\n",
       "  <tbody>\n",
       "    <tr>\n",
       "      <th>2</th>\n",
       "      <td>0</td>\n",
       "      <td>alfonsin allsuite arnott bonded briefed bulax ...</td>\n",
       "      <td>2</td>\n",
       "    </tr>\n",
       "    <tr>\n",
       "      <th>23</th>\n",
       "      <td>0</td>\n",
       "      <td>dependent cellulosa allentown bases ergenc err...</td>\n",
       "      <td>23</td>\n",
       "    </tr>\n",
       "    <tr>\n",
       "      <th>23</th>\n",
       "      <td>0</td>\n",
       "      <td>cellulosa emphasizing edina celsius dependent ...</td>\n",
       "      <td>23</td>\n",
       "    </tr>\n",
       "    <tr>\n",
       "      <th>23</th>\n",
       "      <td>0</td>\n",
       "      <td>edina cellulosa allentown emphasizing celsius ...</td>\n",
       "      <td>23</td>\n",
       "    </tr>\n",
       "    <tr>\n",
       "      <th>23</th>\n",
       "      <td>0</td>\n",
       "      <td>downed ecologists edina emphasizing cellulosa ...</td>\n",
       "      <td>23</td>\n",
       "    </tr>\n",
       "  </tbody>\n",
       "</table>\n",
       "</div>"
      ],
      "text/plain": [
       "    category                                            content  clusters\n",
       "2          0  alfonsin allsuite arnott bonded briefed bulax ...         2\n",
       "23         0  dependent cellulosa allentown bases ergenc err...        23\n",
       "23         0  cellulosa emphasizing edina celsius dependent ...        23\n",
       "23         0  edina cellulosa allentown emphasizing celsius ...        23\n",
       "23         0  downed ecologists edina emphasizing cellulosa ...        23"
      ]
     },
     "execution_count": 25,
     "metadata": {},
     "output_type": "execute_result"
    }
   ],
   "source": [
    "frame.head()"
   ]
  },
  {
   "cell_type": "code",
   "execution_count": 26,
   "metadata": {},
   "outputs": [
    {
     "data": {
      "text/html": [
       "<div>\n",
       "<style scoped>\n",
       "    .dataframe tbody tr th:only-of-type {\n",
       "        vertical-align: middle;\n",
       "    }\n",
       "\n",
       "    .dataframe tbody tr th {\n",
       "        vertical-align: top;\n",
       "    }\n",
       "\n",
       "    .dataframe thead th {\n",
       "        text-align: right;\n",
       "    }\n",
       "</style>\n",
       "<table border=\"1\" class=\"dataframe\">\n",
       "  <thead>\n",
       "    <tr style=\"text-align: right;\">\n",
       "      <th></th>\n",
       "      <th>category</th>\n",
       "      <th>content</th>\n",
       "      <th>clusters</th>\n",
       "      <th>document</th>\n",
       "    </tr>\n",
       "  </thead>\n",
       "  <tbody>\n",
       "    <tr>\n",
       "      <th>40</th>\n",
       "      <td>44</td>\n",
       "      <td>discussions alter cyl countertrading deregulat...</td>\n",
       "      <td>40</td>\n",
       "      <td>0003569</td>\n",
       "    </tr>\n",
       "    <tr>\n",
       "      <th>16</th>\n",
       "      <td>44</td>\n",
       "      <td>beaverton compo briefly downers brsa dec consu...</td>\n",
       "      <td>16</td>\n",
       "      <td>0008869</td>\n",
       "    </tr>\n",
       "    <tr>\n",
       "      <th>12</th>\n",
       "      <td>44</td>\n",
       "      <td>complied augment discuss deadbeats ecuadoreans...</td>\n",
       "      <td>12</td>\n",
       "      <td>0003770</td>\n",
       "    </tr>\n",
       "    <tr>\n",
       "      <th>0</th>\n",
       "      <td>44</td>\n",
       "      <td>boxboard entering advocate divide consultancy ...</td>\n",
       "      <td>0</td>\n",
       "      <td>0007668</td>\n",
       "    </tr>\n",
       "    <tr>\n",
       "      <th>12</th>\n",
       "      <td>44</td>\n",
       "      <td>electromedics committees ctws effectuated cara...</td>\n",
       "      <td>12</td>\n",
       "      <td>0005203</td>\n",
       "    </tr>\n",
       "    <tr>\n",
       "      <th>31</th>\n",
       "      <td>44</td>\n",
       "      <td>ameritrust bonas concerns docugraphix cry enti...</td>\n",
       "      <td>31</td>\n",
       "      <td>0001490</td>\n",
       "    </tr>\n",
       "    <tr>\n",
       "      <th>26</th>\n",
       "      <td>44</td>\n",
       "      <td>ctws cyl chartleston discontinued dangerous be...</td>\n",
       "      <td>26</td>\n",
       "      <td>0008716</td>\n",
       "    </tr>\n",
       "    <tr>\n",
       "      <th>26</th>\n",
       "      <td>44</td>\n",
       "      <td>docugraphix dark boxboard chauvco bottler augm...</td>\n",
       "      <td>26</td>\n",
       "      <td>0008699</td>\n",
       "    </tr>\n",
       "    <tr>\n",
       "      <th>34</th>\n",
       "      <td>44</td>\n",
       "      <td>braude dardanelles alter communities amtr answ...</td>\n",
       "      <td>34</td>\n",
       "      <td>0008809</td>\n",
       "    </tr>\n",
       "    <tr>\n",
       "      <th>31</th>\n",
       "      <td>44</td>\n",
       "      <td>briefly cyl dark cara cigra ctws bluebellaltam...</td>\n",
       "      <td>31</td>\n",
       "      <td>0001533</td>\n",
       "    </tr>\n",
       "  </tbody>\n",
       "</table>\n",
       "</div>"
      ],
      "text/plain": [
       "    category                                            content  clusters  \\\n",
       "40        44  discussions alter cyl countertrading deregulat...        40   \n",
       "16        44  beaverton compo briefly downers brsa dec consu...        16   \n",
       "12        44  complied augment discuss deadbeats ecuadoreans...        12   \n",
       "0         44  boxboard entering advocate divide consultancy ...         0   \n",
       "12        44  electromedics committees ctws effectuated cara...        12   \n",
       "31        44  ameritrust bonas concerns docugraphix cry enti...        31   \n",
       "26        44  ctws cyl chartleston discontinued dangerous be...        26   \n",
       "26        44  docugraphix dark boxboard chauvco bottler augm...        26   \n",
       "34        44  braude dardanelles alter communities amtr answ...        34   \n",
       "31        44  briefly cyl dark cara cigra ctws bluebellaltam...        31   \n",
       "\n",
       "   document  \n",
       "40  0003569  \n",
       "16  0008869  \n",
       "12  0003770  \n",
       "0   0007668  \n",
       "12  0005203  \n",
       "31  0001490  \n",
       "26  0008716  \n",
       "26  0008699  \n",
       "34  0008809  \n",
       "31  0001533  "
      ]
     },
     "execution_count": 26,
     "metadata": {},
     "output_type": "execute_result"
    }
   ],
   "source": [
    "frame['document'] = series_indi_docs.values\n",
    "frame.iloc[6000:6010]"
   ]
  },
  {
   "cell_type": "code",
   "execution_count": 27,
   "metadata": {},
   "outputs": [],
   "source": [
    "document_content = frame['content']\n",
    "stopwords = nltk.corpus.stopwords.words('english')"
   ]
  },
  {
   "cell_type": "code",
   "execution_count": 28,
   "metadata": {},
   "outputs": [],
   "source": [
    "totalvocab_stemmed = []\n",
    "totalvocab_tokenized = []\n",
    "for i in document_content:\n",
    "    allwords_stemmed = tokenize_and_stem(i)\n",
    "    totalvocab_stemmed.append(allwords_stemmed)\n",
    "    \n",
    "    allwords_tokens = tokenize_only(i)\n",
    "    totalvocab_tokenized.append(allwords_tokens)"
   ]
  },
  {
   "cell_type": "code",
   "execution_count": 29,
   "metadata": {},
   "outputs": [
    {
     "data": {
      "text/plain": [
       "11475"
      ]
     },
     "execution_count": 29,
     "metadata": {},
     "output_type": "execute_result"
    }
   ],
   "source": [
    "len(totalvocab_stemmed)"
   ]
  },
  {
   "cell_type": "code",
   "execution_count": 30,
   "metadata": {},
   "outputs": [],
   "source": [
    "dict_documents = {'WordTokenized':totalvocab_tokenized,'WordStemmed':totalvocab_stemmed}"
   ]
  },
  {
   "cell_type": "code",
   "execution_count": 31,
   "metadata": {},
   "outputs": [],
   "source": [
    "vocab_frame = pd.DataFrame({'words':totalvocab_tokenized})"
   ]
  },
  {
   "cell_type": "code",
   "execution_count": 32,
   "metadata": {},
   "outputs": [
    {
     "data": {
      "text/plain": [
       "['cambist amag',\n",
       " 'cambist amag conshohocken',\n",
       " 'cambist cidn',\n",
       " 'cambist cidn coldwel',\n",
       " 'cambist cleric',\n",
       " 'cambist cleric denpac',\n",
       " 'cambist empow',\n",
       " 'cambrian',\n",
       " 'cambrian china',\n",
       " 'cambrian china airdrom']"
      ]
     },
     "execution_count": 32,
     "metadata": {},
     "output_type": "execute_result"
    }
   ],
   "source": [
    "terms[6040:6050]"
   ]
  },
  {
   "cell_type": "code",
   "execution_count": 33,
   "metadata": {},
   "outputs": [
    {
     "name": "stdout",
     "output_type": "stream",
     "text": [
      "Top terms per Cluster\n",
      "\n",
      "Clusters 0 words: copyright,carbon,carbon,acceller,admir,admir,depriv,carbon,edd,advis,becasu,advis,depriv,depriv,admir,acceller,acceller,copyright,copyright,convers,antiship,bug,corporacion,becasu,becasu,\n",
      "\n",
      "Clusters 0 Documents: 0006948 0008152 0003370 0009237 0004297 0001595 0000105 0002873 0002275 0008334 0001939 0006461 0008924 0005167 0005348 0002379 0000547 0009370 0005100 0006256 0001043 0006346 0005831 0002578 0006971 0001111 0003891 0001808 0008511 0005770 0000563 0003756 0001525 0001772 0009079 0003644 0004615 0004191 0000425 0006360 0003298 0005641 0003713 0001436 0009113 0008120 0006179 0007104 0005413 0006216 0006666 0003360 0007473 0002295 0005262 0003671 0006024 0008866 0007542 0007434 0007668 0007882 0009266 0003902 0005680 0008217 0000504 0008865 0009141 0006459 0000275 0007894 0005244 0001452 0002083 0007899 0007318 0005173 0004245 0009554 0002257 0000333 0006188 0004844 0007659 0000643 0002449 0001783 0002330 0002191 0006975 0006799 0001685 0006825 0005628 0006423 0000167 0009386 0005822 0001589 0008927 0008404 0006872 0000230 0008791 0006720 0001467 0006357 0003346 0008174 0002645 0001241 0007149 0004674 0004185 0008338 0000731 0008528 0002623 0007342 \n",
      "\n",
      "Clusters 1 words: ebmi,certif,draft,cntpershar,congressman,coop,deliveri,coop,amend,aurelio,clercq,danger,bcmp,bonn,annoy,abxff,buitoni,azusa,arauca,compar,advosystem,blast,educ,drsdf,conservat,\n",
      "\n",
      "Clusters 1 Documents: 0008798 0009417 0000001 0007159 0000663 0001391 0009419 0003802 0000579 0003639 0001632 0009436 0008976 0001759 0000708 0002760 0009320 0008118 0005138 0005714 0009374 0003047 0003654 0006153 0004645 0008165 0002044 0007542 0005544 0008798 0008852 0008876 0002278 0002278 0004484 0007895 0008270 0003595 0003321 0008629 0002007 0007589 0003357 0007864 0003585 0005290 0004931 0006484 0002842 0008137 0003326 0001503 0006187 0009390 0000448 0001515 0004187 0005595 0000710 0004551 0003865 0004685 0009376 0007640 0009262 0000587 0001473 0006532 0005561 0007454 0002978 0000951 0004347 0008216 0006846 0004723 0007690 0005383 0005879 0002843 0000272 0008524 0003853 0005610 0003208 0008970 0002870 0001488 0009548 0004667 0008207 0008423 0004343 0000999 0001297 0001639 0003055 0003014 0004058 0003396 0003932 0004671 0007190 0006811 0003864 0005857 0004747 0007386 0007351 0001539 0007457 0005094 0009535 0001325 0008123 0003027 0000987 0002041 0001822 0003961 0000001 0002879 0007268 0006326 0001667 0000574 0003152 0000887 0005162 0008193 0009574 0005270 0002259 0004888 0006920 0005540 0009364 0004022 0002143 0000305 0005668 0006403 0009031 0007288 0008409 0004219 0003580 0008274 0005661 0008919 0003212 0003659 0008144 0002655 0008670 0002112 0007896 0001320 0004873 0005990 0007099 0002180 0006367 0001428 0002025 0002220 0003783 0004923 0003521 0004774 0007910 0000669 0006509 0003562 0006742 0005665 0003929 0003387 0003372 0006327 0008674 0006510 0003012 0000304 0006266 0001420 0008652 0006339 0000870 0008702 0003135 0006536 0002197 0006136 0003143 0009301 0002775 0001681 0007992 0003688 0004071 0008039 0005268 0009069 0001683 0008267 0004630 0005671 0007996 0006085 0001010 0001154 0002143 0002415 0001062 0006103 0007881 0006546 0004221 0002628 0001311 0000588 0006711 0005474 0008780 0000715 0000711 0000113 0005372 0002459 0009356 0009292 0001147 0005013 0008820 0009067 0008546 0001290 0004897 0006549 0007536 0005272 0004000 0009204 0008406 0008947 0002548 0007663 0006064 0008691 0008875 0005267 0000284 0001284 0007272 \n",
      "\n",
      "Clusters 2 words: chiyoda,ceco,ceco,applic,athlet,ceco,chiyoda,creditcard,alatenn,coagent,chauvco,athlet,compactdisc,currenc,democraci,dio,acquir,burrbrown,convert,compar,bale,bni,addne,boot,eluvi,\n",
      "\n",
      "Clusters 2 Documents: 0000045 0009514 0003472 0005056 0004948 0004709 0001680 0007380 0001554 0009417 0005322 0002209 0002757 0000207 0005722 0000166 0003628 0003072 0002221 0006845 0002217 0005323 0009598 0009116 0008994 0006953 0004402 0007269 0007511 0005151 0007809 0003291 0003985 0007647 0002858 0001433 0007599 0007173 0008908 0005815 0007628 0007464 0000440 0007833 0000470 0009481 0001332 0006868 0007019 0002976 0001418 0004435 0007431 0001507 0001582 0007643 0001712 0007828 0005717 0002359 0000085 0005198 0004580 0008015 0003460 0003478 0007529 0009588 0006293 0006575 0002282 0001358 0008468 0004260 0008147 0009337 0003652 0003816 0003802 0001372 0002807 0009213 0009520 0001039 0001554 0007503 0003871 0009381 0002004 0004878 0002734 0008264 0000144 0001554 0003063 0000419 0001006 0004616 0003679 0008562 0000393 0008625 0003128 0006118 0003753 0001088 0000114 0004577 0009283 0006112 0007726 0000406 0001396 0005083 0005693 0008371 0009210 0003445 0002143 0007857 0008497 0004612 0002833 0006948 0005893 0001355 0002682 0008367 0004696 0008643 0009402 0001438 0003216 0002756 0007398 0003110 0009231 0004645 0006786 0002178 0009127 0003226 0009130 0009406 0002546 0000890 0000622 0002570 0005433 0002265 0002317 0004567 0001109 0005034 0009428 0005588 0005931 0002342 0003734 0007322 0000163 0009539 0006669 0009186 0004064 \n",
      "\n",
      "Clusters 3 words: aim,command,aim,cf,acquist,egan,asia,cleric,close,alcan,dire,esb,arv,ccic,avaj,adventur,amalgam,dynalectron,english,autospa,amend,bigi,dynavis,conshohocken,cutback,\n",
      "\n",
      "Clusters 3 Documents: 0004309 0007843 0004224 0004101 0002502 0002516 0002676 0002513 0007237 0006570 0002184 0006948 0009402 0000037 0002340 0001560 0006781 0005914 0000572 0006030 0001369 0005759 0004698 0006229 0008047 0000139 0006211 0006781 0001610 0007115 0008022 0008172 0005758 0006355 0008367 0004490 0005264 0003781 0005486 0002109 0007282 0006013 0001371 0002158 0007501 0003217 0007821 0006813 0003275 0005264 0002386 0004446 0007573 0007587 0006409 0008414 0004116 0009441 0008225 0006127 0000059 0007918 0006520 0003448 0008016 0001716 0004278 0006259 0007049 0001293 0002932 0000753 0001406 0002404 0004939 0001512 0001760 0005566 0004600 0009236 0005003 0000377 0006504 0002872 0004965 0006487 0008653 0004990 0008650 0002547 0004320 0003696 0003951 0000367 0005787 0006395 0005467 0006668 0002678 0000302 0003724 0004409 0003722 0007109 0005379 0004682 0005625 0009505 0001170 0000103 0003146 0002382 0000898 0000444 0001073 0004845 0004279 0007339 0005133 0009396 0007802 0001597 0004176 0004350 0003475 0006534 0005509 0007073 0007101 0005891 0006613 0005375 0005934 0007202 0002957 0001454 0009281 0005912 0002205 0008765 0001505 0002833 0007870 0005695 0004395 0007396 0000075 0005715 0008712 0005885 0003164 0000886 0004233 0008347 0006803 0009261 0001664 0009136 0008181 0003648 0007090 0002256 0006886 0007300 0001466 0003384 0008331 0009085 0006953 0007514 0008275 0006946 0006530 0003671 0008834 0000194 0007660 0008147 0004644 0001803 0001613 0001646 0007048 0005842 0009058 0004867 0007893 0008683 0009089 0007627 0002035 0005809 0003119 0007004 0002375 0005007 0002150 0001316 0004134 0001800 0008696 0004824 0003698 0007361 0003260 0005959 0005469 0003392 0006345 0005771 0001273 0004811 0009138 0001542 0004149 0002039 0004926 0005483 0004798 0001648 0000222 0008798 0000002 0000884 0003173 0006744 0001583 0009242 0000987 0003361 0000888 0002787 0002020 0000534 0000167 0000167 0004027 0000665 0007281 0000636 0002267 0006139 0004082 0003397 0004866 0005761 0005330 0004725 0003121 0007296 0001121 0005748 0004023 0004556 0005335 0005824 0001414 0005678 0004155 0002034 0003414 0001036 0002685 0003990 0005355 0006228 0009387 0000189 0003223 0002741 0008810 0002974 0002506 0002697 0008740 0002663 0001713 0002485 0001173 0000179 0006922 0008641 0009362 0003132 0006421 0006500 0002454 0002214 0005299 0001244 0003009 0001799 0003263 0001476 0005525 0008649 0003533 0007697 0007319 0004800 \n",
      "\n",
      "Clusters 4 words: braud,appoint,culp,complain,attain,employ,decreas,assign,box,analyz,eightlock,engag,compassion,automovil,asx,agre,columbus,btlr,aberford,ergenc,critchley,devalu,capsiz,draft,belgoluxembourg,\n",
      "\n",
      "Clusters 4 Documents: 0009571 0000962 0002879 0003422 0008413 0004338 0007252 0000167 0008980 0002346 0007974 0000854 0002040 0007310 0002950 0006901 0005932 0007658 0001970 0002042 0008833 0007221 0009115 0000369 0008457 0002353 0002061 0002775 0008719 0003413 0004090 0002356 0008387 0000989 0001368 0007836 0009597 0002050 0006025 0004254 0006476 0004450 0001223 0003763 0006893 0005332 0000989 0001238 0006209 0002714 0001069 0006771 0000846 0005615 0005982 0007023 0007315 0009222 0004379 0006747 0004526 0000332 0007456 0007107 0006180 0000948 0001267 0006917 0007527 0004510 0000816 0004946 0003872 0002831 0007404 0007834 0006150 0007959 0006494 0008778 0004692 0000775 0004804 0006034 0001283 0006396 0000252 0002781 0005964 0007672 0006422 0002201 0007394 0007751 0004411 0007408 0006631 0002420 0000660 0003336 0008523 0006292 0005425 0001888 0004550 0004581 0007655 0009208 0001107 0005765 0007084 0002971 0006339 0004358 0008367 0000885 0003899 0000213 0000513 0006174 0001510 0000075 0002154 0001829 0008301 0002749 0001403 0001848 0002020 0004232 0009212 0009494 0002996 0000998 0000684 0001222 0002823 0009409 0003609 0004922 0001202 0001522 0007211 0006291 0002096 0001562 0008396 0007812 0007810 0002832 0000495 0008643 0006353 0005062 0004042 0004470 0003425 0000658 0002591 0004098 0004886 0003487 0001831 0002704 0004163 0006384 0000690 0004237 0009105 0003548 0001819 0004648 0001864 0003762 0002766 0002479 0001630 0007187 0005550 0001464 0008844 0003237 0005463 0001670 0009076 0009551 0003604 0007684 0009405 0006499 0009444 0002000 0007334 0008321 0006686 0007906 0001665 0003961 0004014 0007297 0007287 0007870 0008712 0001391 0004403 0005551 0008860 0003899 0006311 0000167 0001039 0003579 0004099 0006206 0004957 0001236 0009029 0008469 0008051 0006049 0002950 0004649 0004977 0003641 0001681 0008556 0000040 0002524 0008418 0000891 0000729 0000798 0008694 0000148 0005833 0005354 0006427 0003379 0004065 0002160 0002619 0000915 0006958 0004437 0007779 0002480 0005152 0007258 0007988 0004047 0008455 0002328 0003008 0006193 0007698 0008138 0007632 0007775 0008215 0009358 0001356 0001225 0003868 0008178 0008584 0001523 0004579 0003632 0003149 0000826 \n",
      "\n",
      "Clusters 5 words: cellulosa,allentown,depend,cavendish,capsiz,down,edina,bldsst,base,ergenc,emphas,ecologist,brink,begin,celsius,confirm,curitiba,capsiz,cellulosa,brand,bejam,appoint,dismiss,attleboro,chancellor,\n",
      "\n",
      "Clusters 5 Documents: 0000138 0008762 0006148 0004843 0006767 0007522 0007092 0006084 0005683 0006026 0004292 0006527 0001506 0001163 0002876 0006309 0000983 0004450 0001951 0004030 0001862 0001021 0000218 0003961 0006904 0004913 0004956 0001263 0000649 0002294 0009401 0007858 0000066 0000391 0000901 0001339 0006004 0004738 0006970 0001801 0003992 0001773 0000017 0007387 0001791 0005239 0004335 0000758 0003534 0004366 0003023 0004525 0006766 0004372 0001828 0008724 0000875 0007039 0004753 0008163 0006262 0004514 0004952 0005440 0007341 0005534 0001408 0002402 0003337 0005423 0002968 0005882 0003674 0005402 0004138 0001419 0001374 0005491 0008789 0003846 0004690 0004969 0003522 0003697 0007021 0006928 0000779 0003909 0005730 0000060 0002229 0007448 0000895 0006901 0004693 0009568 0001191 0003596 0007919 0003369 0003699 0000599 0000038 0001932 0007413 0007965 0005019 0005653 0005333 0002198 0009334 0007298 0006916 0007210 0003625 0007862 0004063 0003565 0008160 0001497 0003635 0000222 0005678 0003607 0001377 0005718 0008850 0001724 0009471 0004016 0005800 0004220 0004358 0005343 0008266 0005309 0000501 0003716 0000457 0000262 0009461 0008451 0003147 0002797 0006208 0003284 0000352 0006514 0007837 0003575 0008587 0008242 0005232 0002052 0002168 0002242 0000857 0002238 0004306 0005904 0008776 0002539 0001160 0007057 0006267 0005217 0002529 0009093 0007560 0000000 0003743 0005695 0008117 0002795 0007048 0006301 0000030 0008967 0002708 0005263 0001055 0004698 0000585 0006051 0002510 0006143 0009260 0001421 0003603 0005829 0007370 0002518 0004175 0004081 0009285 0009350 0001221 0004902 0004397 0003769 0000988 0000678 0002722 0005798 0001524 0004564 0005079 0008472 0005055 0006276 0001691 0008648 0005840 0002784 0002604 0008290 0005274 0004848 0002461 0006164 0004633 0000771 0008316 0000195 0006964 \n",
      "\n",
      "Clusters 6 words: differenti,bushel,bloc,barent,confidenceinspir,bilfing,enhanc,bee,capsiz,epto,cmac,blah,amalgam,babylon,depot,adher,critchley,bask,aisa,employ,braud,defin,belgoluxembourg,cleric,draft,\n",
      "\n",
      "Clusters 6 Documents: 0004025 0006053 0004038 0004909 0001561 0003608 0003144 0007320 0003343 0000493 0006982 0005715 0004590 0001231 0001289 0004358 0005163 0003160 0009328 0009550 0006230 0000568 0008897 0007037 0008926 0001214 0007005 0001987 0007025 0008880 0005049 0008896 0000237 0005282 0005281 0008756 0002994 0002877 0007328 0007012 0008272 0004179 0004966 0000369 0006477 0009420 0006124 0005453 0001466 0008441 0008883 0002350 0004090 0008412 0003351 0002383 0009201 0006588 0009233 0003005 0001659 0003618 0007175 0007929 0004494 0000918 0000946 0009112 0008027 0002543 0007943 0006850 0005849 0004299 0000676 0006158 0003314 0006364 0004277 0007152 0002721 0003498 0002101 0009464 0000750 0008436 0007097 0005585 0003049 0003105 0004322 0004328 0002747 0001709 0006853 0005508 0008131 0001975 0007703 0000760 0000969 0004211 0003350 0006754 0003261 0003840 0007646 0004555 0008637 0005222 0007096 0006912 0006995 0007844 0004610 0006998 0000361 0003765 0000738 0007306 0004719 0006629 0004416 0003447 0002108 0006355 0008150 0000180 0005762 0008613 0001366 0002233 0009037 0001544 0004948 0001614 0008643 0005790 0001123 0003648 0003728 0003501 0001265 0004647 0000167 0007218 0000283 0001916 0000605 0006796 0007513 0008859 0004983 0002827 0008777 0009127 0008508 0006719 0007220 0005025 0004356 0004172 0003944 0008084 0000460 0004549 0007822 0003803 0002986 0008464 0001035 0005448 0002771 0008595 0001463 0008251 0007987 0006772 0005016 0007819 0002031 0000117 0002758 0001894 0002063 0001794 0009163 0002102 0005955 0007108 0008093 0006114 0005221 0008096 0001737 0007790 0004193 0000027 0004415 0005707 0004868 0003353 0008327 0005700 0000219 0000187 0002411 0002806 0005358 0000221 0002415 0006933 0004074 0004722 0000277 0002175 0008049 0006913 0008314 0006091 0001375 0004518 0002706 0006092 0009016 0006855 0009019 0008849 0007875 0001789 0000002 0000222 0008072 0005945 0002048 0007939 0006655 0006943 0008993 0003015 0004136 0002668 0000776 0002316 0001559 0004255 0004341 0009531 0006859 0004890 0001529 0002643 0001224 0004764 0006260 0005862 0004011 0008596 0001844 0000083 0002538 0008566 0002649 0007043 0001728 0006442 0003427 0006732 0001495 0000957 \n",
      "\n",
      "Clusters 7 words: coordin,eightlock,confidata,desktop,engag,commemor,depreci,aulnays,engag,depreci,coordin,dmisc,cben,chienm,carri,ax,apil,centreright,aqtn,capit,bedel,critchley,bristolmey,coupl,escal,\n",
      "\n",
      "Clusters 7 Documents: 0002244 0002736 0007413 0002199 0004812 0006887 0004863 0009315 0001948 0001928 0008275 0002657 0004637 0002653 0003227 0001516 0007924 0008956 0000006 0005420 0007963 0004566 0006640 0002324 0008729 0003524 0002552 0000376 0004801 0004120 0000495 0007525 0007907 0006484 0009370 0008033 0007839 0008774 0006401 0008831 0009025 0000480 0007642 0004684 0004695 0006047 0004944 0008872 0006864 0009243 0006531 0006665 0004529 0009257 0001972 0007383 0004868 0008050 0001142 0007847 0002550 0007279 0003623 0002281 0001389 0008241 0000982 0009314 0005029 0002224 0000941 0007989 0003083 0000630 0004223 \n",
      "\n",
      "Clusters 8 words: decim,boot,beaus,bethpag,branco,bank,authoris,divid,bedel,bojangl,bad,consult,coop,cntpershar,danger,capitol,capitol,alcan,alcan,cntpershar,cntpershar,aldakhil,aldakhil,diversifi,athlet,\n",
      "\n",
      "Clusters 8 Documents: 0001054 0001840 0003354 0001391 0007917 0009419 0007015 0008266 0001123 0003899 0001766 0002421 0000637 0009419 0003059 0005030 0004837 0001331 0008770 0002133 0005703 0002051 0001301 0008557 0007366 0008915 0008958 0004052 0008883 0005240 0004455 0008988 0007901 0008704 0005275 0009601 0008113 0009371 0008285 0006171 0003626 0003634 0007375 0001228 0006403 0004273 0008576 0001951 0006480 0009024 0001368 0007944 0006616 0005233 0004305 0000604 0000024 0007419 0005485 0008407 0005093 0001080 0000285 0003828 0001457 0004344 0002563 0003938 0002846 0003511 0001798 0005847 0005775 0001307 0000389 0003949 0002939 0006333 0007371 0002441 0008664 0004383 0000627 0004769 0004204 0004229 0003896 0007186 0004253 0005526 0008204 0008269 0002966 0007812 0001064 0007953 0000382 0005367 0009563 0003541 0001584 0006918 0007976 0006576 0002489 0008742 0003315 0004186 0001114 0008105 0002445 0001865 0006168 0008453 0005695 0007664 0005329 0004356 0007891 0009521 0009562 0003817 0000084 0005044 0008391 0003862 0008002 0007708 0009516 0007808 0006380 0007380 0006880 0009326 0003744 0001270 0000513 0009404 0001795 0002498 0002186 0007568 0007424 0005760 0005012 0000373 0005852 0003266 0009060 0003568 0005085 0009433 0004838 0002838 0002152 0008274 0006462 0002836 0008976 0007269 0003763 0009084 0004986 0003391 0001624 0000358 0005498 0001746 0004797 0006161 0008390 0002948 0005143 0007137 0005076 0008550 0000337 0008309 0005063 0007327 0008921 0007795 0000531 0007872 0004104 0000464 0001891 0007712 0003794 0002215 0004095 0000573 0002226 0008787 0006170 0008594 0008073 0005961 0000529 0006913 0000002 0009328 0007350 0004233 0004841 0008706 0002815 0007738 0007754 0004267 0003802 0009417 0006382 0001603 0007010 0008048 0009510 0007483 0001598 0006187 0004837 0006181 0002085 0008054 0004915 0004931 0002775 0007829 0001138 0009258 0007265 0005560 0001756 0009259 0006063 0001350 0003408 0008440 0009309 0005349 0002945 0001019 0007440 0008761 0001687 0002605 0002156 0005656 0003764 0001959 0007054 0004920 0006780 0007050 0000020 0006627 0002345 0001540 0006261 0004681 0004051 0008315 0000098 0001690 0005751 0002519 0009354 0004828 0000929 0003908 \n",
      "\n",
      "Clusters 9 words: conceal,educ,conservat,cutback,air,cetus,annoy,ansi,branco,downgrad,cole,air,annoy,arequipa,cccr,edelman,boom,adventur,clara,electromed,deep,employ,entireti,drsdf,clercq,\n",
      "\n",
      "Clusters 9 Documents: 0009545 0004931 0006120 0003421 0005185 0004614 0005179 0000019 0009582 0001829 0001179 0007137 0001047 0003259 0001074 0001242 0007762 0007575 0002108 0007237"
     ]
    },
    {
     "name": "stderr",
     "output_type": "stream",
     "text": [
      "/usr/local/lib/python3.5/dist-packages/ipykernel_launcher.py:17: DeprecationWarning: \n",
      ".ix is deprecated. Please use\n",
      ".loc for label based indexing or\n",
      ".iloc for positional indexing\n",
      "\n",
      "See the documentation here:\n",
      "http://pandas.pydata.org/pandas-docs/stable/indexing.html#ix-indexer-is-deprecated\n"
     ]
    },
    {
     "name": "stdout",
     "output_type": "stream",
     "text": [
      " 0008441 0003302 0003281 0004069 0001240 0008997 0004469 0009474 0006321 0008997 0000524 0007495 0002004 0006706 0004073 0001735 0005392 0009046 0007484 0005108 0009567 0004295 0007074 0002938 0001037 0001706 0001472 0008024 0007747 0000443 0003820 0004281 0000748 0000134 0003390 0001922 0001897 0004386 0008170 0004570 0003403 0005321 0004703 0001072 0003494 0002987 0008233 0001286 0006458 0007633 0003974 0003882 0006905 0001652 0000858 0007167 0002927 0002245 0001323 0004784 0004720 0005124 0008928 0007694 0005168 0004271 0005548 0000380 0005991 0005898 0003468 0008449 0005479 0004499 0000091 0004373 0000319 0009566 0003011 0009522 0007137 0005732 0008367 0001096 0009419 0002172 0002244 0004982 0004592 0001033 0004352 0008939 0003931 0004415 0001935 0000696 0008891 0005674 0005743 0002171 0008474 0007964 0007052 0004565 0007984 0007935 0004003 0004988 0003418 0001152 0001329 0007364 0000488 0008282 0000390 0006726 0005405 0005974 0004937 0002388 0003294 0008961 0005909 0002891 0008114 0003683 0007595 0001872 0005767 0007338 0009094 0001708 0001913 0001905 0005741 0003251 0003617 0003570 0000410 0004150 0005649 0003600 0000160 0001969 0000687 0002146 0001193 0003894 0004455 0009355 0001024 0002954 0003655 0006830 0008627 0001490 0007290 0008846 0007841 0007169 0001269 0002026 0007736 0007763 0000200 0002573 0008903 0007636 0001901 0008620 0000215 0004608 0001092 0008992 0009583 0002451 0002789 0004652 0002537 0000824 0000477 0005443 0008424 0004325 0003161 0000293 0009264 0000714 0003333 0008784 \n",
      "\n",
      "Clusters 10 words: consist,claymont,consolod,basena,emmett,china,deterior,basena,devic,arm,danger,despatch,abxff,condom,demonstr,employ,demonstr,basena,approxim,demonstr,drsdf,countri,approxim,drsdf,cjmffm,\n",
      "\n",
      "Clusters 10 Documents: 0000297 0001992 0002707 0000194 0009003 0003340 0007396 0002754 0005700 0003919 0001544 0003707 0003802 0006563 0006538 0001358 0002838 0002036 0000905 0001752 0002007 0000582 0006824 0008773 0006438 0008248 0002100 0003252 0001552 0003712 0006041 0002488 0003352 0001686 0002341 0002348 0005188 0008635 0000958 0008848 0003506 0004430 0006511 0008362 0002555 0007990 0001743 0003675 0005562 0001832 0009241 0000499 0007850 0001653 0007960 0004609 0006602 0001483 0002564 0000618 0005689 0000662 0004772 0001827 0001571 0001001 0001298 0004313 0004699 0000021 0007223 0004942 0005504 0007942 0003202 0001023 0003690 0008202 0008230 0001125 0001504 0006828 0004009 0009561 0001153 0001502 0002672 0009450 0003878 0004775 0007188 0008103 0007000 0003063 0007159 0005382 0001242 0007469 0001425 0000172 0004061 0005607 0009324 0009410 0005285 0007528 0001029 0000305 0008148 0003927 0003694 0008171 0007594 0007679 0008672 0003703 0000458 0002368 0003542 0007800 0006749 0007159 0000495 0003847 0004596 0001973 0002906 0003947 0005059 0007425 0003041 0007617 0003670 0006969 0004013 0005457 0006425 0004440 0003936 0003159 0002875 0003544 0008369 0005531 0009179 0008878 0003025 0003451 0001612 0001983 0007955 0009148 0000096 0004234 0004980 0002354 0002884 0009366 0000213 0000231 0000539 0002355 0001494 0001131 0005569 0008002 0006880 0008303 0006355 0007591 0008966 0002171 0004858 0001145 0000074 0001015 0004827 0002905 0002782 0005201 0007250 0006701 0000789 0004916 0008434 0000769 0002553 0008214 0007590 0008708 0002261 0002750 0003107 0000331 0001875 0007817 0005005 0002969 0006751 0007491 0005559 0002593 0003611 0003076 0007580 0007645 0001553 0003966 0002883 0006157 \n",
      "\n",
      "Clusters 11 words: cvn,argument,capac,dire,cuadra,beli,capit,dynavis,entri,csbc,attract,dump,bokma,afbf,bristolmey,augment,attend,demonstr,bldsst,attract,attract,erupt,deplor,deplor,belgoluxembourg,\n",
      "\n",
      "Clusters 11 Documents: 0002038 0006148 0003902 0005048 0008860 0005790 0002996 0007950 0002204 0000155 0007738 0009220 0003569 0004256 0001071 0009279 0001179 0001402 0005342 0004291 0007648 0003702 0004207 0006224 0005655 0001240 0007954 0001641 0005740 0004420 0007388 0009594 0002885 0008936 0007418 0001807 0001338 0007308 0006791 0005555 0006408 0008130 0005051 0004294 0005175 0001048 0002772 0007017 0005940 0002989 0005088 0002430 0003283 0000674 0005545 0007119 0004509 0006003 0000401 0006516 0001896 0003085 0002940 0003044 0006338 0002318 0001387 0006580 0005327 0005040 0005935 0004333 0006974 0004369 0004707 0007224 0002917 0001644 0000651 0004559 0008816 0007428 0000218 0006672 0000894 0005217 0006948 0002194 0001193 0003399 0001231 0004133 0001882 0003472 0008039 0004280 0008441 0009360 0007213 0009430 0007838 0007874 0000187 0001161 0007237 0009520 0009359 0005159 0003430 0003539 0000339 0002095 0007820 0005384 0002536 0001257 0001446 0007926 0004481 0002826 0009541 0001909 0004825 0005574 0000450 0004705 0003586 0007761 0003901 0004668 0000727 0000400 0005611 0009514 0005544 0003466 0001938 0006355 0003787 0008429 0003231 0000235 0008206 0005434 0006325 0008899 0003660 0006749 0002103 0005223 0004970 0006022 0004139 0008069 0008752 0005098 0002477 0008529 0003736 0009114 0004636 0002713 0008540 0006897 0004857 0004586 0006015 0004141 0003154 0008401 0005192 0002773 0007554 0003486 0003845 0001094 0006478 0008618 0000970 0000267 \n",
      "\n",
      "Clusters 12 words: douglasmd,cyl,boxboard,advoc,abbey,citrus,duluth,buidl,consult,commenc,augment,attend,confer,august,boxboard,electromed,august,cyl,drew,baddebt,achmad,drew,abbey,baddebt,boxboard,\n",
      "\n",
      "Clusters 12 Documents: 0006021 0004410 0003452 0005896 0006285 0008920 0003026 0008945 0003079 0006359 0004218 0004266 0005373 0003193 0006247 0005709 0009239 0008692 0009578 0001902 0002318 0003267 0002511 0006089 0008959 0000541 0008905 0002646 0001368 0002844 0006224 0000821 0000107 0004568 0005183 0000974 0005196 0005810 0003999 0003078 0005404 0000873 0009555 0008519 0000623 0004170 0007153 0007222 0006497 0006121 0003114 0004968 0003852 0006677 0004588 0001426 0000609 0000707 0001881 0004683 0008079 0009135 0008788 0002656 0003767 0003061 0003687 0008935 0009543 0000964 0004688 0005177 0000709 0005127 0000772 0007325 0003676 0003814 0005484 0002414 0007687 0009219 0002851 0008179 0000800 0000871 0002681 0005424 0000461 0008971 0004050 0001990 0006096 0008367 0007307 0009307 0002588 0002818 0001189 0000790 0001920 0007904 0000027 0007474 0001210 0005438 0002816 0002350 0000149 0005297 0003168 0003818 0000944 0002049 0003770 0005203 0004358 0004258 0005024 0002195 0004441 0004043 0001681 0008901 0000296 0009055 0002819 0008193 0006148 0008173 0001012 0006626 0002002 0000265 0007730 0003945 0001985 0008142 0009512 0002711 0005592 0008218 0004936 0004933 0006097 0007344 0006205 0003801 0007422 0000765 0002710 0007908 0008760 0003344 0005979 0004558 0009422 0009270 0001333 0006038 0005444 0001278 0005265 0009120 0001171 0007127 0006724 0004461 0002195 0004883 0008133 0004348 0007297 0000752 0003960 0006875 0006877 0007487 0004596 0005343 0007792 0006275 0002701 0004943 0000518 0000954 0008879 0005905 0002973 0001437 0001820 0004370 0002306 0008495 0004451 0005652 0002658 0000203 0002407 0002612 0004020 0005719 0002849 0001994 0007685 0004433 0004967 0002434 0000232 0004445 0006447 0002273 0004992 0008741 0007578 0005601 0005493 0003375 0008357 0006151 0005458 0000717 0007553 0003034 0004700 \n",
      "\n",
      "Clusters 13 words: abandon,aar,aa,abat,aachen,aaa,aaminus,aberr,aaix,ab,aati,aaron,abalkhail,abil,abbenhaus,abdul,abc,aaarat,abbrevi,abercrombi,abdelrahim,aaix,aagiy,aarnoud,abastecimiento,\n",
      "\n",
      "Clusters 13 Documents: 0007268 0005790 0008435 0000141 0000513 0000602 0008991 0001511 0001113 0004288 0009018 0006181 0003862 0005944 0000257 0001914 0002340 0009116 0001722 0003634 0003630 0005854 0000546 0000672 0000013 0009153 0009384 0008905 0002092 0006116 0005281 0003757 0007292 0006941 0009063 0007288 0006101 0004882 0004489 0006105 0008199 0006077 0003720 0004146 0005224 0003032 0000062 0001811 0005066 0007946 0002638 0008801 0002669 0001786 0008200 0005938 0009399 0003798 0008238 0005195 0009159 0000196 0000703 0005942 0005850 0006660 0000968 0007345 0000384 0005186 0001813 0005004 0008186 0009091 0004495 0000742 0008111 0000507 0003978 0000632 0005246 0001378 0002530 0000786 0005777 0008569 0003182 0002303 0000451 0006753 0008700 0008152 0005679 0002018 0002354 0002756 0002679 0003466 0002020 0003431 0003286 0009051 0003572 0008615 0001251 0004267 0008980 0007730 0002444 0005026 0003866 0008326 0003642 0008161 0001967 0006636 0005718 0003176 0007876 0008855 0007849 0008858 0003899 0007156 0000513 0007406 0001438 0003176 0004026 0005709 0004726 0001220 0003589 0007030 0005362 0002202 0008328 0007286 0007936 0000143 0004452 0005529 0005988 0000611 0005598 0005772 0007665 0008339 0002881 0009465 0003946 0001260 0002030 0002533 0005099 0002716 0004226 0000395 0002252 0009080 0000434 0008667 0004794 0001183 0009205 0004015 0004184 0000790 0000181 0006024 0003501 0001305 0003115 0001270 0003819 0006282 0002118 0006972 0008021 0007235 0001409 0004691 0005918 0002490 0004892 0001207 0008960 0008797 0008585 0002869 0008681 0008822 0005880 0007321 0001944 0007859 0006385 0003243 0001996 0005877 0007323 0007335 0002743 0006829 0001723 0006090 0002481 0007239 0002705 0009357 0009229 0008553 0002919 0001528 0002739 0000306 0009247 0006374 0008064 0002634 0006774 0002783 0008873 0006955 0000921 \n",
      "\n",
      "Clusters 14 words: compo,beaverton,beaverton,cri,beaver,alatenn,bhputah,addne,cri,cri,coop,cbl,dollaryen,advisori,brsa,abraham,briefli,attrit,ameritrust,airfram,bale,capac,ctws,clorox,downer,\n",
      "\n",
      "Clusters 14 Documents: 0009594 0000494 0001856 0003256 0006861 0008861 0004283 0009245 0000063 0000050 0005590 0006563 0000002 0008363 0004812 0005494 0005885 0001667 0000574 0002726 0000823 0000481 0000222 0002343 0009298 0004426 0005323 0004296 0005736 0004309 0001688 0001928 0008481 0008548 0002323 0007895 0004420 0002923 0005702 0004563 0003659 0007460 0004884 0006854 0006438 0009363 0007592 0009364 0000983 0006120 0005734 0003510 0001522 0002332 0004052 0000952 0006585 0005304 0005776 0008331 0006001 0009194 0001342 0001370 0005218 0004830 0004634 0002580 0006132 0003858 0004231 0005450 0004342 0001318 0008543 0001322 0005400 0005976 0005834 0004236 0005633 0005141 0001351 0000831 0000486 0004687 0008501 0008340 0003678 0008603 0001008 0005020 0009570 0006981 0004975 0008198 0008747 0004190 0008639 0009491 0000414 0005202 0003020 0000835 0002255 0005426 0001022 0002941 0007103 0006192 0008818 0006298 0007920 0005605 0008085 0006352 0003997 0008065 0005337 0004899 0000511 0005716 0005845 0001656 0005521 0001474 0008153 0005723 0002644 0003975 0002424 0005987 0005036 0002464 0005875 0008062 0000612 0004537 0007316 0009217 0003248 0001391 0004184 0008026 0006894 0007015 0003192 0008917 0008512 0000708 0004327 0000355 0005973 0007754 0002271 0009580 0009347 0005160 0007252 0006979 0008427 0009025 0006812 0002892 0004626 0007851 0001155 0008477 0003805 0009507 0008350 0000503 0001327 0003322 0000026 0000783 0001802 0006470 0007066 0000724 0009287 0007314 0001893 0008438 0004272 0002239 0003836 0008545 0001700 0007150 0007359 0002117 0002008 0001558 0002120 0004262 0007414 0007638 0001137 0004643 0000078 0000510 0001870 0004196 0007688 0000388 0008089 0009252 0005465 0001608 0002049 0001415 0002908 0001031 0007598 0006709 0007115 0002043 0000212 0000505 0005733 0004868 0003560 0002075 0005707 0007668 0000045 0008812 0004102 0001882 0009002 0002020 0001634 0004938 0006423 0007235 0004630 0004169 0005728 0006926 0008107 0000251 0009415 0005288 0007845 0002853 0007295 0000914 0008888 0005729 0000409 0002867 0002313 0008809 0005247 0006545 0006437 0003394 0008373 0007575 0000334 0008042 0008205 0008678 0008874 0005929 0009289 0006191 0006831 0008647 0002474 0002777 0007816 0005950 0007356 0003444 0000537 0003405 0005855 0008561 0006815 0008408 0003013 0001205 0006095 0007311 0008902 0008499 0004189 0008750 0007277 0001586 0006284 0005724 0006802 0000206 0002874 0008693 0008462 0005753 \n",
      "\n",
      "Clusters 15 words: balladur,balladur,diamonddril,collect,bell,dorgan,denatur,caan,cool,defin,confin,counderwrit,centrifug,casual,chriscraft,engin,brief,ait,carniv,complain,afbf,esex,clara,dire,deterior,\n",
      "\n",
      "Clusters 15 Documents: 0000077 0007147 0000064 0000070 0009244 0005240 0001724 0000071 0009167 0009573 0005018 0003485 0008657 0000001 0004133 0001882 0008367 0003591 0004275 0008809 0009417 0004352 0001006 0000523 0004049 0002179 0002933 0003141 0008852 0007733 0008876 0002844 0008918 0000158 0006086 0008531 0004515 0002998 0008831 0007864 0000581 0008841 0005697 0006120 0009039 0008558 0004448 0008895 0005669 0004469 0008841 0006841 0009442 0007170 0002254 0003341 0001977 0006838 0000217 0006884 0008308 0007930 0005744 0002527 0001722 0009340 0007514 0006068 0003707 0002262 0007291 0006371 0002569 0004607 0007489 0007750 0006389 0003610 0006618 0003412 0008909 0003151 0000865 0007132 0002471 0008744 0008507 0005949 0006962 0008126 0000100 0002307 0005541 0003827 0001669 0003406 0003998 0003881 0000522 0000621 0001049 0004961 0005429 0002859 0004378 0002700 0004480 0000925 0000781 0006739 0003888 0009394 0003292 0005921 0008222 0000445 0000985 0008877 0003043 0002403 0003856 0006907 0008221 0002790 0009119 0007420 0002017 0003531 0004214 0001785 0008758 0005488 0006973 0004665 0006134 0003774 0007723 0004387 0005518 0001203 0000827 0000047 0003183 0005933 0001755 0000042 0000106 0005766 0005609 0006593 0005245 0008080 0006166 0005229 0005480 0004714 0005781 0003017 0006128 0001729 0004544 0001792 0002832 0002277 0000208 0008415 0002164 0001554 0001395 0009473 0002980 0008885 0002815 0007781 0001156 0003056 0001753 0002164 0008539 0001181 0007320 0005024 0003899 0005540 0005163 0000766 0009056 0004443 0006879 0008803 0000804 0008337 0000144 0000583 0002884 0001554 0001234 0008425 0007485 0008857 0001184 0004598 0007569 0001631 0000202 0002719 0007746 0007450 0007534 0007208 0000191 0004894 0007532 0007738 0003749 0004309 0006601 0002161 0004686 0005579 0006099 0002505 0005028 0002019 0005602 0001407 0006147 0008669 0007055 0005225 0009206 0008942 0001053 0000467 0005978 0006608 0004124 0003050 0004247 0008030 0005135 0008333 0007130 0001134 0002090 0005903 0000268 0007969 0005575 0005164 0005508 0003420 0002616 0008061 0006496 0003727 0008749 0006619 0000476 0003186 0000578 0000214 0003532 0001349 0003633 0009261 0004406 0000583 0008271 0002264 0004033 0000533 0009026 0006911 0003046 0007853 0007232 0007270 0001024 0000001 0001764 0007159 0004280 0008193 0009579 0008917 0003919 0009455 0008129 0006685 0000540 0002864 0006926 0008572 0002119 0002329 0003214 0002437 0001226 0003441 0006595 0002484 0006065 0005030 0000432 0001966 0001082 0003485 0001734 0000496 0006109 0005684 0005832 0000093 0009342 0006777 0002525 0006279 0008819 0002094 0008640 0004638 0005153 0009143 0002269 0008964 0008665 0008426 0001388 0005393 0008658 0002544 0001593 0004721 0003458 0000201 0006779 0006676 0006222 0007902 0002602 0001536 0003471 0006654 0007036 0009552 0005157 0008516 0001124 0006058 0006196 0008720 0001218 0002362 0004520 0002693 0008680 0003904 0008443 0005150 \n",
      "\n",
      "Clusters 16 words: callao,chanc,callao,dylex,cd,chariti,approxim,consuemr,distribut,bee,dynavis,coupl,costa,collect,distribut,cuadra,dynavis,depart,antidilut,dmass,ecu,apil,blah,confidenceinspir,azusa,\n",
      "\n",
      "Clusters 16 Documents: 0005543 0009582 0000525 0001598 0001269 0007154 0004316 0008038 0006646 0002366 0003651 0003187 0005721 0005960 0000249 0009038 0001726 0003106 0000175 0002911 0008904 0002613 0000702 0001960 0009157 0005438 0002284 0001964 0005438 0008465 0003750 0007835 0000538 0002337 0001973 0003615 0001681 0002799 0002845 0009544 0009544 0003571 0007379 0006017 0000119 0006702 0003328 0002290 0007803 0003873 0000650 0004464 0004900 0006564 0006518 0007743 0003165 0000810 0005142 0004188 0003257 0008168 0009526 0000931 0003304 0001847 0006456 0006945 0007400 0001751 0003097 0006836 0007609 0008829 0006615 0004536 0007035 0001175 0008059 0001923 0007539 0001077 0008154 0003800 0007122 0000802 0007680 0005614 0002280 0000035 0000995 0000528 0000455 0006029 0005819 0003748 0008189 0005963 0009592 0004670 0008854 0000120 0000913 0002753 0005507 0000335 0005774 0002654 0000834 0007206 0002666 0004315 0006278 0003317 0006523 0008125 0004152 0003857 0001285 0002448 0001121 0008106 0004765 0004477 0007486 0002652 0001620 0007604 0000515 0002911 0003207 0007541 0006577 0006136 0001090 0002203 0008539 0009224 0005763 0000986 0009032 0002379 0009383 0000422 0003163 0005685 0001609 0008374 0005110 0003737 0007301 0005032 0009160 0006369 0006336 0007441 0008869 0004863 0007544 0007626 0009313 0007625 0001168 0006138 0000736 0002847 0000031 0005061 0000199 0000542 0005553 0004940 0001490 0008086 0003249 0000893 0005540 0008149 0007787 0002738 0005103 0006446 0005111 0000449 0005606 0006242 0001974 0009096 0003519 0007601 0007083 0000044 0001567 0004519 0005280 0004323 0009263 0008514 0008006 0002690 0008811 0000254 0003348 0004528 0006634 0001703 0001954 0006574 0001696 0003735 0005623 0006784 0002107 0007940 0007637 0005501 0005419 0000806 0008793 0009365 0003744 0008009 0001265 0001315 0008299 0007218 0001969 0008001 0001067 0001942 0000566 0003876 0001531 0002967 0009180 0003142 0007278 0003279 0006044 0006052 0009131 0006152 0009250 0006200 0002575 0002508 0001440 0002494 0006849 0005283 0008419 0002293 0002390 0001674 0000932 0002339 0005995 0005206 0005657 0006792 0008442 0006056 0006793 0003374 0007363 0006881 0001859 0008940 0001059 0001254 0008100 0000211 0007548 0001873 0007477 0005200 0001830 0004212 0009042 0004354 0008611 0002460 0002440 0005735 0007631 0007605 0001824 0008660 0005801 0001299 0008794 0002835 0006650 0008589 0006320 0006664 0005523 0007932 0000462 0003253 \n",
      "\n",
      "Clusters 17 words: achmad,cyl,bad,cryogen,boxboard,downer,detract,cyl,darman,clearwat,consult,danger,drugresist,eightmemb,clc,brsa,dwindl,await,ctws,amend,distribut,ensur,ensur,achmad,achmad,\n",
      "\n"
     ]
    },
    {
     "name": "stdout",
     "output_type": "stream",
     "text": [
      "Clusters 17 Documents: 0007218 0006285 0005800 0006803 0003838 0000277 0000889 0004833 0006353 0005160 0005166 0003129 0008147 0008033 0007911 0002438 0001156 0002756 0001248 0000227 0008774 0004298 0002877 0002058 0007780 0009110 0002050 0000217 0003124 0003234 0002057 0002349 0008392 0006419 0000545 0005672 0007586 0006936 0006048 0009466 0006419 0000590 0001780 0005668 0009438 0002347 0006410 0005563 0006961 0004449 0006862 0006079 0009562 0003425 0008122 0005814 0008521 0004250 0004178 0007462 0001042 0002387 0007230 0002334 0007197 0004750 0006764 0005830 0003804 0001578 0009558 0006167 0000919 0001769 0002635 0005370 0004704 0006218 0003492 0006219 0007392 0006740 0004756 0003331 0006379 0006569 0000607 0008344 0000121 0007183 0003822 0005064 0002830 0002947 0002786 0006765 0007276 0006286 0004617 0005786 0001768 0006519 0002463 0004108 0002728 0003512 0006243 0003432 0005253 0007219 0008045 0000943 0004932 0009328 0003164 0008699 0009574 0009550 0006865 0009261 0008809 0008534 0004012 0006463 0006863 0003135 0003759 0007129 0002152 0000526 0005836 0000066 0006696 0008765 0006328 0002175 0006381 0003921 0003538 0006663 0003347 0003812 0004971 0004132 0001628 0000165 0000305 0000841 0007812 0001150 0007257 0003164 0002754 0007159 0004358 0008413 0008613 0001310 0000167 0002128 0008425 0002248 0005556 0000224 0004368 0005466 0005906 0001343 0004654 0000498 0005476 0005999 0009192 0006502 0006847 0007031 0006156 0005317 0003388 0000095 0007007 0003969 0007630 0005344 0001526 0006489 0008929 0008513 0001393 0006988 0005911 0002021 0001066 0003993 0009565 0004365 0009269 0008881 0005285 0005336 0001185 0003902 0008177 0001358 0008764 0008885 0004258 0000514 0006885 0003245 0009037 0002244 0000817 0001123 0001372 0008148 0006363 0007241 0000912 0009072 0007788 0007434 0006743 0005676 0008165 0005174 0007458 0002091 0006115 0002895 0007439 0005968 0004174 0002730 0001740 0000322 0008759 0006705 0008279 0009061 0007979 0006919 0006190 0008605 0004822 0000558 0008676 0007401 0007748 0007367 0003887 0000342 0009353 0001259 0008763 0000328 0003789 0005149 0005928 0002828 0003773 0001747 0001876 0008277 0003834 0009291 0002868 0006501 0005591 0006405 \n",
      "\n",
      "Clusters 18 words: admiss,debtor,die,conract,bradley,admiss,congressman,cynic,differ,capac,diversifi,cgct,baytown,bb,brli,air,confectioneri,cos,bumper,await,activ,clara,conceal,coop,celebr,\n",
      "\n",
      "Clusters 18 Documents: 0003045 0000327 0006081 0003092 0006639 0003178 0003239 0003429 0006197 0000613 0009472 0008855 0000338 0002014 0002195 0006871 0001688 0003590 0001248 0007014 0000240 0005705 0001470 0005397 0009294 0003295 0004854 0004839 0005030 0000146 0003185 0009191 0003282 0001399 0005506 0006288 0001144 0004530 0005445 0005454 0001658 0005492 0007415 0004672 0001336 0002780 0000381 0003906 0004807 0007559 0005068 0007063 0000131 0004628 0000992 0005881 0006455 0008164 0004539 0002981 0005035 0002574 0003823 0002534 0009057 0002126 0001486 0007006 0003217 0001363 0007867 0002254 0007586 0006476 0003273 0007511 0002347 0001486 0009593 0007568 0008270 0008599 0001692 0009020 0008896 0001364 0009329 0008936 0007352 0005461 0005981 0002142 0007597 0008624 0006954 0000234 0000132 0001754 0007978 0008944 0005381 0001417 0009456 0008654 0008510 0005364 0005720 0006994 0008255 0007343 0008473 0007676 0005227 0002243 0004951 0003700 0001885 0004538 0006431 0002567 0000256 0007179 0005452 0003619 0005358 0004694 0003832 0005675 0006071 0006100 0004871 0002899 0002409 0007139 0004874 0003358 0004955 0008547 0003476 0007045 0004505 0002068 0007600 0006524 0005459 0005081 0003325 0009164 0005390 0003081 0001199 0003555 0000550 0003488 0004447 0002241 0002720 0006980 0009297 0002344 0006596 0002297 0003203 0006735 0001919 \n",
      "\n",
      "Clusters 19 words: allwast,conf,dorgan,box,attract,depreci,ecuadorean,deliveri,dorgan,donat,conshohocken,cleric,duffour,efu,chriscraft,commemor,dyson,countri,derek,afbf,clorox,coordin,aldakhil,confer,attend,\n",
      "\n",
      "Clusters 19 Documents: 0009261 0005720 0005558 0005551 0007528 0007708 0005540 0006263 0000066 0003482 0004443 0006302 0000001 0002879 0002176 0002033 0005694 0000356 0006807 0003550 0004473 0002004 0003425 0008272 0008484 0003352 0003383 0008305 0006585 0008411 0008380 0003134 0009560 0008224 0005698 0001223 0005341 0005818 0000723 0003778 0004103 0000244 0007144 0009544 0007500 0006440 0006597 0006946 0003252 0007603 0008041 0004935 0006067 0002314 0009065 0002413 0003247 0003225 0003485 0005302 0004156 0003890 0003052 0001165 0000544 0008843 0000154 0000007 0004375 0004706 0005802 0002779 0001148 0003624 0000360 0003167 0004213 0004431 0000365 0000274 0000483 0005411 0000811 0004659 0008607 0004666 0001133 0001208 0007106 0009272 0003848 0004532 0008636 0003883 0007945 0000516 0002641 0002841 0005209 0002374 0000243 0007433 0007798 0000839 0009296 0002526 0002491 0004270 0001098 0005121 0006432 0006172 0000994 0009343 0000394 0003693 0000747 0002735 0000924 0006341 0000838 0000385 0005867 0004575 0006449 0000033 0004118 0008032 0003983 0006217 0007085 0008366 0007762 0003141 0008391 0002838 0007532 0005762 0003192 0001310 0000162 0000144 0004066 0002152 0003480 0001550 0003179 0001938 0009368 0003018 0001845 0005750 0002377 0008808 0006263 0008303 0002192 0003454 0000881 0009500 0008775 0002756 0002691 0009070 0002639 0001315 0000223 0002770 0005468 0001862 0008441 0000718 0001973 0003841 0006439 0009226 0004093 0009255 0002727 0005965 0002282 0005700 0000893 0006987 0003192 0004260 0005139 0000162 0003652 0005856 0000128 0002004 0005300 0000576 0006018 0009409 0005038 0003016 0009508 0000953 0000357 0005524 0001112 0000640 0007725 0003719 0006587 0008385 0004701 0001410 0005441 0005273 0002170 0002589 0004573 0008003 0004458 0008941 0008325 0008400 0008894 0007922 0009145 0006283 0009393 0001127 0002640 0001673 0008119 0007905 0006224 0001060 0009421 0009518 0000209 0006752 0002087 0004771 0000780 0005078 0002283 0001915 0000663 0008699 0008368 0008468 0001537 0005056 0003056 0005607 0009324 0002188 0004948 0001189 0009516 0009520 0002192 0006328 0002892 0007964 0002411 0006028 0003810 0003233 0004728 0007971 0003438 0002066 0007459 0004978 0008363 0002963 0002913 0004991 0000317 0006104 0001530 0004627 0003484 0000345 0004054 0008466 0003576 0002450 0004436 0006661 0007549 0008195 0007729 0002751 0008559 0002486 0003407 0000565 0003493 0001411 0007384 0002503 0002528 0007133 0002601 0004548 0006370 0004877 0009021 0003481 0008470 0001861 0001108 0008592 0001249 0003986 0003509 0007429 0006201 0007337 0002104 0003096 0009071 0000039 0003443 0005293 0003742 0008276 0005134 0007860 0007509 0007967 0000934 0007289 \n",
      "\n",
      "Clusters 20 words: almenara,ccic,ccic,beatlebegan,benficiari,danger,direct,abolish,ccic,almenara,devalu,devalu,almenara,amnount,cara,amnount,abolish,direct,bothnia,bothnia,downer,downer,enhanc,ccic,coop,\n",
      "\n",
      "Clusters 20 Documents: 0005888 0005637 0000478 0001177 0005237 0004082 0002376 0000250 0004896 0007473 0008012 0006010 0006512 0004049 0009590 0008320 0008845 0006011 0001719 0007542 0009030 0007493 0005356 0002650 0009525 0000312 0003779 0002887 0009429 0009449 0004711 0001675 0001282 0008124 0008487 0005408 0008448 0006698 0000287 0005828 0004269 0001925 0002398 0001201 0004230 0001475 0002212 0008973 0000469 0000080 0006154 0005089 0003685 0001711 0001660 0002607 0001546 0005396 0003913 0003311 0002367 0005539 0003313 0002465 0004660 0008799 0003269 0003605 0008599 0008896 0006426 0006824 0000524 0006821 0007518 0004402 0007582 0007492 0006013 0001371 0006073 0001552 0006012 0005740 0003206 0009594 0007840 0007907 0005690 0004110 0001963 0001016 0003198 0006533 0000466 0004363 0002609 0001007 0003436 0006722 0001757 0004751 0006492 0008087 0008185 0002551 0007098 0002225 0005045 0007186 0009276 0004284 0007523 0006210 0001650 0001871 0009198 0005215 0008228 0009392 0006733 0001595 0006351 0003658 0006460 0007846 0005697 0002004 0006018 0001237 0003594 0007220 0007423 0003363 0006659 0001818 0008454 0003254 0005799 0000993 0006537 0002045 0001432 0005243 0007044 0002060 0000109 0005435 0002661 0005789 0006769 0003255 0003592 0006900 0008287 0009424 0009199 0005746 0007246 0003963 0004396 0002446 0007204 0001882 0000231 \n",
      "\n",
      "Clusters 21 words: cigra,dollaryen,cost,applianc,boom,correctedelderbeerman,dollaryen,dollaryen,compact,accumul,commenc,cancel,ctws,cancel,cancel,deterior,applianc,applianc,cigra,dollaryen,commenc,apparatur,apparatur,ctws,commenc,\n",
      "\n",
      "Clusters 21 Documents: 0000213 0000231 0001554 0001862 0003173 0002151 0004107 0000646 0004100 0000018 0000645 0008188 0000001 0000141 0001289 0001358 0000963 0002905 0005910 0001968 0002395 0004194 0002782 0007971 0007007 0004261 0003190 0009312 0000589 0001604 0001599 0001083 0007793 0005438 0007006 0001970 0003269 0003306 0000624 0005109 0009445 0009381 0004418 0008239 0007135 0006073 0004979 0008914 0006012 0009322 0001086 0000733 0005791 0007200 0006295 0000375 0000812 0003991 0009499 0004959 0007842 0005977 0000971 0008452 0006290 0008446 0001493 0001480 0005520 0007879 0003090 0000364 0005811 0001513 0004554 0000984 0006643 0004673 0004805 0003171 0002557 0002785 0000397 0008835 0000809 0002560 0007644 0001178 0000685 0001461 0003324 0009256 0005666 0004171 0001570 0000431 0002566 0009176 0006280 0002047 0005339 0003730 0001365 0008447 0006248 0000472 0002921 0007766 0002665 0006604 0000965 0001887 0007818 0006688 0008057 0001556 0005077 0004795 0005571 0007510 0007218 0000819 0007436 0001910 0001759 0008515 0001494 0003280 0000002 0006094 0002062 0007488 0008327 0002146 0004040 0006148 0007518 0007586 0006130 0007512 0006477 0009597 0003669 0007499 0006485 0006484 0006476 0009370 0007500 0006440 0006329 0008867 0006842 0009286 0001693 0001621 0003299 0000028 0009498 0001095 0002431 0008870 0008249 0004823 0002250 0001129 0004024 0000700 0001321 0009007 0006362 0008433 0002222 0004483 0006909 0007805 0008102 0002890 0007824 0001918 0008953 0000606 0002688 0005436 0006251 0001821 0002625 0000255 0002155 0006843 0001441 0006037 0006983 0000236 0008135 0008699 0008991 0006863 0003220 0001242 0003215 0007469 0001550 0006321 0007871 0006887 0006755 0000851 0004028 0006947 0005727 0004140 0009420 0006017 0006138 0005536 0002016 0006857 0006874 0006080 0000403 0001577 0006737 0000248 0002472 0001825 0009308 0008767 0008738 0004809 0006176 0003382 0003364 0001192 0008916 0008578 0001943 0001337 0005046 0000570 0008294 0001837 0003006 0008459 0001367 0006963 0003557 0001130 0006819 0000003 0005806 0006837 0002320 0008074 0001678 \n",
      "\n",
      "Clusters 22 words: emphas,dtsi,confirm,analyz,culp,drew,emphas,dtsi,culp,capsiz,beijar,contempl,down,chancellor,error,advosystem,carlisl,deplor,bug,energet,bristolmey,assign,decid,dn,empi,\n",
      "\n",
      "Clusters 22 Documents: 0003504 0004037 0009442 0005278 0003145 0001548 0001216 0005366 0000049 0005464 0000500 0009246 0006138 0005017 0006229 0002194 0000869 0008243 0004077 0005973 0002914 0004023 0008393 0008441 0004446 0008983 0008841 0008552 0008576 0001634 0006512 0009087 0007417 0002158 0007148 0009028 0009049 0008580 0001277 0009017 0001364 0009436 0000581 0008591 0009304 0007612 0007095 0004552 0003589 0005826 0007518 0000557 0005821 0007579 0007090 0007796 0007886 0005313 0000176 0002006 0004248 0000412 0007692 0005971 0003039 0004783 0008388 0006214 0004114 0009559 0000363 0008974 0008437 0004135 0006579 0000732 0002642 0008826 0008952 0003928 0007432 0006526 0006490 0002956 0007705 0005156 0008771 0009532 0008687 0000616 0008659 0004729 0008460 0008467 0005710 0000883 0001335 0004879 0001009 0007744 0007804 0006844 0003935 0000829 0000813 0007353 0004553 0001883 0002577 0002597 0000863 0001581 0004200 0001093 0006944 0004806 0000058 0003826 0005980 0002935 0005567 0002507 0008335 0005768 0000517 0004731 0006645 0003077 0006725 0001477 0004318 0007463 0003537 0007713 0002493 0007873 0000577 0001468 0004602 0008716 0005569 0008413 0005718 0004356 0004403 0007738 0005296 0001889 0006033 0009397 0000277 0000297 0008809 0000036 0000790 0004357 0000817 0006311 0005912 0003482 0004466 0004459 0003665 0007915 0008792 0007882 0001671 0000677 0003033 0001603 0005750 0006240 0007320 0005522 0009045 0002937 0008945 0002782 0003571 0009261 0008132 0008055 0003188 0001805 0001900 0004432 0007641 0007827 0005357 0007154 0003994 0000007 0003540 0004680 0002764 0005883 0009277 0004263 0000822 0007657 0002984 0005462 0009407 0002902 0001979 0000005 0006250 0001271 0005808 0006376 0009515 0001629 0007716 0004476 0006342 0003211 0004389 0003680 0006915 0002022 0001950 0007397 0002319 0003561 0002540 0006023 0005102 0005756 0000916 0009599 0007159 0001242 0006466 0004203 0006877 0002309 0000653 0001505 0007396 0008322 0004875 0002808 0005779 0001050 0000239 0002381 0007999 0007756 0005242 0000767 0001936 0007882 0004068 0006174 0001775 0007052 0003614 0008435 0006794 0005759 0006045 0007606 0002565 0006319 0002882 0001684 0008091 0007185 0008721 0000693 0007253 0007377 0004791 0006177 0004619 0003465 0002089 0009451 0005639 0006642 0001796 0000554 0009427 0009493 0007176 0003400 0000935 0001136 0008382 0007022 0008245 0000882 0002121 0008644 0002610 0000082 0002321 0002292 0004246 0002709 \n",
      "\n",
      "Clusters 23 words: doyon,camden,chimerin,columbus,cattleya,cben,doctor,convert,bojangl,bluebellaltamont,downgrad,dispens,bsaf,bsaf,campeau,deterior,deterior,campeau,eaton,dire,dire,coupl,coupl,doyon,bojangl,\n",
      "\n",
      "Clusters 23 Documents: 0008858 0001242 0009002 0009026 0000144 0000766 0000167 0001792 0001510 0004522 0006768 0004180 0001357 0005430 0007533 0003156 0000386 0004953 0003184 0003012 0006280 0003099 0000836 0003953 0002276 0000173 0002768 0002067 0004355 0005097 0001167 0009214 0000720 0004490 0006834 0009306 0009459 0005287 0009593 0008422 0003281 0006415 0007568 0000158 0001443 0001649 0002462 0007284 0008896 0007475 0005958 0002296 0003172 0005948 0007177 0008745 0008376 0008063 0001810 0007299 0004205 0004737 0005604 0007376 0004534 0006119 0007348 0006400 0003880 0000631 0003686 0005266 0003051 0000930 0008934 0009480 0006606 0002423 0003968 0003262 0009395 0006133 0003064 0005600 0004546 0002522 0008158 0006738 0006624 0006032 0008622 0004819 0002532 0003844 0005212 0004419 0004274 0000659 0004336 0004901 0004542 0001146 0001617 0003133 0000009 0001750 0002918 0005627 0007983 0005129 0005630 0004493 0005589 0005092 0002852 0007757 0007178 0004183 0007608 0003797 0003746 0003307 0009483 0004998 0001862 0008905 0008475 0005800 0002184 0007626 0001158 0009209 0002183 0008764 0002930 0001969 0007494 0006007 0008591 0007095 0006356 0007283 0009434 0001686 0007557 0007579 0006350 0004254 0000167 0000045 0007033 0009413 0003627 0007618 0000815 0004482 0001076 0009489 0002131 0001580 0001281 0003704 0002140 0008768 0007438 0002929 0002032 0002904 0001778 0007430 0008247 0003939 0006337 0000814 0008182 0009557 0009452 0001965 0008913 0000185 0005216 0004002 0000279 0006582 0005369 0006198 0001499 0001308 0000336 0000608 0002123 0001002 0002218 0000595 0002582 0003970 0006293 0003480 0003817 0006108 0001647 0003497 0001937 0007610 0001215 0003566 0007592 0004488 0001185 0005711 0005346 0005699 0005712 0007207 0001614 0000221 0007287 0002330 0005256 0002792 0008532 0005228 0001787 0001011 0006667 0008977 0007622 0009023 0008581 0002077 0009492 0004995 0005053 0003125 0002970 0001306 0004569 0005691 0009123 0006773 0003380 0006225 0001100 0002985 0006783 0001569 0000116 0002300 0009504 0002115 0002478 0002331 0005310 0003442 0001448 \n",
      "\n",
      "Clusters 24 words: cred,almahdi,adher,condom,distanc,entireti,braud,accustom,bwa,bwa,belgoluxembourg,cds,czekierska,convinc,carri,cittt,centreright,acr,doctor,dyson,commiss,alcan,derek,bojangl,bask,\n",
      "\n",
      "Clusters 24 Documents: 0002097 0009575 0002752 0006019 0000584 0006473 0001933 0004601 0005017 0007639 0000137 0003240 0007320 0000560 0005654 0003242 0006989 0008897 0001210 0005165 0007938 0004208 0006707 0008918 0003598 0007280 0001486 0001214 0001957 0000182 0006226 0007070 0001868 0009172 0008240 0007437 0004165 0002144 0007191 0008212 0007058 0003054 0005421 0002352 0009501 0009586 0004702 0001600 0000991 0003782 0001804 0008655 0003638 0000004 0008628 0006232 0002311 0003495 0000123 0009581 0000613 0006155 0006878 0004131 0009228 0003264 0004508 0005255 0004053 0004001 0007961 0008461 0003962 0001866 0000942 0004964 0000359 0001404 0003031 0007868 0000459 0003065 0004400 0004802 0008889 0000415 0005511 0002767 0000099 0006543 0009593 0001371 0004418 0001443 0007585 0003250 0007512 0007579 0002256 0003607 0007514 0008262 0007288 0003247 0008268 0009598 0007006 0001970 0000972 0007501 0007821 0007585 0007525 0007496 0007242 0006436 0000524 0007495 0006041 0006409 0003940 0000730 0005319 0008588 0004031 0002190 0005660 0000319 0007711 0003988 0000635 0000447 0009274 0003701 0003784 0004143 0006942 0009388 0002443 0000112 0002796 0006396 0008626 0001585 0008090 0003709 0007584 0001380 0005889 0008260 0001908 0006699 0008196 0009288 0002952 0001151 0006967 0003086 0003332 0006358 0002765 0007702 0005805 0003959 0009183 0006820 0008898 0004048 0007907 0007587 0003574 0006122 0001143 0000190 0009425 0006076 0007912 0004808 0002901 0005006 0009462 0003459 0008718 0002167 0003513 0000183 0002541 0009596 0009336 0005704 0009139 0005820 0000960 0005658 0005892 0007789 0007324 0006603 0000861 0005794 0007008 0002336 0002531 0009054 0003751 0005069 0000484 0006482 0009133 0008381 0006930 0006647 0004921 0002177 0004810 0005219 0009129 0007570 0007700 0008568 0008707 0005167 0004782 0005167 0004556 \n",
      "\n",
      "Clusters 25 words: companyt,clamp,bokma,chimerin,circul,aid,dyr,cole,alsacienn,engag,demonstr,avaq,creat,bogart,dela,collect,aldakhil,draft,entri,close,air,engag,bothnia,adventur,adventur,\n",
      "\n"
     ]
    },
    {
     "name": "stdout",
     "output_type": "stream",
     "text": [
      "Clusters 25 Documents: 0007664 0008468 0001156 0001889 0004339 0000036 0003847 0007156 0005914 0006794 0003431 0004754 0008577 0005290 0006841 0003712 0000371 0007102 0006798 0008994 0008677 0002496 0004850 0009048 0004023 0006253 0007652 0002394 0004022 0007213 0007582 0006083 0003323 0003916 0001275 0000330 0007091 0007719 0001826 0000088 0001517 0007691 0004713 0007013 0007158 0004963 0003461 0004697 0005515 0004881 0000855 0008616 0003150 0003860 0002467 0001084 0000728 0002962 0007195 0000150 0007089 0001159 0006221 0001591 0001731 0006005 0002889 0009440 0003416 0003766 0002695 0003768 0004259 0003958 0009433 0005800 0000045 0008243 0003965 0007237 0004390 0006758 0005447 0000257 0006148 0008173 0000872 0008147 0001012 0001935 0000167 0003229 0007654 0006680 0008890 0000153 0005279 0000795 0005295 0004307 0009433 0001505 0008785 0000167 0003792 0000149 0006876 0003902 0007358 0003917 0000950 0002999 0007696 0008355 0006505 0006883 0005996 0003402 0008428 0005503 0005238 0008739 0001654 0001063 0007141 0007683 0005613 0004006 0007813 0007545 0003210 0001028 0005800 0003164 0001594 0001289 0000011 0008853 0008150 0003265 0003120 0007389 0005107 0006548 0006696 0004715 0001890 0003187 0003429 0005670 0003175 0001934 0008621 0002611 0006274 0007071 0000245 0008828 0002825 0003715 0006939 0003477 0001727 0007995 0002452 0008145 0006697 0001013 0002724 0002943 0008226 0004039 0006599 0002581 0008403 0008995 0009375 0000737 0009318 0005210 \n",
      "\n",
      "Clusters 26 words: abandon,aac,abat,abastecimento,abattoir,abbett,abdelaziz,aarn,aaplus,aarat,abex,abastecimiento,abercrombi,aar,aa,abdelaziz,abex,abnorm,aa,abdeljabbar,abdulaziz,aap,abf,aancor,aarnoud,\n",
      "\n",
      "Clusters 26 Documents: 0005681 0008235 0005382 0002099 0005140 0006183 0004728 0001191 0003201 0003578 0004641 0007604 0002393 0001361 0004829 0004453 0009041 0008492 0007312 0003657 0004427 0009187 0001763 0001377 0008755 0007773 0001167 0008337 0002646 0004540 0002651 0008326 0007512 0009360 0007531 0001484 0008861 0006956 0000749 0003859 0001886 0001345 0009335 0003118 0004748 0007898 0007890 0007076 0008574 0006314 0000341 0006285 0005326 0002959 0000927 0007941 0001725 0003885 0004655 0001797 0007088 0009128 0000843 0005376 0004656 0003335 0005482 0001745 0009146 0003793 0008231 0005074 0000115 0007196 0006788 0000966 0007962 0002671 0007765 0001435 0002840 0007806 0009468 0005570 0006498 0000023 0000922 0007046 0006467 0005388 0001110 0004485 0001534 0005118 0007732 0008004 0001423 0007537 0000893 0001239 0008809 0002930 0001976 0009472 0005910 0002617 0009014 0001929 0003825 0006553 0006102 0005836 0008762 0002018 0006265 0000141 0000218 0009015 0008716 0008699 0008324 0000413 0005901 0007261 0004855 0005261 0003280 0005715 0008304 0000577 0002277 0000144 0005697 0002394 0000167 0007411 0000493 0006690 0005577 0008067 0005621 0006787 0004972 0001287 0007092 0007728 0005902 0001532 0000313 0007072 0001566 0000704 0009132 0001102 0002684 0005788 0006344 0002901 0004005 0005593 0008143 0005495 0001549 0002149 0008645 0004527 0004008 0005126 0002312 0004776 0005548 0006776 0004329 0009156 0009062 0009182 0001554 0000887 0002930 0002164 0002211 0003213 0005780 0006860 0004911 0006416 0003222 0004106 0007933 0005740 0004849 0009443 0009511 0005637 0004905 0006138 0008370 0005385 0004332 0004380 0006651 0004070 0007346 0002338 0008968 0005616 0008893 0005380 0002559 0005418 0002561 0006648 0001255 0002181 0000614 0008868 0002401 0006559 0003428 0008180 0000530 0002748 0006873 0008602 0001340 0003911 0000273 0005951 0002373 0006891 0002817 0007305 0002621 0003673 0007075 0005725 0005542 0003662 0001447 0008302 \n",
      "\n",
      "Clusters 27 words: critchley,dismiss,antiinfl,control,entrant,carlisl,atn,chock,blanca,dispar,chancellor,edina,bowl,avian,bask,bristolmey,analyz,escal,account,bodi,bodi,atn,cred,cred,critchley,\n",
      "\n",
      "Clusters 27 Documents: 0000277 0000355 0009417 0003922 0009213 0002982 0007260 0000825 0001761 0007558 0000094 0007161 0008263 0006823 0002080 0002960 0005494 0004817 0000177 0005617 0009439 0006340 0002087 0003175 0001025 0008939 0001398 0001998 0008880 0003705 0006481 0001692 0002998 0007649 0002078 0003250 0005049 0006401 0008983 0007535 0006149 0003726 0008176 0008943 0005090 0003780 0001767 0006420 0000996 0003499 0007114 0003870 0002955 0008832 0000740 0000110 0004591 0003933 0003758 0000108 0005161 0005042 0004340 0001038 0000683 0003024 0003795 0003808 0008684 0004989 0002729 0003419 0006233 0008734 0001390 0000976 0003981 0000666 0007079 0008278 0003943 0002227 0004543 0005207 0005490 0007416 0005008 0008570 0004742 0000977 0008537 0005269 0006731 0003972 0006547 0006169 0001841 0005294 0000869 0004590 0007240 0000086 0004280 0005447 0001594 0004821 0004717 0001358 0006617 0001355 0008706 0007381 0009412 0007292 0003247 0008268 0000162 0004893 0004932 0000193 0002798 0007159 0006459 0004406 0003570 0002354 0002934 0007653 0007169 0008493 0005688 0005060 0001462 0002961 0005489 0004222 0002920 0001057 0003385 0005946 0007755 0008359 0000430 0007374 0008825 0008527 0007368 0000087 0002165 0004557 0000761 0003338 0005813 0008805 0006174 0002196 0008769 0007648 0008393 0000481 0000084 0005546 0001843 0000696 0005415 0005328 0009202 0005713 0009475 0007214 0005708 0007524 0001471 0004148 0006253 0003166 0006245 0004169 0006704 0004004 0009378 0005314 0001869 0005305 0001677 0000655 0008573 0001164 0001846 0006106 0001491 0006996 0003799 0004353 0006277 0001697 0001232 0002862 0005399 0004835 0005584 0005009 0002515 0002185 0008486 0001955 0002358 0002483 0000959 0005924 \n",
      "\n",
      "Clusters 28 words: aw,attrit,convert,english,coopervis,deadlock,ecuadorean,coopervis,denwa,deep,dyr,cole,coop,camden,convert,attrit,coopervis,convert,ecuadorean,cole,deep,deep,cole,coop,coop,\n",
      "\n",
      "Clusters 28 Documents: 0000066 0001242 0008367 0001047 0005296 0007015 0004620 0001372 0005713 0005180 0003415 0000053 0009006 0007145 0001849 0009351 0001563 0008210 0003056 0005984 0004585 0000135 0000169 0001551 0003485 0003109 0003438 0008808 0005670 0001834 0003277 0002369 0003661 0005611 0003361 0002802 0005109 0009482 0003605 0008599 0008852 0007481 0006203 0004056 0003206 0002521 0001988 0007927 0003621 0004563 0006816 0002847 0007588 0005992 0002285 0002910 0007273 0004950 0006565 0001139 0008252 0008757 0007056 0002385 0005990 0005080 0001662 0005378 0006291 0003330 0009077 0009486 0008978 0005519 0005205 0007667 0006959 0007715 0008187 0000713 0003057 0000111 0006488 0009537 0006957 0007378 0006234 0006268 0003897 0001264 0004594 0007251 0002384 0006622 0008471 0005626 0004597 0007740 0008923 0008608 0001385 0001835 0002861 0003977 0005989 0000473 0008815 0006236 0003656 0007675 0006573 0006715 0004669 0000492 0009273 0003527 0003745 0005586 0003956 0009528 0002894 0004111 0008737 0009193 0003010 0002677 0005512 0009268 0000532 0009101 0004562 0005533 0006770 0004348 0000161 0003902 0002754 0002169 0002633 0007159 0005893 0001289 0002056 0000744 0005700 0001242 0009195 0007383 0008368 0005873 0005551 0003221 0000958 0007511 0006410 0009361 0008262 0006067 0006540 0007266 0004032 0006997 0008998 0006865 0005250 0003749 0000235 0003617 0004556 0006515 0008905 0008300 0006393 0008112 0000315 0001384 0004096 0001640 0000722 0008782 0009319 0000509 0003829 0000580 0002246 0008310 0000456 0005927 0002029 0006306 0000378 0002389 0002125 0002251 0006851 0000442 0006474 0004084 0008814 0007086 0006906 0006935 0009403 0008056 0002009 0005368 0002951 0005860 0001103 0008813 0003179 0001663 0008432 0001863 0008809 0001510 0001121 0001354 0004050 0003587 0004285 0008838 0003425 0009372 0000193 0003671 0007814 0004834 0007320 0006020 0001174 0005785 0003502 0005985 0006858 0007270 0004080 0007294 0008183 0000949 0009432 0006072 0003796 0005709 0006445 0009457 0005182 0000012 0005477 0008847 0005851 0008386 0003296 0007877 0000502 0003861 0001444 0007087 0005952 0001742 0000475 0001314 0007981 0000553 0001018 0008209 0007520 0002237 0001838 0008220 0001250 0007620 0007576 0008066 0004129 0003613 0000933 0006220 0007526 0000350 0000156 0008551 0009181 0008662 0004941 \n",
      "\n",
      "Clusters 29 words: berr,agrico,dhaka,agricol,dual,detract,augment,applic,berkeley,alexand,brighter,ctwl,compris,enter,compar,certif,bluebellaltamont,electromed,csx,deterior,chauvco,account,boxboard,cuadra,cri,\n",
      "\n",
      "Clusters 29 Documents: 0001547 0001855 0005193 0000052 0002011 0007160 0000061 0003640 0005270 0006786 0007357 0001251 0007699 0004459 0009261 0009593 0008845 0005705 0006002 0007867 0000619 0007483 0005722 0006940 0001143 0000680 0006947 0000564 0009251 0003950 0000791 0002556 0004642 0002370 0004125 0001081 0000920 0007661 0008258 0001718 0001288 0006349 0000705 0006746 0001455 0008402 0008166 0007407 0005662 0000755 0003489 0000910 0008010 0007100 0007205 0004130 0006050 0009104 0006952 0001541 0003987 0007138 0003525 0004317 0002990 0002529 0000097 0000893 0007917 0001537 0000889 0003919 0008034 0003918 0005607 0000226 0004012 0003195 0000764 0007678 0001180 0003530 0007656 0009519 0007029 0005754 0004474 0004112 0007024 0007677 0003007 0001303 0005795 0002408 0006691 0005869 0003074 0007247 0004531 0003601 0000321 0006008 0003457 0008274 0006468 0000973 0001980 0002059 0002484 0008836 0002562 0006840 0000756 0006454 0004153 0005608 0002391 0001405 0002631 0001816 0006475 0008530 0001078 0001245 0004917 0007329 0002975 0006202 0008456 0007142 0007243 0004351 0006892 0001295 0005387 \n",
      "\n",
      "Clusters 30 words: cj,cntpershar,basebud,ebulli,autom,air,abxff,bluebellaltamont,bois,crossrat,cfix,commenc,attain,downgrad,drsdf,distribut,close,clercq,auction,auction,aa,aa,ameryhtyma,close,attitud,\n",
      "\n",
      "Clusters 30 Documents: 0005258 0001194 0005018 0002684 0002410 0003571 0007855 0007608 0000568 0006303 0008223 0006491 0008081 0001353 0004512 0003937 0006675 0008211 0005890 0006383 0000955 0007410 0000644 0002200 0001812 0007267 0005686 0007020 0000906 0002046 0002135 0009527 0004094 0008803 0003316 0001012 0000167 0001200 0007552 0001210 0006209 0004604 0003973 0002361 0005769 0003760 0001032 0008463 0000281 0005191 0001478 0001874 0003653 0003867 0000428 0002791 0002865 0007623 0009414 0000439 0000805 0002071 0002880 0007519 0002439 0009109 0004089 0004541 0009398 0008772 0006832 0000081 0008311 0001774 0000294 \n",
      "\n",
      "Clusters 31 words: close,denpac,author,bloc,cutback,clamour,cambist,doyon,cleric,esex,angelica,dsect,chrs,dsect,efu,epto,acqusit,adhes,cos,chartercrellin,adventur,differ,amroa,dela,collect,\n",
      "\n",
      "Clusters 31 Documents: 0001082 0007567 0004092 0001788 0002327 0003236 0005664 0002085 0003082 0006700 0007434 0001266 0003276 0009310 0008473 0004910 0007923 0006138 0008996 0000592 0007134 0009001 0001919 0005637 0002444 0006224 0007151 0004949 0005050 0004947 0004818 0006775 0005416 0003971 0003091 0005972 0007791 0005939 0002898 0005797 0008162 0001040 0001027 0003775 0004584 0003209 0008619 0005618 0006131 0004202 0001328 0002824 0002769 0009295 0001643 0002125 0003104 0004105 0006507 0001981 0004321 0003035 0008938 0005407 0003066 0004384 0008925 0002903 0001347 0004310 0005812 0003318 0002683 0001313 0007016 0007880 0003821 0003620 0003274 0006833 0007442 0001720 0004082 0005677 0001272 0004592 0001989 0001921 0007607 0009009 0007997 0004846 0009254 0002812 0008839 0009569 0006469 0009014 0001490 0001533 0000220 0000552 0005895 0008173 0002456 0000198 0009495 0002857 0008809 0001181 0003802 0001935 0008439 0009231 0002727 0000354 0006810 0004851 0003310 0006589 0005428 0004752 0004330 0001606 0000597 0007866 0003535 0000453 0001815 0007794 0008395 0006923 0000778 0001065 0001809 0004677 0002249 0009484 0002893 0004500 0009249 0006644 0000648 0007583 0003855 0001490 0003629 0003976 0002363 0001587 0006911 0007681 0001235 0002834 0007863 0006054 0001741 0005359 0009174 0008597 0005234 0006207 0000307 0001449 0008748 0004160 0002664 0000301 0007332 0008332 0005315 0000186 0002715 0004308 0003174 0001482 0004044 0004761 0003021 0006040 0009448 0000170 0006308 0001898 0009477 0000899 0006800 0000438 0002712 0000016 0000164 0002805 0000792 0009458 0003469 \n",
      "\n",
      "Clusters 32 words: discuss,conseco,electromed,cara,distribut,clarifi,dollaryen,collater,answer,docugraphix,chadd,dardanell,arauca,compli,dual,ctws,bad,darman,consult,crude,bostonbas,comsat,apparatur,committeepass,eightmemb,\n",
      "\n",
      "Clusters 32 Documents: 0005583 0004785 0000886 0008512 0000708 0001664 0002662 0003454 0000231 0005731 0007913 0000869 0007159 0003919 0000864 0007218 0003180 0003506 0003855 0008229 0007889 0009124 0008000 0002055 0006808 0007388 0004412 0004552 0003552 0004491 0005744 0005427 0005023 0009161 0008567 0008987 0008635 0003095 0004449 0009043 0008586 0004413 0009075 0008910 0002414 0006937 0006798 0007909 0007611 0004235 0009188 0005651 0007555 0004919 0007686 0002364 0007874 0006530 0007892 0000723 0009300 0002278 0000231 0009086 0006021 0001903 0006607 0009103 0007326 0007885 0000796 0001456 0003582 0005043 0002476 0005966 0002822 0000487 0008679 0007621 0006016 0000022 0005527 0000634 0000997 0009506 0002599 0000638 0001052 0004908 0008975 0000344 0003136 0009379 0006760 0005916 0000848 0004382 0001543 0001833 0001341 0003508 0001637 0000725 0001382 0001453 0000286 0003334 0000625 0005249 0004119 0001771 0005930 0006763 0006951 0005251 0007530 0004744 0007064 0009052 0001481 0004337 0005899 0004533 0001116 0001538 0008783 0002909 0001857 0001710 0002302 0002134 0002636 0007026 0007061 0005643 0004595 0006318 0006598 0008098 0008690 0002879 0002802 0009514 0005139 0006353 0003129 0008435 0000231 0001583 0009242 0002855 0007129 0001398 0007447 0007310 0008327 0002934 0005896 0005960 0007542 0004709 0003903 0000181 0000366 0004827 0002211 0007787 0004376 0003070 0009151 0002425 0007614 0004813 0002182 0003874 0000347 0003272 0002585 0001527 0009085 0000571 0003126 0007493 0008606 0005707 0003567 0006562 0006848 0000002 0000222 0004219 0003129 0004168 0001969 0004203 0007856 0004524 0004041 0002207 0003806 0004928 0002624 0007956 0006888 0007482 0001995 0000133 0000896 0009073 0008398 0000770 0004814 0005792 0002132 0005580 0005115 0006600 0007784 0000512 0001715 0006160 0000392 0009012 0008593 0006125 0006620 0002122 0004511 0004954 0002074 0002371 0007395 0004471 0005599 0005636 0001169 0006789 0003398 0008356 0004404 0005417 0006991 0005682 0008638 0001431 0006315 0005670 0005338 0005764 0000844 0003934 0006145 0000543 0001235 0007294 0007882 0007664 0000893 0000355 0001614 0003847 0007708 0004872 0009212 0007965 0004836 0000454 0003921 0003927 0000998 0009044 0003597 0009348 0009184 0003824 0006609 0006472 0001935 0000127 0004034 0004605 0007027 0005727 0002896 0001625 0006614 0000926 0001186 0008989 0004740 0004457 0003270 0008505 0007228 0000751 0003367 0008766 0004228 0001679 0009099 0001140 0007497 0006330 0006674 0006656 0002689 0008804 0007333 0008688 0003450 0005838 0006902 0003169 0008796 0003200 0004887 0005031 0006165 0000628 0008140 0007616 0003386 0003381 0006890 0001770 0000555 0004831 0005752 0007262 0002455 0002500 0008312 0001945 0005926 0005422 0001971 0005178 0003479 0001030 0007113 0006404 0002702 0006818 0001732 \n",
      "\n",
      "Clusters 33 words: declar,commonwealth,avaiabl,air,calstar,bordua,abolish,eluvi,august,cole,boxboard,concern,blur,cutpric,cutpric,buyerincent,blur,corpus,bee,abolish,corpus,downgrad,declar,bee,downgrad,\n",
      "\n",
      "Clusters 33 Documents: 0000766 0002807 0003902 0007774 0006049 0007171 0002166 0004302 0002189 0007169 0001300 0000847 0003170 0003110 0008237 0000168 0005304 0001999 0000590 0002023 0000292 0007914 0008343 0005208 0009147 0009517 0000482 0008421 0009513 0001779 0001305 0004865 0005361 0009430 0007266 0002111 0008430 0004466 0004593 0008922 0006036 0006137 0003785 0001046 0008396 0006006 0008361 0005908 0009171 0001373 0000426 0001635 0008526 0000270 0005619 0008651 0001176 0001790 0008963 0000140 0005497 0000785 0003529 0005082 0002837 0003842 0000034 0004582 0002027 0003500 0009467 0002433 0006366 0003507 0008862 0003886 0003791 0003060 0007619 0000300 0003131 0004578 0007977 0004502 0000145 0008817 0000535 0005116 0003731 0008071 0001422 0007126 0004377 0005158 0000416 0004710 0008324 0005607 0000884 0003143 0007925 0000696 0006141 0001917 0004561 0002809 0008206 0007066 0006239 0005612 0007238 0008713 0002982 0005914 0008871 0001941 0003854 0001777 0006270 0001021 0007874 0009542 0006444 0003646 0003691 0004876 0002248 0002394 0005250 0009005 0008280 0004871 0005727 0005298 0000689 0004455 0002206 0004079 0001024 0002863 0007212 0008863 0001182 0006977 0001596 0003517 0007772 0006322 0000904 0001296 0002141 0001880 0007826 0000897 0006566 0003491 0008246 0004408 0005352 0002072 0009152 0001450 0000446 0002012 0003474 0008375 0003955 0001982 0007198 0005147 0008095 0001070 0000441 0004826 0005528 0008345 0004327 0004339 0003129 0002996 0002691 0001605 0007577 0007382 0007317 0006649 0007128 0003645 0007372 0007052 0003954 0006693 0003967 0001242 0005632 0009302 0004075 0001930 0001867 0000130 0008297 0007435 0001206 0008701 0008840 0009137 0003835 0002742 0001309 0007547 0008491 0007421 0004289 0009540 0003564 0000299 0007581 0006375 0003278 0001607 0000642 0006657 0005742 0000850 0002703 0002360 0008907 0008099 0004832 0002659 0000591 0009177 0003271 0004421 0006925 0000940 0002335 0006694 0009411 0002586 \n",
      "\n",
      "Clusters 34 words: cell,escal,autospa,brand,entrant,confirm,avian,deplor,bristolmey,curitiba,eras,argo,attleboro,ait,aqtn,elat,cavendish,energet,dn,account,avian,cavendish,cavendish,avian,aqtn,\n",
      "\n",
      "Clusters 34 Documents: 0003155 0001762 0001910 0005182 0004460 0002629 0002803 0006743 0007094 0007480 0009377 0008534 0002350 0003321 0003004 0009582 0001054 0003953 0004759 0001222 0009223 0004574 0006018 0006821 0006485 0000712 0001884 0005837 0000092 0002794 0005395 0002950 0007313 0001376 0005538 0004629 0006517 0004293 0006630 0002673 0000878 0003042 0003553 0006727 0004478 0002079 0004497 0000978 0001496 0008482 0001738 0005226 0003062 0001362 0007624 0002687 0006434 0000837 0006689 0003689 0004126 0000054 0006513 0003467 0004760 0008046 0000280 0000782 0005793 0008614 0004859 0000404 0009248 0003030 0006211 0009516 0000032 0000514 0004275 0008851 0008809 0007537 0006258 0001212 0005308 0005647 0005894 0002879 0003876 0009253 0002820 0004556 0000073 0007575 0004459 0004507 0005235 0005204 0004853 0002397 0005470 0002897 0003893 0009278 0002660 0006294 0006269 0001592 0007931 0002124 0007244 0000832 0002620 0005947 0005401 0003001 0007982 0007155 0000956 0005067 0003462 0007468 0007550 0004871 0006554 0001230 0007887 0007360 0003219 0003362 0007405 0009469 0005332 0004898 0004516 0002301 0007168 0008954 0001705 0004019 0003377 0006317 0001590 0008632 0005547 0003037 0008736 0007884 0005189 0003376 0002958 0008478 0008257 0008731 0008666 0006633 0004060 0002774 0001379 0007613 0008192 0002308 0008779 0002545 0002159 \n",
      "\n",
      "Clusters 35 words: depot,eduardo,buena,carniv,condom,bee,anatolia,asham,engin,aisa,buena,emphasis,bond,blah,attleboro,error,chartercrellin,attain,amalgam,cancel,corporacion,belgoluxembourg,capsiz,brand,decid,\n",
      "\n"
     ]
    },
    {
     "name": "stdout",
     "output_type": "stream",
     "text": [
      "Clusters 35 Documents: 0002633 0000355 0002259 0006148 0006311 0006381 0000362 0007735 0008210 0002590 0003022 0003378 0000192 0004374 0006833 0006418 0001735 0002274 0000952 0008319 0005313 0008984 0005727 0004603 0002768 0006209 0008689 0009032 0000347 0006209 0004924 0008876 0007285 0009361 0009437 0006685 0009202 0006695 0004304 0006142 0003434 0002435 0003761 0004154 0006658 0008005 0006728 0005437 0004331 0003040 0003029 0006334 0008037 0007903 0007347 0001319 0005086 0006992 0000407 0004371 0004623 0003496 0006591 0001344 0003342 0004399 0001359 0005535 0008554 0006387 0007194 0002926 0005155 0002514 0006312 0006590 0002922 0007634 0001394 0009317 0007060 0006641 0006805 0000424 0004820 0004492 0003964 0001460 0005597 0008604 0001119 0001490 0009255 0009005 0000419 0008869 0004107 0006978 0001190 0001369 0001694 0003287 0008136 0000368 0006581 0009196 0003922 0000454 0001357 0006382 0006209 0006224 0005663 0007699 0002871 0005514 0007396 0003164 0006326 0008101 0008301 0008858 0003902 0001131 0003965 0000885 0004462 0007770 0001554 0001326 0007865 0003205 0001005 0000318 0000907 0003401 0005409 0009284 0003439 0004122 0001616 0004197 0004249 0003312 0004215 0005620 0002694 0006762 0004862 0008673 0001911 0008155 0004401 0008950 0001204 0006098 0002983 0007131 0003892 0007403 0005391 0006249 0004182 0008281 0003449 0009454 0004317 0000172 0000419 0000657 0009010 0007156 0006778 0006617 0003869 0007883 0006682 0007975 0001603 0004027 0000242 0000387 0008986 0003506 0009538 0001611 0008633 0004035 0009190 0005823 0007968 0006673 0009591 0004091 0008723 0003547 0000246 0008058 0002232 0007551 0000586 0000908 0008110 0007852 0002003 0004088 0005913 0007878 0008990 0006046 0005937 0005394 0008807 0000136 0000072 0003199 0005052 0006185 0002778 0007140 0008517 0000204 0008900 0000238 0004930 \n",
      "\n",
      "Clusters 36 words: airfram,dnzr,conservat,clercq,bothnia,ameritrust,cole,ac,californian,dmag,abat,envisag,esca,delet,column,clipbecaus,beba,derek,auction,bni,assur,cetus,discuss,cntpershar,air,\n",
      "\n",
      "Clusters 36 Documents: 0007575 0000226 0004914 0004880 0005187 0007451 0000233 0003148 0003194 0005184 0000167 0005048 0000066 0003289 0000842 0004605 0008072 0003546 0001291 0005413 0002151 0002396 0008416 0008476 0006940 0000706 0002923 0009020 0007028 0006483 0001363 0007242 0001668 0009329 0008044 0000371 0006130 0001091 0004072 0002482 0000474 0001645 0001765 0003117 0008496 0005371 0000015 0003889 0007042 0000909 0004733 0007117 0007704 0005624 0007303 0005170 0004361 0003368 0003925 0007385 0001294 0001638 0006435 0008018 0009463 0004803 0006452 0003098 0009282 0000349 0003230 0004816 0005254 0005953 0005145 0000010 0006671 0006552 0005095 0003036 0000735 0000210 0007166 0002848 0007490 0002357 0002686 0001853 0005642 0001505 0008813 0002236 0002726 0004841 0009013 0008243 0003354 0008322 0005120 0008468 0003245 0009577 0002662 0001792 0008981 0009400 0007260 0000495 0004868 0007053 0003563 0001533 0002928 0002972 0001984 0006223 0001744 0003440 0003664 0002931 0008722 0007446 0009200 0001501 0001044 0005907 0002247 0003754 0007970 0000436 0008053 0002501 0002139 0002696 0009074 0009178 0002054 0004767 0000947 0002979 0006761 0000936 0009169 0002179 0001398 0003755 0004076 0000673 0007248 0005865 0008998 0000222 0006055 0008798 0002056 0001852 0008040 0008116 0005640 0007777 0003733 0005707 0003139 0001484 0005701 0004856 0005270 0008753 0002417 0002762 0008201 0007752 0004391 0009327 0001424 0005011 0007217 0002219 0006556 0002509 0008244 0000174 0001615 0005692 0009140 0008518 0003446 0005876 0006062 0002692 0002497 0005634 0000491 0001330 0006042 \n",
      "\n",
      "Clusters 37 words: brookehil,chartleston,attrit,circular,blast,blast,discuss,amnount,breath,commonwealth,dynalectron,congressman,detract,csx,bad,devalu,drsdf,congressman,cetus,csx,dynalectron,dynalectron,bale,bdk,bale,\n",
      "\n",
      "Clusters 37 Documents: 0001197 0006429 0003138 0006767 0002169 0003399 0002990 0008415 0008851 0002152 0003920 0002996 0002756 0000804 0006663 0005700 0008851 0006187 0001135 0004036 0000240 0008023 0009330 0001988 0007980 0001668 0002153 0008383 0008542 0003669 0004023 0009316 0009107 0003626 0003123 0002114 0003084 0006461 0008288 0006822 0002977 0001956 0004142 0007767 0003752 0008253 0006542 0008867 0009471 0000292 0009043 0006540 0006057 0006009 0007068 0000845 0008735 0002286 0008190 0001401 0001132 0009564 0002576 0006117 0006495 0000471 0009034 0002432 0006241 0000291 0008612 0008203 0000862 0007002 0004465 0001555 0007689 0008824 0000594 0008686 0005967 0001416 0000928 0002854 0002405 0007453 0003300 0000741 0009529 0006712 0005997 0003850 0005386 0007081 0006173 0006365 0005502 0008703 0004712 0002900 0001714 0007259 0008500 0002429 0007682 0005807 0004479 0007561 0004780 0000626 0005986 0005516 0001276 0002148 0009589 0007758 0004388 0009523 0007172 0000336 0009587 0002754 0001603 0008413 0007738 0000346 0002667 0000066 0000720 0007263 0004358 0009382 0008631 0008391 0007771 0006174 0001189 0009248 0005166 0008751 0003038 0002099 0001766 0009496 0008441 0005348 0006212 0006938 0005594 0009544 0008420 0005893 0003003 0001004 0008911 0009066 0007753 0005343 0007797 0000002 0002879 0000045 0007664 0005382 0004827 0002354 0001554 0008887 0002907 0007974 0004777 0009168 0004790 0000353 0002234 0000774 0004364 0000938 0006428 0004852 0003839 0004934 0003520 0007727 0008036 0002737 0004144 0003158 0005505 0007759 0003409 0002065 0005863 0001695 0006662 0008348 0002010 0000271 0004689 0007991 0002157 0008906 0003692 0001397 0005817 0008610 0009502 0002740 0002174 cocoa 0000766 0002195 0003213 0009150 0004139 0007626 0009142 0005732 0000180 0007781 0002271 0002259 0002152 0008181 0007808 0000872 0000194 0004599 0002394 0006586 0000029 0007003 0007957 0008151 0003506 0001572 0004639 0009214 0004906 0005001 0002719 0000219 0005784 0004059 0005478 0003417 0008912 0008008 0002829 0001348 0007402 0008306 0007136 0002995 0008342 0000253 0000323 0001079 0007825 0004057 0002473 0002127 0002162 0001850 0003732 0003356 0008358 0001717 0004083 0008827 0007216 0009345 0000125 0005112 0005757 0002517 0003815 0002603 0006561 0001947 0007602 0004625 0008733 0002572 0008353 \n",
      "\n",
      "Clusters 38 words: dont,cuadra,dynavis,companyt,emphasi,aldakhil,cutpric,abolit,close,danger,camden,camden,cutback,clercq,dynavis,bullmoos,arturo,capitol,celsius,complain,denwa,aid,assur,bigi,demonstr,\n",
      "\n",
      "Clusters 38 Documents: 0009238 0000142 0007564 0005608 0009255 0001753 0002164 0009082 0008866 0002211 0000002 0008149 0002070 0002325 0000247 0006141 0003581 0000151 0004286 0008699 0002059 0004208 0006230 0000619 0008715 0005392 0000159 0000698 0005284 0002082 0003757 0004283 0006929 0006082 0009299 0008705 0000719 0009423 0006027 0002263 0007871 0009085 0005427 0005749 0008029 0009036 0009031 0005709 0008019 0003218 0005486 0008905 0001280 0009418 0005091 0008197 0005199 0006039 0005027 0008583 0004414 0001051 0003523 0008127 0005471 0003293 0009111 0000979 0007815 0007861 0004996 0001381 0009290 0002763 0003721 0001860 0003912 0007760 0004244 0004749 0005969 0000716 0003232 0005022 0000739 0005252 0002988 0000420 0006551 0006628 0003019 0000264 0008341 0005557 0008175 0009098 0003204 0003996 0000945 0006182 0006910 0007009 0000876 0005839 0000818 0002731 0003682 0000667 0009509 0001439 0000008 0007105 0003898 0001045 0004716 0002944 0002723 0005325 0001104 0008858 0005700 0005250 0003749 0008274 0008991 0008702 0003787 0006000 0008627 0005747 0004055 0007309 0007565 0009487 0005048 0008415 0009230 0003129 0003120 0003115 0002675 0000231 0003316 0009221 0003843 0007716 0000668 0007379 0004151 0009434 0006138 0006826 0000639 0000527 0005172 0007320 0007249 0004032 0004932 0008243 0008468 0001181 0005726 0000803 0008272 0000664 0004861 0009015 0001836 0009311 0009000 0005211 0002084 0005340 0006388 0002163 0001256 0004201 0007937 0006093 0004007 0003717 0008549 0006790 0009102 0006785 0004632 0004225 0006637 0001904 0007721 0004778 0009227 0001806 0009470 0004770 0000065 0008582 0006713 0004766 0004240 0008394 0002558 0009235 0003067 0009530 0006730 0006195 0008141 0004407 0004663 0003918 0001759 0004395 0008017 0002980 0009419 0009261 0001848 0004232 0003038 0002675 0007787 0000684 0004454 0002171 0004501 0008115 0006623 0009566 0001603 0001006 0006369 0001026 0002110 0001681 0007434 0003643 0005472 0009479 0004999 0004010 0003710 0009090 0008598 0008283 0006088 0008806 0002005 0004789 0000229 0006373 0003942 0008520 0007234 0004192 0004424 0006756 0002427 0005071 0004128 0006867 0004167 0002615 0000788 0008377 0000295 0003915 0000216 0004021 0005037 0000784 0004745 0003910 0006402 0000593 0002512 0005638 0004724 0006464 0004572 0001877 0008068 0003554 0002138 \n",
      "\n",
      "Clusters 39 words: btlr,alderman,durum,campeau,babylon,entri,agr,eightlock,empi,attend,entail,divis,blanca,entrant,agre,depreci,carniv,adher,costa,clorox,entireti,account,donat,braud,bodi,\n",
      "\n",
      "Clusters 39 Documents: 0007571 0000079 0003157 0000068 0000147 0006392 0005304 0004912 0007162 0005455 0003601 0003565 0008515 0007038 0002670 0003549 0004312 0000880 0007706 0005546 0004980 0009149 0002462 0002153 0008985 0005117 0008346 0001252 0006479 0001261 0000237 0002800 0005703 0007566 0000207 0006351 0007494 0006412 0006356 0005389 0002268 0005432 0009341 0008262 0005456 0004758 0000536 0005197 0004385 0002598 0006237 0007231 0006984 0002618 0004239 0004303 0004903 0001041 0007832 0005014 0004984 0006869 0006398 0006316 0001895 0008506 0002925 0005431 0005000 0008256 0008020 0008932 0004743 0008060 0007163 0000520 0007426 0002916 0003884 0005041 0009389 0001430 0008445 0000290 0006827 0007336 0003327 0007831 0006178 0006254 0001573 0000917 0001823 0009267 0003490 0000122 0001626 0004362 0003877 0002886 0004658 0003470 0001698 0006987 0009338 0008101 0009514 0008699 0004077 0008152 0000138 0001047 0006885 0005056 0000657 0002188 0009224 0006353 0008009 0006652 0005329 0004894 0005711 0005713 0006717 0000763 0002732 0006272 0001085 0009321 0009280 0003558 0003556 0008152 0007780 0003667 0006140 0006544 0004227 0001334 0001262 0001986 0002587 0001655 0003140 0000508 0004678 0001500 0000808 0006678 0009460 0004788 0004300 0007562 0007782 0009144 0002258 0004199 0006035 0006227 0007444 0000269 0007707 0007986 0006993 0004434 0005320 0004078 0005650 0008981 0003003 0001993 0006429 0009134 0003069 0005268 0001237 0006887 0006894 0000881 0007949 0002347 0004115 0002272 0003453 0007215 0007972 0009416 0002833 0005104 0006612 0004646 0000975 0005167 0003258 0008289 0001899 0005105 0006529 0005351 0004929 0002315 0002086 0008397 0006287 0008623 0003583 0003393 0004651 0007393 0008323 0001535 0005065 0005276 0008579 0006558 0008969 0002372 0006448 0006584 0008948 0000617 0008146 0009154 0005923 \n",
      "\n",
      "Clusters 40 words: dispens,crown,bulhx,approxim,begain,approxim,doyon,conservat,cri,close,aguilar,acr,dardanell,bowl,beba,denwa,belgoluxembourg,athlet,concern,attract,attract,donat,bulhx,donat,asia,\n",
      "\n",
      "Clusters 40 Documents: 0001919 0004238 0001227 0001953 0002652 0003577 0009078 0001368 0001906 0006972 0006860 0006924 0001034 0005398 0005123 0003102 0000777 0005667 0005858 0005334 0004506 0008384 0000383 0008931 0003075 0009391 0008075 0000598 0000101 0003345 0004985 0001749 0006625 0006679 0006304 0009524 0006586 0004641 0004453 0003285 0003224 0005713 0000128 0006101 0006539 0004455 0003599 0003569 0004073 0009383 0009036 0006914 0003164 0002814 0001020 0006611 0007521 0007710 0008949 0005578 0008886 0000399 0001120 0008083 0003543 0003837 0005659 0002912 0007488 0009004 0007478 0002680 0002069 0005176 0005231 0000452 0003113 0002964 0004640 0004504 0001209 0007467 0000596 0002064 0007869 0008571 0008754 0008156 0005171 0007540 \n",
      "\n",
      "Clusters 41 words: chandross,antonovich,august,cep,airdrom,acico,circul,boot,chauvco,confer,account,account,abxff,airdrom,contribut,airdrom,curitiba,abxff,cuadra,carv,augment,carv,carv,augment,contribut,\n",
      "\n",
      "Clusters 41 Documents: 0002056 0004925 0007574 0005277 0009106 0007062 0005363 0001167 0002062 0003902 0001358 0000799 0000419 0008917 0008108 0008613 0003153 0001360 0007051 0000840 0003649 0002216 0005762 0001957 0000624 0001649 0000902 0003705 0008503 0008930 0002053 0002028 0003194 0006175 0005783 0008489 0006908 0007650 0002304 0007496 0007610 0007254 0002116 0007557 0003669 0006886 0007330 0001999 0002061 0006087 0003273 0007594 0009040 0008268 0008213 0006592 0005635 0001352 0008028 0000967 0006433 0006550 0008714 0006903 0009175 0009533 0007041 0001627 0007340 0003516 0000694 0005648 0000695 0003786 0004496 0001557 0001579 0000437 0004177 0007164 0003455 0005917 0007947 0003058 0004349 0003349 0001087 0006111 0003948 0003526 0005015 0003790 0001000 0008227 0002992 0004360 0007749 0004252 0005374 0004498 0007973 0006687 0006681 0008955 0009232 0008191 0007629 0005113 0000311 0003833 0004314 0000633 0003708 0003930 0001162 0004257 0002648 0001682 0004547 0005057 0006927 0007783 0000325 0006305 0000629 0000868 0005965 0007544 0007156 0003220 0005241 0003989 0004993 0008265 0000987 0005612 0004258 0005720 0004338 0004620 0008614 0006826 0005382 0004872 0009455 0004836 0001852 0006146 0006949 0004442 0004885 0008291 0007582 0004590 0003087 0009303 0009271 0005146 0000828 0007709 0009125 0002809 0006424 0001940 0005292 0006968 0004860 0003163 0001198 0005893 0000002 0005137 0000298 0007111 0000309 0001793 0001373 0004109 0001912 0007596 0001782 0005449 0006804 0006572 0003612 0002468 0007331 0008011 0007745 0003672 0001412 0007778 0007998 0000090 0004734 0009158 0002647 0006361 0007731 0000757 0008351 0008450 0004046 0003028 0004653 0005446 0009095 0006313 0004311 0002679 0004107 0001946 0004556 0001934 0005263 0004599 0006856 0003863 0004455 0008475 0007436 0009209 0000744 0006148 0000526 0008051 0007476 0009185 0002839 0007461 0006896 0007397 0007116 0000184 0008856 0007607 0009008 0002099 0008699 0008613 0006183 0002590 0007615 0005804 0006966 0002470 0008525 0000903 0002622 0001487 0006729 0000549 0004123 0002776 0005673 0005874 0008730 0002418 0002013 0003411 0005554 0003305 0001758 0004198 0000171 0004159 0004444 0002717 0006069 0000276 0006503 0008109 0002466 0001661 0002745 0006252 0004779 0008485 0006683 0005087 0005576 0008399 0002699 0006391 0006078 \n",
      "\n",
      "Clusters 42 words: decid,attend,commiss,cavendish,endtoend,airlin,dismay,deplor,confidata,commiss,bodi,ax,elat,corporacion,distanc,energet,dn,belgoluxembourg,defin,demonstr,attract,defin,drew,drew,defin,\n",
      "\n",
      "Clusters 42 Documents: 0001163 0002768 0008014 0006340 0000002 0005125 0001425 0007381 0008613 0003192 0008751 0006696 0007787 0008512 0005887 0003103 0004429 0008914 0001400 0008743 0002213 0008431 0001961 0001243 0003101 0005432 0000556 0009216 0005886 0009478 0008349 0007499 0007572 0002256 0000698 0006350 0007300 0008985 0005023 0002082 0009305 0002305 0006933 0003650 0004282 0006795 0005214 0006450 0008675 0006162 0009092 0002549 0002915 0006493 0001485 0007900 0000308 0005900 0002993 0007718 0005629 0004535 0003137 0001386 0009225 0000721 0002579 0007201 0006692 0004029 0000697 0001521 0003714 0005439 0003053 0000427 0005803 0003725 0001842 0006074 0004290 0003503 0007662 0004206 0002136 0003711 0005230 0005473 0003772 0006814 0000911 0008088 0004763 0004121 0006289 0006703 0004635 0004475 0000002 0008327 0008613 0001181 0001006 0007295 0007427 0005558 0009010 0003847 0000665 0004864 0007993 0008181 0009417 0009093 0006066 0007950 0007156 0007182 0001636 0008936 0000759 0000167 0008364 0001978 0005897 0008092 0005114 0000563 0007921 0005316 0001603 0000208 0006696 0002997 0009150 0000259 0003905 0006541 0008284 0001058 0000670 0002193 0004243 0005347 0002746 0003941 0007181 0004145 0004117 0001492 0009275 0004467 0008746 0009189 0006257 0004799 0008541 0004675 0003923 0007011 0006378 0006931 0009547 0004815 0003366 0007233 0002130 0001973 0004868 0004140 0007823 0006858 0000879 0004821 0004717 0009397 0009577 0008951 0004352 0002098 0003584 0001510 0002850 0007964 0002416 0002412 0002495 0004468 0001514 0001595 0009571 0004869 0000167 0004513 0006866 0005983 0008522 0005312 0006583 0005943 0000465 0002596 0003515 0008732 0008564 0005303 0000745 0001274 0006889 0002637 0000656 0004621 0003303 0006307 0004181 0000559 0002594 0005738 0009126 0001952 0002270 0006465 0006486 0000490 0001246 \n",
      "\n",
      "Clusters 43 words: boiler,airco,alarm,avian,allentown,decreas,aberford,energet,escal,collaps,culp,attract,down,edina,base,assign,dn,escal,collaps,avian,bodi,deni,brink,effectu,allend,\n",
      "\n",
      "Clusters 43 Documents: 0003127 0004069 0000051 0007449 0007203 0009162 0005582 0007165 0002457 0000157 0004907 0009064 0008072 0001006 0009368 0007474 0002755 0007742 0003543 0003116 0007875 0002279 0006043 0004976 0006983 0006744 0000231 0006323 0008184 0009108 0007525 0009049 0008831 0006426 0005282 0006824 0006436 0001253 0001277 0006817 0002248 0006007 0006113 0004017 0004560 0007199 0008504 0003979 0005122 0000562 0001962 0002626 0006521 0008933 0008458 0009485 0002399 0003437 0000892 0005154 0007032 0006839 0001924 0007635 0001776 0000343 0006310 0004251 0007786 0001676 0009022 0006453 0005517 0005816 0005956 0006976 0001672 0004793 0005596 0004962 0007799 0007515 0007741 0005941 0000329 0000679 0000417 0008219 0000734 0008097 0005994 0004973 0008128 0004730 0009490 0006555 0000699 0008250 0004405 0001565 0004786 0007517 0006215 0000870 0007479 0004834 0003464 0007882 0007664 0000011 0003422 0008017 0001131 0009568 0009255 0002682 0003591 0004833 0008318 0009553 0003251 0008858 0008193 0003231 0002319 0003830 0009202 0002727 0008809 0006017 0003688 0007985 0004997 0005718 0008286 0005872 0009576 0004398 0002811 0008372 0009408 0006296 0003241 0004661 0007275 0000433 0001375 0001564 0004166 0007674 0005870 0000314 0008094 0008630 0006635 0003528 0002231 0007264 0000620 0002571 0007452 0005377 0006372 0006332 0002816 0006000 0003702 0007227 0003309 0008892 0003308 0000726 0006080 0006070 0009015 0009400 0007882 0002004 0000066 0007443 0000773 0006757 0001681 0000504 0005728 0009454 0008076 0000754 0009430 0005151 0003738 0007593 0007888 0002866 0001666 0003813 0004757 0009035 0002520 0000900 0008544 0001211 0002492 0000126 0008786 0003404 0004287 0001739 0005072 0001196 0007897 0005260 0008575 0009346 0005954 0009059 0000787 0006417 0008329 0008352 0005936 0005412 0000801 0004746 0003426 \n",
      "\n",
      "Clusters 44 words: democraci,emul,dispens,conshohocken,concern,countri,beba,denpac,clamour,cfix,azusa,bluebellaltamont,deep,brattleboro,countri,cool,doyon,doyon,deep,cfix,cool,cfix,countri,deep,disobey,\n",
      "\n",
      "Clusters 44 Documents: 0002793 0007807 0008711 0000089 0002801 0009211 0007830 0001781 0001657 0007505 0009573 0006144 0009063 0002646 0000521 0005438 0002081 0004895 0000671 0004489 0002037 0005825 0007379 0008905 0004210 0004994 0006246 0005481 0009083 0003980 0006399 0002627 0004796 0003235 0006718 0001451 0003329 0005498 0002419 0005922 0004359 0004392 0004517 0004889 0009100 0006528 0001302 0004739 0005101 0004346 0005365 0001427 0004679 0004650 0007059 0002632 0000874 0003957 0003739 0003073 0005054 0006670 0009488 0008634 0005565 0003809 0000423 0005220 0008035 0004736 0007412 0008232 0003855 0009013 0005782 0003573 0009439 0005739 0002113 0006170 0002810 0009117 0009496 0009602 0007184 0006123 0007302 0000161 0003248 0009522 0005270 0002271 0001181 0009230 0009326 0002211 0003788 0006194 0006414 0002299 0005868 0003189 0007065 0004840 0008717 0001704 0001392 0000463 0006525 0007508 0004319 0002088 0008389 0008013 0009050 0004624 0002651 0001075 0000686 0007442 0007538 0006653 0001814 0002210 0004631 0002698 0005136 0003622 0002392 0004217 0001602 0002936 0009323 0004268 0007504 0009594 0004162 0007927 0006870 0006932 0005737 0005259 0001220 0006368 0007365 0002365 0002568 0002606 0008379 0001157 0002453 0001442 0002326 0002436 0009380 0009166 0005603 0009367 0006299 0000561 0004735 0004086 0008444 0006835 0008837 0003681 0009546 0000856 0008298 0007958 0001699 0006605 0007409 0002487 0006708 0002499 0003514 0007124 0004067 0007112 \n",
      "\n",
      "Clusters 45 words: care,btv,coopervis,dual,downer,abbey,chadd,advoc,compli,ershad,bethpag,die,btv,bronwyn,dual,brand,coffer,beer,cri,breach,answer,committeepass,deregul,almahdi,china,\n",
      "\n"
     ]
    },
    {
     "name": "stdout",
     "output_type": "stream",
     "text": [
      "Clusters 45 Documents: 0003162 0001520 0005181 0007093 0000069 0003506 0004829 0006985 0002639 0001505 0000879 0008982 0005447 0003464 0005162 0007781 0002188 0004592 0007127 0003538 0001789 0000601 0002235 0005188 0001489 0000338 0005106 0008646 0005853 0008601 0008972 0007203 0004241 0008025 0009068 0008882 0001744 0009170 0004732 0005734 0002977 0009369 0008697 0001892 0001091 0004425 0007733 0007502 0009434 0009600 0006887 0007102 0008850 0008958 0009446 0006479 0003660 0000556 0003657 0006413 0003781 0003607 0008420 0006329 0007914 0006898 0005353 0005208 0007768 0001459 0004334 0001469 0009426 0003807 0002147 0005646 0005487 0005920 0002535 0005096 0004571 0004157 0006522 0003518 0005500 0004301 0007670 0003984 0003473 0003410 0008509 0004787 0006060 0004781 0004417 0008410 0002145 0000320 0000661 0008979 0000324 0002475 0001312 0001292 0000288 0005581 0004326 0006300 0006031 0008000 0007121 0000939 0006568 0006999 0007465 0002426 0002129 0003647 0003952 0003177 0008565 0002447 0008536 0008957 0007040 0000421 0003320 0000833 0006745 0005513 0000372 0003851 0007673 0004741 0003771 0003395 0008077 0001169 0000043 0005475 0000830 0003551 0006110 0000793 0001575 0008609 0008498 0005213 0000411 0005132 0006059 0007067 0005084 0001862 0007575 0001131 0002289 0005836 0006696 0009149 0002732 0000419 0009579 0004161 0009226 0004696 0006235 0008266 0008860 0008951 0003265 0001680 0001061 0003920 0009082 0007038 0002173 0001305 0003707 0001187 0000319 0000675 0006390 0002014 0008656 0000178 0006429 0003463 0000402 0001195 0000641 0008051 0004842 0005286 0007218 0005119 0006324 0001217 0004556 0007255 0003563 0006770 0002289 0000066 0000213 0000160 0001233 0008317 0006189 0009122 0006331 0008830 0009339 0001128 0002860 0004987 0006990 0009155 0005859 0009033 0005549 0003741 0003048 0003723 0002953 0004242 0006107 0003778 0008313 0005331 0000260 0006377 0002400 0009549 0000444 0000289 0006354 0002946 0000768 0000258 0008296 0007069 0004173 0007848 0007082 0000408 0005957 0008642 0005755 0005070 0006535 0001166 0007391 0005510 0005499 0004618 0005564 0000144 0004501 0006875 0002834 0003594 0004028 0004023 0004283 0008364 0007218 0002062 0007240 0001395 0005270 0009580 0007320 0004864 0001061 0006297 0001926 0000961 0007889 0006407 0001247 0007516 0002584 0007129 0005248 0000205 0001126 0008590 0006663 0002838 0006386 0007889 0007192 0002087 0001429 0009125 0000231 0000860 0008800 0000188 0001509 0005403 0008502 0000489 0002614 0003559 0009293 0003435 0006508 0009373 0002504 0002595 0008405 0004439 0001003 0005745 0004622 0006271 0002761 0005075 0007354 0000310 0008563 0006965 0000569 0004918 0000852 0008295 0009333 0001623 0001619 0005970 0005962 0000405 0008795 0001434 0005687 0009118 0006921 0002458 0002351 0001736 0002230 0006806 0006231 \n",
      "\n",
      "Clusters 46 words: bullet,costa,ault,cost,concern,clairifi,esex,dynavis,buffalo,deck,cmac,angelica,downgrad,dynavis,entri,entri,conshohocken,bullet,bullet,demarkus,demarkus,concern,bhputah,ault,concern,\n",
      "\n",
      "Clusters 46 Documents: 0007159 0004327 0003802 0005912 0000366 0004827 0002639 0004827 0007787 0000639 0005324 0007479 0000432 0009571 0001966 0006506 0004381 0009088 0004423 0008308 0002024 0004927 0004847 0008417 0008682 0001346 0002314 0006933 0001268 0009483 0004195 0009544 0003914 0007256 0003384 0005783 0000923 0007470 0009412 0007901 0007471 0004018 0003290 0005438 0002354 0000374 0006049 0006571 0000379 0007226 0001089 0008236 0003663 0006239 0000600 0004503 0006255 0009165 0000104 0007693 0007724 0002965 0005406 0007720 0004367 0007180 0000046 0002542 0005039 0000278 0001707 0005010 0009218 0005496 0005144 0009431 0009447 0000076 0008965 0007001 0003088 0008292 0009234 0000025 0000688 0000867 0007120 0004981 0004960 0008479 0000807 0006594 0005194 0004264 0001733 0001106 0005915 0005073 0004958 0000692 0004393 0001622 0008726 0003902 0008104 0000222 0003847 0008643 0004827 0000888 0002787 0002179 0001465 0009331 0001458 0006272 0005345 0001968 0008695 0007876 0000129 0008435 0007127 0001605 0001789 0004324 0006457 0006899 0007418 0004870 0006862 0003288 0007546 0003637 0005679 0002014 0002291 0000263 0008699 0009574 0008415 0005607 0008435 0005919 0000652 0001977 0009325 0008364 0007406 0003598 0001324 0007434 0008043 0001141 0008159 0007088 0008052 0004974 0006560 0001588 0003900 0007734 0007717 0005311 0001651 0002093 0005552 0008781 0002228 0008600 0007934 0003047 0006394 0003982 0005289 0005131 0004097 0005460 0006782 0005002 0006986 0004422 0008821 0002813 0001618 0003811 0004487 0006840 0001242 0005048 0008026 0005973 0008809 0007993 0001012 0000305 0007950 0004376 0009011 0007445 0003112 0008836 0006934 0000937 0007236 0006639 0000493 0002171 0002991 0003606 0002942 0005360 0005169 0006406 0000877 0005843 0004611 0007651 0005778 0006809 0001213 0007801 0001730 0008864 0004664 0002600 0000575 0006443 0003684 0006714 0003706 0006281 0005871 0000326 0007369 0009352 0006797 0008490 0006852 0000102 0000551 0000603 0008480 0008293 0006557 0004768 0009240 0009197 0004613 0005271 0008134 0005644 0008685 0001413 0000647 \n",
      "\n",
      "Clusters 47 words: bumper,advers,bhputah,creat,cbl,educ,clipbecaus,camden,engelhard,enap,culver,assist,curtail,amnount,edelman,bogart,costa,airdrom,bni,eluvi,csx,coagent,devalu,coop,cetus,\n",
      "\n",
      "Clusters 47 Documents: 0002020 0000316 0004935 0000893 0000513 0007870 0005762 0009410 0001403 0006148 0002727 0002128 0005109 0001188 0006451 0007146 0009349 0008999 0000497 0008727 0003122 0001892 0001991 0005696 0000986 0003573 0007192 0007174 0005739 0002066 0003545 0001931 0006430 0001647 0006933 0001719 0007492 0000972 0003652 0003777 0004583 0000902 0001252 0006444 0008937 0004113 0000582 0007585 0007980 0005047 0006230 0004207 0007283 0001279 0007362 0000041 0001879 0002469 0009453 0002288 0003089 0005410 0004715 0006759 0001479 0007811 0004708 0000067 0008365 0005835 0004147 0004394 0002428 0003875 0004209 0002878 0000152 0009207 0004587 0000398 0005645 0004762 0005846 0004773 0007018 0002406 0005884 0000682 0003907 0000118 0007994 0001097 0001642 0000797 0009173 0006723 0000519 0000055 0006621 0002001 0006204 0007455 0000303 0000266 0004589 0009081 0001519 0008121 0005532 0004521 0006721 0007271 0001115 0008790 0000849 0004727 0003297 0003000 0007739 0006199 0007157 0006632 0003593 0007666 0005796 0007928 0001792 0004722 0005125 0002191 0009328 0009572 0007350 0008982 0001764 0008206 0001840 0008177 0000799 0005608 0009142 0008853 0003838 0008235 0002254 0009420 0007375 0007498 0008420 0006597 0007470 0009441 0007809 0006371 0000002 0008327 0007575 0008368 0000222 0004407 0000048 0007110 0005878 0005130 0003301 0003108 0003924 0006710 0007506 0008354 0002821 0004472 0005442 0001099 0005925 0003433 0008070 0008483 0000990 0000691 0002804 0007669 0005537 0007769 0004428 0004137 0005535 0005861 0007077 0007966 0008261 0007349 0007764 0008304 0001839 0007671 0008661 0003389 0000548 0007776 0002855 0009337 0005573 0000316 0009510 0007129 0002151 0009338 0002396 0001998 0000231 0007193 0008842 0000226 0003423 0006865 0000859 0000615 0006882 0003580 0001701 0005453 0007274 0003191 0008007 0001851 0008167 0000762 0000567 0003665 0008962 0006933 0006578 0001383 0000794 0007785 0007143 0003246 0008533 0002442 0005993 0002733 0006441 0008307 0008668 0002583 0005827 0003729 0007078 0002523 0006610 0008139 0000056 0000435 0007543 0006264 0004276 0005631 0006748 0006411 0000980 0006184 0000701 0003244 0007399 0005291 0007556 0007722 0008698 0001014 \n",
      "\n",
      "Clusters 48 words: alter,ace,calgarybas,accus,ctws,cyl,bluechip,ammonia,dock,ace,consult,brattleboro,asssess,assess,countertrad,dark,docugraphix,deregul,briefli,dock,divid,compli,augment,abbey,dollaryen,\n",
      "\n",
      "Clusters 48 Documents: 0003505 0001366 0006380 0004715 0001258 0000429 0006335 0003359 0009503 0002554 0006273 0008663 0003268 0007379 0003602 0007552 0009028 0007498 0005818 0002380 0003895 0005568 0005190 0004545 0008254 0006163 0003995 0005414 0005350 0000225 0008378 0003483 0003695 0003718 0005128 0006347 0008234 0000124 0008082 0000057 0007373 0009534 0008157 0002298 0000610 0000468 0003456 0008031 0001784 0008785 0005564 0002137 0009261 0007304 0009070 0007357 0000663 0001006 0001200 0002208 0008538 0003011 0006116 0007256 0004216 0000820 0005329 0003796 0001317 0005318 0006129 0001568 0006950 0003677 0003339 0006801 0009053 0006075 0002076 0003666 0003849 0005530 0002073 0002253 0003071 0007875 0002378 0003094 0002933 0002183 0003192 0008330 0007014 0009585 0003668 0008884 0008078 0007051 0009121 0008494 0007125 0001498 0003536 0008259 0002322 0003371 0005033 0003588 0004755 0002718 0005706 0001219 0008488 0006895 0004438 0007507 0006238 0002333 0001721 0009344 \n",
      "\n",
      "Clusters 49 words: dissemin,cos,air,donat,crcc,athlet,bogart,cistron,draugen,abraham,buchheit,ebmi,annoy,buitoni,contribut,activ,eluvi,disobey,doyon,clercq,cntpershar,danger,ebmi,ebmi,air,\n",
      "\n",
      "Clusters 49 Documents: 0001949 0008002 0006696 0007447 0001055 0005809 0006291 0005257 0003636 0003914 0009265 0007486 0000348 0006934 0002106 0002260 0004718 0003196 0001958 0009097 0007948 0005353 0009332 0004062 0004792 0000479 0001792 0002992 0009423 0008671 0000485 0000743 0009595 0008946 0004285 0004904 0004087 0002143 0003238 0004158 0000396 0009385 0006135 0000370 0008710 0005848 0003355 0008194 0003776 0005058 0004127 0008208 0000506 0007695 0001300 0009536 0001574 0000014 0007047 0005236 0000418 0004606 0008360 0002015 0006343 0006734 0004657 0001601 0005773 0006741 0000351 0006397 0003111 0002788 0003068 0008535 0001149 0001017 0007714 0001445 0001748 0001545 0002744 0007118 0005622 0001117 0006716 0002592 0003093 0006471 0003879 0000866 0001118 0005866 0003926 0006213 0006126 0002888 0006567 0001508 0005021 0004945 0008169 0003100 0003002 0002924 0001702 0001689 0007951 0004838 0003215 0001907 0009572 0002266 0003319 0003914 0006084 0000197 0005572 0004092 0000654 0002187 0002233 0008617 0009575 0004982 0004358 0006302 0001304 0005844 0009593 0008441 0000557 0001068 0009594 0003747 0001633 0005301 0005306 0003631 0003740 0000981 0005307 0004576 0000534 0008453 0004463 0007229 0009027 0007134 0001927 0004045 0001122 0003163 0000228 0003616 0009047 0005712 0000261 0002949 0008699 0007080 0007189 0007245 0007916 0007034 0003197 0002422 0009215 0004164 0002725 0002759 0004345 0006684 0009556 0001101 0006244 0000282 0005998 0001997 0002240 0005587 0001056 0001878 0006638 0001854 0005571 0008465 0004265 0009584 0007293 0003181 0001817 0003130 0006159 0009203 0005864 0009476 0007225 0005120 0000129 0007355 0007882 0007472 0004456 0007390 0004523 0007466 0005841 0001172 0005800 0006014 0009435 0003831 0005336 0000241 0006348 0004817 0000853 0008555 0002630 0002105 0001518 0002310 0008725 0003228 0008560 0002608 0008728 0002223 0007701 0006736 0004662 0007737 0008336 0004486 0005148 0001858 0001229 0004085 0007952 0007123 0001105 0004676 0000340 0000681 0006960 0005975 0003080 0008802 0005451 0002674 0007563 0003373 0008273 0000746 0006186 0004891 0006750 0007854 0009497 0008823 0006061 0002287 0002856 0003424 0001576 0003365 0007209 0008709 \n",
      "\n",
      "\n",
      "\n"
     ]
    }
   ],
   "source": [
    "from __future__ import print_function\n",
    "print(\"Top terms per Cluster\")\n",
    "print()\n",
    "top_clusters_words = [] #to store the top cluster words\n",
    "#sort clusters\n",
    "order_centroids = km.cluster_centers_.argsort()[:,::-1]\n",
    "for i in range(num_clusters):\n",
    "    print(\"Clusters {} words:\".format(i),end=' ')\n",
    "    for ind in order_centroids[i,:25]: #top 25 words\n",
    "        important_terms = terms[ind].split(' ')[0]\n",
    "        print('%s' % terms[ind].split(' ')[0],end=',')\n",
    "        top_clusters_words.append((i,important_terms))\n",
    "    print()\n",
    "    print() #add whitespace\n",
    "    \n",
    "    print(\"Clusters {} Documents:\".format(i),end = ' ')\n",
    "    for title in frame.ix[i]['document'].values.tolist():\n",
    "        print(\"{}\".format(title),end=' ')\n",
    "    print()\n",
    "    print() #add whitespace\n",
    "\n",
    "print()\n",
    "print()"
   ]
  },
  {
   "cell_type": "code",
   "execution_count": 34,
   "metadata": {},
   "outputs": [],
   "source": [
    "import os\n",
    "import matplotlib.pyplot as plt\n",
    "import matplotlib as mpl\n",
    "plt.style.use('ggplot')"
   ]
  },
  {
   "cell_type": "code",
   "execution_count": 35,
   "metadata": {},
   "outputs": [
    {
     "data": {
      "text/plain": [
       "(11475, 11475)"
      ]
     },
     "execution_count": 35,
     "metadata": {},
     "output_type": "execute_result"
    }
   ],
   "source": [
    "dist.shape"
   ]
  },
  {
   "cell_type": "code",
   "execution_count": 36,
   "metadata": {},
   "outputs": [],
   "source": [
    "#the eucledian distance shape(11475,11475)\n",
    "#decompose the batch into 15 batches into shape(765,765)\n",
    "#store into the list\n",
    "dist_as_batch = []\n",
    "i=1\n",
    "previous = 0\n",
    "while(i*765 <= dist.shape[0]):\n",
    "    index = i*765\n",
    "    dist_as_batch.append(dist[previous:index])\n",
    "    previous = index+1\n",
    "    i+=1"
   ]
  },
  {
   "cell_type": "code",
   "execution_count": 37,
   "metadata": {},
   "outputs": [
    {
     "data": {
      "text/plain": [
       "11475"
      ]
     },
     "execution_count": 37,
     "metadata": {},
     "output_type": "execute_result"
    }
   ],
   "source": [
    "len(dist_as_batch[0][1]) #the matrix is in shape(765,11475)"
   ]
  },
  {
   "cell_type": "markdown",
   "metadata": {},
   "source": [
    "Now the cosine_similarity variable dist has shape (11475,11475) . We need to convert them into 2D array using **MultiDimensionalScaling or PCA** . If we use MDS function directly we get **Memeroy Error** . So we need to decompose the whole dist to **multiple batches** , which is in the shape (765,11475)  into 15 batches. If we need to apply **MDS.fit_transform()** the row and column of the matrix should be in the shape(765,765)"
   ]
  },
  {
   "cell_type": "code",
   "execution_count": 38,
   "metadata": {},
   "outputs": [],
   "source": [
    "#convert the dist into DatFrame \n",
    "dist_dataFrame = pd.DataFrame(data=dist,index=None,)"
   ]
  },
  {
   "cell_type": "code",
   "execution_count": 39,
   "metadata": {},
   "outputs": [
    {
     "data": {
      "text/html": [
       "<div>\n",
       "<style scoped>\n",
       "    .dataframe tbody tr th:only-of-type {\n",
       "        vertical-align: middle;\n",
       "    }\n",
       "\n",
       "    .dataframe tbody tr th {\n",
       "        vertical-align: top;\n",
       "    }\n",
       "\n",
       "    .dataframe thead th {\n",
       "        text-align: right;\n",
       "    }\n",
       "</style>\n",
       "<table border=\"1\" class=\"dataframe\">\n",
       "  <thead>\n",
       "    <tr style=\"text-align: right;\">\n",
       "      <th></th>\n",
       "      <th>0</th>\n",
       "      <th>1</th>\n",
       "      <th>2</th>\n",
       "      <th>3</th>\n",
       "      <th>4</th>\n",
       "      <th>5</th>\n",
       "      <th>6</th>\n",
       "      <th>7</th>\n",
       "      <th>8</th>\n",
       "      <th>9</th>\n",
       "      <th>...</th>\n",
       "      <th>11465</th>\n",
       "      <th>11466</th>\n",
       "      <th>11467</th>\n",
       "      <th>11468</th>\n",
       "      <th>11469</th>\n",
       "      <th>11470</th>\n",
       "      <th>11471</th>\n",
       "      <th>11472</th>\n",
       "      <th>11473</th>\n",
       "      <th>11474</th>\n",
       "    </tr>\n",
       "  </thead>\n",
       "  <tbody>\n",
       "    <tr>\n",
       "      <th>11470</th>\n",
       "      <td>1.0</td>\n",
       "      <td>1.0</td>\n",
       "      <td>1.0</td>\n",
       "      <td>1.0</td>\n",
       "      <td>1.0</td>\n",
       "      <td>1.0</td>\n",
       "      <td>1.0</td>\n",
       "      <td>1.0</td>\n",
       "      <td>1.0</td>\n",
       "      <td>1.0</td>\n",
       "      <td>...</td>\n",
       "      <td>1.000000</td>\n",
       "      <td>0.985393</td>\n",
       "      <td>0.925325</td>\n",
       "      <td>0.978381</td>\n",
       "      <td>0.951615</td>\n",
       "      <td>8.881784e-16</td>\n",
       "      <td>9.730359e-01</td>\n",
       "      <td>9.661215e-01</td>\n",
       "      <td>1.000000e+00</td>\n",
       "      <td>9.731314e-01</td>\n",
       "    </tr>\n",
       "    <tr>\n",
       "      <th>11471</th>\n",
       "      <td>1.0</td>\n",
       "      <td>1.0</td>\n",
       "      <td>1.0</td>\n",
       "      <td>1.0</td>\n",
       "      <td>1.0</td>\n",
       "      <td>1.0</td>\n",
       "      <td>1.0</td>\n",
       "      <td>1.0</td>\n",
       "      <td>1.0</td>\n",
       "      <td>1.0</td>\n",
       "      <td>...</td>\n",
       "      <td>0.952356</td>\n",
       "      <td>0.928705</td>\n",
       "      <td>0.961177</td>\n",
       "      <td>0.916614</td>\n",
       "      <td>0.962638</td>\n",
       "      <td>9.730359e-01</td>\n",
       "      <td>8.881784e-16</td>\n",
       "      <td>9.754390e-01</td>\n",
       "      <td>1.000000e+00</td>\n",
       "      <td>9.556951e-01</td>\n",
       "    </tr>\n",
       "    <tr>\n",
       "      <th>11472</th>\n",
       "      <td>1.0</td>\n",
       "      <td>1.0</td>\n",
       "      <td>1.0</td>\n",
       "      <td>1.0</td>\n",
       "      <td>1.0</td>\n",
       "      <td>1.0</td>\n",
       "      <td>1.0</td>\n",
       "      <td>1.0</td>\n",
       "      <td>1.0</td>\n",
       "      <td>1.0</td>\n",
       "      <td>...</td>\n",
       "      <td>0.904297</td>\n",
       "      <td>0.916244</td>\n",
       "      <td>0.945297</td>\n",
       "      <td>0.966465</td>\n",
       "      <td>0.984209</td>\n",
       "      <td>9.661215e-01</td>\n",
       "      <td>9.754390e-01</td>\n",
       "      <td>-2.220446e-16</td>\n",
       "      <td>9.395556e-01</td>\n",
       "      <td>9.755260e-01</td>\n",
       "    </tr>\n",
       "    <tr>\n",
       "      <th>11473</th>\n",
       "      <td>1.0</td>\n",
       "      <td>1.0</td>\n",
       "      <td>1.0</td>\n",
       "      <td>1.0</td>\n",
       "      <td>1.0</td>\n",
       "      <td>1.0</td>\n",
       "      <td>1.0</td>\n",
       "      <td>1.0</td>\n",
       "      <td>1.0</td>\n",
       "      <td>1.0</td>\n",
       "      <td>...</td>\n",
       "      <td>0.955957</td>\n",
       "      <td>0.942677</td>\n",
       "      <td>0.908549</td>\n",
       "      <td>0.967765</td>\n",
       "      <td>0.947922</td>\n",
       "      <td>1.000000e+00</td>\n",
       "      <td>1.000000e+00</td>\n",
       "      <td>9.395556e-01</td>\n",
       "      <td>-8.881784e-16</td>\n",
       "      <td>9.676659e-01</td>\n",
       "    </tr>\n",
       "    <tr>\n",
       "      <th>11474</th>\n",
       "      <td>1.0</td>\n",
       "      <td>1.0</td>\n",
       "      <td>1.0</td>\n",
       "      <td>1.0</td>\n",
       "      <td>1.0</td>\n",
       "      <td>1.0</td>\n",
       "      <td>1.0</td>\n",
       "      <td>1.0</td>\n",
       "      <td>1.0</td>\n",
       "      <td>1.0</td>\n",
       "      <td>...</td>\n",
       "      <td>0.979543</td>\n",
       "      <td>0.904792</td>\n",
       "      <td>0.945820</td>\n",
       "      <td>0.958450</td>\n",
       "      <td>1.000000</td>\n",
       "      <td>9.731314e-01</td>\n",
       "      <td>9.556951e-01</td>\n",
       "      <td>9.755260e-01</td>\n",
       "      <td>9.676659e-01</td>\n",
       "      <td>-8.881784e-16</td>\n",
       "    </tr>\n",
       "  </tbody>\n",
       "</table>\n",
       "<p>5 rows × 11475 columns</p>\n",
       "</div>"
      ],
      "text/plain": [
       "       0      1      2      3      4      5      6      7      8      9      \\\n",
       "11470    1.0    1.0    1.0    1.0    1.0    1.0    1.0    1.0    1.0    1.0   \n",
       "11471    1.0    1.0    1.0    1.0    1.0    1.0    1.0    1.0    1.0    1.0   \n",
       "11472    1.0    1.0    1.0    1.0    1.0    1.0    1.0    1.0    1.0    1.0   \n",
       "11473    1.0    1.0    1.0    1.0    1.0    1.0    1.0    1.0    1.0    1.0   \n",
       "11474    1.0    1.0    1.0    1.0    1.0    1.0    1.0    1.0    1.0    1.0   \n",
       "\n",
       "           ...          11465     11466     11467     11468     11469  \\\n",
       "11470      ...       1.000000  0.985393  0.925325  0.978381  0.951615   \n",
       "11471      ...       0.952356  0.928705  0.961177  0.916614  0.962638   \n",
       "11472      ...       0.904297  0.916244  0.945297  0.966465  0.984209   \n",
       "11473      ...       0.955957  0.942677  0.908549  0.967765  0.947922   \n",
       "11474      ...       0.979543  0.904792  0.945820  0.958450  1.000000   \n",
       "\n",
       "              11470         11471         11472         11473         11474  \n",
       "11470  8.881784e-16  9.730359e-01  9.661215e-01  1.000000e+00  9.731314e-01  \n",
       "11471  9.730359e-01  8.881784e-16  9.754390e-01  1.000000e+00  9.556951e-01  \n",
       "11472  9.661215e-01  9.754390e-01 -2.220446e-16  9.395556e-01  9.755260e-01  \n",
       "11473  1.000000e+00  1.000000e+00  9.395556e-01 -8.881784e-16  9.676659e-01  \n",
       "11474  9.731314e-01  9.556951e-01  9.755260e-01  9.676659e-01 -8.881784e-16  \n",
       "\n",
       "[5 rows x 11475 columns]"
      ]
     },
     "execution_count": 39,
     "metadata": {},
     "output_type": "execute_result"
    }
   ],
   "source": [
    "dist_dataFrame.tail()"
   ]
  },
  {
   "cell_type": "code",
   "execution_count": 40,
   "metadata": {},
   "outputs": [],
   "source": [
    "#divide the whole data into 765 batch\n",
    "#iterate through each row and convert 11475 columns to 2 columns using PCA analysis\n",
    "#store the result in new file for future purpose\n",
    "#start the iteration of each row by iterrows()\n",
    "#Error Faced  : Expected 2D array but got 1D array instead\n",
    "from sklearn.decomposition import TruncatedSVD\n",
    "svd = TruncatedSVD(n_components=2,n_iter=2,random_state=5)\n",
    "#convert dataFrame into numpy array\n",
    "dist_as_np = np.array(dist)"
   ]
  },
  {
   "cell_type": "code",
   "execution_count": 41,
   "metadata": {},
   "outputs": [
    {
     "data": {
      "text/plain": [
       "(11475, 11475)"
      ]
     },
     "execution_count": 41,
     "metadata": {},
     "output_type": "execute_result"
    }
   ],
   "source": [
    "dist_as_np.shape"
   ]
  },
  {
   "cell_type": "code",
   "execution_count": 42,
   "metadata": {},
   "outputs": [
    {
     "name": "stdout",
     "output_type": "stream",
     "text": [
      "Finished Processing 1 batch\n",
      "Finished Processing 2 batch\n",
      "Finished Processing 3 batch\n",
      "Finished Processing 4 batch\n",
      "Finished Processing 5 batch\n",
      "Finished Processing 6 batch\n",
      "Finished Processing 7 batch\n",
      "Finished Processing 8 batch\n",
      "Finished Processing 9 batch\n",
      "Finished Processing 10 batch\n",
      "Finished Processing 11 batch\n",
      "Finished Processing 12 batch\n",
      "Finished Processing 13 batch\n",
      "Finished Processing 14 batch\n",
      "Finished Processing 15 batch\n"
     ]
    }
   ],
   "source": [
    "d = [] #list\n",
    "i=1\n",
    "previous = 0\n",
    "while(i*765 <= dist_as_np.shape[0]):\n",
    "    current_index = i*765\n",
    "    data = dist_as_np[previous:current_index]\n",
    "    svd_vector = svd.fit_transform(data)\n",
    "    d.append((i,svd_vector))\n",
    "    previous = current_index\n",
    "    print(\"Finished Processing {} batch\".format(i))\n",
    "    i+=1"
   ]
  },
  {
   "cell_type": "code",
   "execution_count": 43,
   "metadata": {},
   "outputs": [],
   "source": [
    "#now we decomposed the high dimensional data into low 2D data\n",
    "#enter the data into dataFrame\n",
    "#write the 2D vectors into text file for future reference\n",
    "with open('low_dimensional_data.txt','w') as fp:\n",
    "    for i,array_data in d:\n",
    "        for two_d_vectors in array_data:\n",
    "            vectors_as_str = str(two_d_vectors)\n",
    "            if vectors_as_str.startswith(' '):\n",
    "                vectors_as_str = vectors_as_str.replace(' ','')\n",
    "            replace_chars = ['[',']']\n",
    "            for char in replace_chars:\n",
    "                vectors_as_str = vectors_as_str.replace(char,'')\n",
    "            fp.write(vectors_as_str)\n",
    "            fp.write(\"\\n\")\n",
    "        "
   ]
  },
  {
   "cell_type": "code",
   "execution_count": 44,
   "metadata": {},
   "outputs": [],
   "source": [
    "#convert into dataframe\n",
    "low_dim_df = pd.read_csv('low_dimensional_data.txt',sep='\\s+',header=None,names=['X','Y'])"
   ]
  },
  {
   "cell_type": "code",
   "execution_count": 45,
   "metadata": {},
   "outputs": [
    {
     "data": {
      "text/html": [
       "<div>\n",
       "<style scoped>\n",
       "    .dataframe tbody tr th:only-of-type {\n",
       "        vertical-align: middle;\n",
       "    }\n",
       "\n",
       "    .dataframe tbody tr th {\n",
       "        vertical-align: top;\n",
       "    }\n",
       "\n",
       "    .dataframe thead th {\n",
       "        text-align: right;\n",
       "    }\n",
       "</style>\n",
       "<table border=\"1\" class=\"dataframe\">\n",
       "  <thead>\n",
       "    <tr style=\"text-align: right;\">\n",
       "      <th></th>\n",
       "      <th>X</th>\n",
       "      <th>Y</th>\n",
       "    </tr>\n",
       "  </thead>\n",
       "  <tbody>\n",
       "    <tr>\n",
       "      <th>1222</th>\n",
       "      <td>106.620350</td>\n",
       "      <td>-0.140611</td>\n",
       "    </tr>\n",
       "    <tr>\n",
       "      <th>1223</th>\n",
       "      <td>106.780017</td>\n",
       "      <td>-0.072778</td>\n",
       "    </tr>\n",
       "    <tr>\n",
       "      <th>1224</th>\n",
       "      <td>106.770989</td>\n",
       "      <td>-0.055833</td>\n",
       "    </tr>\n",
       "    <tr>\n",
       "      <th>1225</th>\n",
       "      <td>106.872403</td>\n",
       "      <td>-0.014668</td>\n",
       "    </tr>\n",
       "    <tr>\n",
       "      <th>1226</th>\n",
       "      <td>106.731865</td>\n",
       "      <td>-0.086752</td>\n",
       "    </tr>\n",
       "    <tr>\n",
       "      <th>1227</th>\n",
       "      <td>106.625474</td>\n",
       "      <td>-0.153665</td>\n",
       "    </tr>\n",
       "    <tr>\n",
       "      <th>1228</th>\n",
       "      <td>106.657120</td>\n",
       "      <td>-0.144136</td>\n",
       "    </tr>\n",
       "    <tr>\n",
       "      <th>1229</th>\n",
       "      <td>106.710341</td>\n",
       "      <td>-0.084602</td>\n",
       "    </tr>\n",
       "  </tbody>\n",
       "</table>\n",
       "</div>"
      ],
      "text/plain": [
       "               X         Y\n",
       "1222  106.620350 -0.140611\n",
       "1223  106.780017 -0.072778\n",
       "1224  106.770989 -0.055833\n",
       "1225  106.872403 -0.014668\n",
       "1226  106.731865 -0.086752\n",
       "1227  106.625474 -0.153665\n",
       "1228  106.657120 -0.144136\n",
       "1229  106.710341 -0.084602"
      ]
     },
     "execution_count": 45,
     "metadata": {},
     "output_type": "execute_result"
    }
   ],
   "source": [
    "low_dim_df.iloc[1222:1230]"
   ]
  },
  {
   "cell_type": "code",
   "execution_count": 46,
   "metadata": {},
   "outputs": [
    {
     "data": {
      "text/plain": [
       "(11475, 2)"
      ]
     },
     "execution_count": 46,
     "metadata": {},
     "output_type": "execute_result"
    }
   ],
   "source": [
    "low_dim_df.shape"
   ]
  },
  {
   "cell_type": "code",
   "execution_count": 47,
   "metadata": {},
   "outputs": [
    {
     "name": "stdout",
     "output_type": "stream",
     "text": [
      "(11475,) (11475,)\n"
     ]
    }
   ],
   "source": [
    "xs,ys = low_dim_df.iloc[:,0],low_dim_df.iloc[:,1]\n",
    "print(xs.shape,ys.shape)"
   ]
  },
  {
   "cell_type": "code",
   "execution_count": 48,
   "metadata": {},
   "outputs": [],
   "source": [
    "#pick 50 colors for different clusters\n",
    "i=0\n",
    "colors_list = []\n",
    "with open('../clustering/random_colors.txt','r') as fp:\n",
    "    data = fp.read()\n",
    "    #split by \\n\n",
    "    data_split = data.split(\"\\n\")\n",
    "    for hex_colors in data_split:\n",
    "        colors_list.append((i,hex_colors))\n",
    "        i+=1"
   ]
  },
  {
   "cell_type": "code",
   "execution_count": 49,
   "metadata": {},
   "outputs": [
    {
     "data": {
      "text/plain": [
       "(50, '')"
      ]
     },
     "execution_count": 49,
     "metadata": {},
     "output_type": "execute_result"
    }
   ],
   "source": [
    "colors_list.pop()"
   ]
  },
  {
   "cell_type": "code",
   "execution_count": 50,
   "metadata": {},
   "outputs": [
    {
     "data": {
      "text/plain": [
       "{0: '#e66582',\n",
       " 1: '#65afb0',\n",
       " 2: '#cb7fb4',\n",
       " 3: '#f68956',\n",
       " 4: '#f95c55',\n",
       " 5: '#e0f876',\n",
       " 6: '#6ddd48',\n",
       " 7: '#444a68',\n",
       " 8: '#90508b',\n",
       " 9: '#69eb1e',\n",
       " 10: '#95f05c',\n",
       " 11: '#712302',\n",
       " 12: '#dddb6d',\n",
       " 13: '#101d48',\n",
       " 14: '#0135f2',\n",
       " 15: '#5b90a8',\n",
       " 16: '#909236',\n",
       " 17: '#fe92e5',\n",
       " 18: '#0b518f',\n",
       " 19: '#979efb',\n",
       " 20: '#b2dd57',\n",
       " 21: '#e8fbdd',\n",
       " 22: '#823c4f',\n",
       " 23: '#4db437',\n",
       " 24: '#40281d',\n",
       " 25: '#2cd7c3',\n",
       " 26: '#ed8dea',\n",
       " 27: '#396f0d',\n",
       " 28: '#b18ab4',\n",
       " 29: '#7f24ea',\n",
       " 30: '#e9f8fd',\n",
       " 31: '#cdab7c',\n",
       " 32: '#961059',\n",
       " 33: '#59c668',\n",
       " 34: '#a898fe',\n",
       " 35: '#e7f923',\n",
       " 36: '#b38dd2',\n",
       " 37: '#8f4642',\n",
       " 38: '#875e6e',\n",
       " 39: '#01e9ca',\n",
       " 40: '#4184f3',\n",
       " 41: '#85caa0',\n",
       " 42: '#67ebe5',\n",
       " 43: '#e38618',\n",
       " 44: '#dfc2b6',\n",
       " 45: '#cef5a4',\n",
       " 46: '#875733',\n",
       " 47: '#e9036c',\n",
       " 48: '#987393',\n",
       " 49: '#14e0f1'}"
      ]
     },
     "execution_count": 50,
     "metadata": {},
     "output_type": "execute_result"
    }
   ],
   "source": [
    "colors_dict = dict(colors_list) #converted into dictionary\n",
    "colors_dict"
   ]
  },
  {
   "cell_type": "code",
   "execution_count": 51,
   "metadata": {},
   "outputs": [],
   "source": [
    "from itertools import groupby\n",
    "from operator import itemgetter\n",
    "clusters_title = [] #list to identify the what represents each cluster\n",
    "top_clusters_words.sort(key=itemgetter(0))\n",
    "groups = groupby(top_clusters_words,itemgetter(0))\n",
    "words = [[items[1] for items in data] for key,data in groups]"
   ]
  },
  {
   "cell_type": "code",
   "execution_count": 52,
   "metadata": {},
   "outputs": [
    {
     "data": {
      "text/plain": [
       "50"
      ]
     },
     "execution_count": 52,
     "metadata": {},
     "output_type": "execute_result"
    }
   ],
   "source": [
    "len(words)"
   ]
  },
  {
   "cell_type": "code",
   "execution_count": 53,
   "metadata": {},
   "outputs": [
    {
     "name": "stdout",
     "output_type": "stream",
     "text": [
      "11475\n"
     ]
    }
   ],
   "source": [
    "%matplotlib inline\n",
    "#creating the dataFrame\n",
    "docs = [] #list to store the docs\n",
    "document = frame['document'] # document is in type series\n",
    "for doc in document:\n",
    "    docs.append(docs)\n",
    "\n",
    "print(len(docs))"
   ]
  },
  {
   "cell_type": "code",
   "execution_count": 54,
   "metadata": {},
   "outputs": [],
   "source": [
    "#define custom toolbar location\n",
    "class TopToolbar(mpld3.plugins.PluginBase):\n",
    "    \"\"\"Plugin for moving toolbar to top of figure\"\"\"\n",
    "\n",
    "    JAVASCRIPT = \"\"\"\n",
    "    mpld3.register_plugin(\"toptoolbar\", TopToolbar);\n",
    "    TopToolbar.prototype = Object.create(mpld3.Plugin.prototype);\n",
    "    TopToolbar.prototype.constructor = TopToolbar;\n",
    "    function TopToolbar(fig, props){\n",
    "        mpld3.Plugin.call(this, fig, props);\n",
    "    };\n",
    "\n",
    "    TopToolbar.prototype.draw = function(){\n",
    "      // the toolbar svg doesn't exist\n",
    "      // yet, so first draw it\n",
    "      this.fig.toolbar.draw();\n",
    "\n",
    "      // then change the y position to be\n",
    "      // at the top of the figure\n",
    "      this.fig.toolbar.toolbar.attr(\"x\", 150);\n",
    "      this.fig.toolbar.toolbar.attr(\"y\", 400);\n",
    "\n",
    "      // then remove the draw function,\n",
    "      // so that it is not called again\n",
    "      this.fig.toolbar.draw = function() {}\n",
    "    }\n",
    "    \"\"\"\n",
    "    def __init__(self):\n",
    "        self.dict_ = {\"type\": \"toptoolbar\"}\n",
    "\n"
   ]
  },
  {
   "cell_type": "code",
   "execution_count": 91,
   "metadata": {},
   "outputs": [
    {
     "ename": "ValueError",
     "evalue": "Circular reference detected",
     "output_type": "error",
     "traceback": [
      "\u001b[0;31m---------------------------------------------------------------------------\u001b[0m",
      "\u001b[0;31mValueError\u001b[0m                                Traceback (most recent call last)",
      "\u001b[0;32m<ipython-input-91-c6d98784ff5a>\u001b[0m in \u001b[0;36m<module>\u001b[0;34m()\u001b[0m\n\u001b[1;32m     46\u001b[0m     \u001b[0max\u001b[0m\u001b[0;34m.\u001b[0m\u001b[0maxes\u001b[0m\u001b[0;34m.\u001b[0m\u001b[0mget_yaxis\u001b[0m\u001b[0;34m(\u001b[0m\u001b[0;34m)\u001b[0m\u001b[0;34m.\u001b[0m\u001b[0mset_visible\u001b[0m\u001b[0;34m(\u001b[0m\u001b[0;32mFalse\u001b[0m\u001b[0;34m)\u001b[0m\u001b[0;34m\u001b[0m\u001b[0m\n\u001b[1;32m     47\u001b[0m \u001b[0;34m\u001b[0m\u001b[0m\n\u001b[0;32m---> 48\u001b[0;31m \u001b[0mmpld3\u001b[0m\u001b[0;34m.\u001b[0m\u001b[0mdisplay\u001b[0m\u001b[0;34m(\u001b[0m\u001b[0;34m)\u001b[0m\u001b[0;34m\u001b[0m\u001b[0m\n\u001b[0m",
      "\u001b[0;32m/usr/local/lib/python3.5/dist-packages/mpld3/_display.py\u001b[0m in \u001b[0;36mdisplay\u001b[0;34m(fig, closefig, local, **kwargs)\u001b[0m\n\u001b[1;32m    303\u001b[0m     \u001b[0;32mif\u001b[0m \u001b[0mclosefig\u001b[0m\u001b[0;34m:\u001b[0m\u001b[0;34m\u001b[0m\u001b[0m\n\u001b[1;32m    304\u001b[0m         \u001b[0mplt\u001b[0m\u001b[0;34m.\u001b[0m\u001b[0mclose\u001b[0m\u001b[0;34m(\u001b[0m\u001b[0mfig\u001b[0m\u001b[0;34m)\u001b[0m\u001b[0;34m\u001b[0m\u001b[0m\n\u001b[0;32m--> 305\u001b[0;31m     \u001b[0;32mreturn\u001b[0m \u001b[0mHTML\u001b[0m\u001b[0;34m(\u001b[0m\u001b[0mfig_to_html\u001b[0m\u001b[0;34m(\u001b[0m\u001b[0mfig\u001b[0m\u001b[0;34m,\u001b[0m \u001b[0;34m**\u001b[0m\u001b[0mkwargs\u001b[0m\u001b[0;34m)\u001b[0m\u001b[0;34m)\u001b[0m\u001b[0;34m\u001b[0m\u001b[0m\n\u001b[0m\u001b[1;32m    306\u001b[0m \u001b[0;34m\u001b[0m\u001b[0m\n\u001b[1;32m    307\u001b[0m \u001b[0;34m\u001b[0m\u001b[0m\n",
      "\u001b[0;32m/usr/local/lib/python3.5/dist-packages/mpld3/_display.py\u001b[0m in \u001b[0;36mfig_to_html\u001b[0;34m(fig, d3_url, mpld3_url, no_extras, template_type, figid, use_http, **kwargs)\u001b[0m\n\u001b[1;32m    249\u001b[0m                            \u001b[0md3_url\u001b[0m\u001b[0;34m=\u001b[0m\u001b[0md3_url\u001b[0m\u001b[0;34m,\u001b[0m\u001b[0;34m\u001b[0m\u001b[0m\n\u001b[1;32m    250\u001b[0m                            \u001b[0mmpld3_url\u001b[0m\u001b[0;34m=\u001b[0m\u001b[0mmpld3_url\u001b[0m\u001b[0;34m,\u001b[0m\u001b[0;34m\u001b[0m\u001b[0m\n\u001b[0;32m--> 251\u001b[0;31m                            \u001b[0mfigure_json\u001b[0m\u001b[0;34m=\u001b[0m\u001b[0mjson\u001b[0m\u001b[0;34m.\u001b[0m\u001b[0mdumps\u001b[0m\u001b[0;34m(\u001b[0m\u001b[0mfigure_json\u001b[0m\u001b[0;34m,\u001b[0m \u001b[0mcls\u001b[0m\u001b[0;34m=\u001b[0m\u001b[0mNumpyEncoder\u001b[0m\u001b[0;34m)\u001b[0m\u001b[0;34m,\u001b[0m\u001b[0;34m\u001b[0m\u001b[0m\n\u001b[0m\u001b[1;32m    252\u001b[0m                            \u001b[0mextra_css\u001b[0m\u001b[0;34m=\u001b[0m\u001b[0mextra_css\u001b[0m\u001b[0;34m,\u001b[0m\u001b[0;34m\u001b[0m\u001b[0m\n\u001b[1;32m    253\u001b[0m                            extra_js=extra_js)\n",
      "\u001b[0;32m/usr/lib/python3.5/json/__init__.py\u001b[0m in \u001b[0;36mdumps\u001b[0;34m(obj, skipkeys, ensure_ascii, check_circular, allow_nan, cls, indent, separators, default, sort_keys, **kw)\u001b[0m\n\u001b[1;32m    235\u001b[0m         \u001b[0mcheck_circular\u001b[0m\u001b[0;34m=\u001b[0m\u001b[0mcheck_circular\u001b[0m\u001b[0;34m,\u001b[0m \u001b[0mallow_nan\u001b[0m\u001b[0;34m=\u001b[0m\u001b[0mallow_nan\u001b[0m\u001b[0;34m,\u001b[0m \u001b[0mindent\u001b[0m\u001b[0;34m=\u001b[0m\u001b[0mindent\u001b[0m\u001b[0;34m,\u001b[0m\u001b[0;34m\u001b[0m\u001b[0m\n\u001b[1;32m    236\u001b[0m         \u001b[0mseparators\u001b[0m\u001b[0;34m=\u001b[0m\u001b[0mseparators\u001b[0m\u001b[0;34m,\u001b[0m \u001b[0mdefault\u001b[0m\u001b[0;34m=\u001b[0m\u001b[0mdefault\u001b[0m\u001b[0;34m,\u001b[0m \u001b[0msort_keys\u001b[0m\u001b[0;34m=\u001b[0m\u001b[0msort_keys\u001b[0m\u001b[0;34m,\u001b[0m\u001b[0;34m\u001b[0m\u001b[0m\n\u001b[0;32m--> 237\u001b[0;31m         **kw).encode(obj)\n\u001b[0m\u001b[1;32m    238\u001b[0m \u001b[0;34m\u001b[0m\u001b[0m\n\u001b[1;32m    239\u001b[0m \u001b[0;34m\u001b[0m\u001b[0m\n",
      "\u001b[0;32m/usr/lib/python3.5/json/encoder.py\u001b[0m in \u001b[0;36mencode\u001b[0;34m(self, o)\u001b[0m\n\u001b[1;32m    196\u001b[0m         \u001b[0;31m# exceptions aren't as detailed.  The list call should be roughly\u001b[0m\u001b[0;34m\u001b[0m\u001b[0;34m\u001b[0m\u001b[0m\n\u001b[1;32m    197\u001b[0m         \u001b[0;31m# equivalent to the PySequence_Fast that ''.join() would do.\u001b[0m\u001b[0;34m\u001b[0m\u001b[0;34m\u001b[0m\u001b[0m\n\u001b[0;32m--> 198\u001b[0;31m         \u001b[0mchunks\u001b[0m \u001b[0;34m=\u001b[0m \u001b[0mself\u001b[0m\u001b[0;34m.\u001b[0m\u001b[0miterencode\u001b[0m\u001b[0;34m(\u001b[0m\u001b[0mo\u001b[0m\u001b[0;34m,\u001b[0m \u001b[0m_one_shot\u001b[0m\u001b[0;34m=\u001b[0m\u001b[0;32mTrue\u001b[0m\u001b[0;34m)\u001b[0m\u001b[0;34m\u001b[0m\u001b[0m\n\u001b[0m\u001b[1;32m    199\u001b[0m         \u001b[0;32mif\u001b[0m \u001b[0;32mnot\u001b[0m \u001b[0misinstance\u001b[0m\u001b[0;34m(\u001b[0m\u001b[0mchunks\u001b[0m\u001b[0;34m,\u001b[0m \u001b[0;34m(\u001b[0m\u001b[0mlist\u001b[0m\u001b[0;34m,\u001b[0m \u001b[0mtuple\u001b[0m\u001b[0;34m)\u001b[0m\u001b[0;34m)\u001b[0m\u001b[0;34m:\u001b[0m\u001b[0;34m\u001b[0m\u001b[0m\n\u001b[1;32m    200\u001b[0m             \u001b[0mchunks\u001b[0m \u001b[0;34m=\u001b[0m \u001b[0mlist\u001b[0m\u001b[0;34m(\u001b[0m\u001b[0mchunks\u001b[0m\u001b[0;34m)\u001b[0m\u001b[0;34m\u001b[0m\u001b[0m\n",
      "\u001b[0;32m/usr/lib/python3.5/json/encoder.py\u001b[0m in \u001b[0;36miterencode\u001b[0;34m(self, o, _one_shot)\u001b[0m\n\u001b[1;32m    254\u001b[0m                 \u001b[0mself\u001b[0m\u001b[0;34m.\u001b[0m\u001b[0mkey_separator\u001b[0m\u001b[0;34m,\u001b[0m \u001b[0mself\u001b[0m\u001b[0;34m.\u001b[0m\u001b[0mitem_separator\u001b[0m\u001b[0;34m,\u001b[0m \u001b[0mself\u001b[0m\u001b[0;34m.\u001b[0m\u001b[0msort_keys\u001b[0m\u001b[0;34m,\u001b[0m\u001b[0;34m\u001b[0m\u001b[0m\n\u001b[1;32m    255\u001b[0m                 self.skipkeys, _one_shot)\n\u001b[0;32m--> 256\u001b[0;31m         \u001b[0;32mreturn\u001b[0m \u001b[0m_iterencode\u001b[0m\u001b[0;34m(\u001b[0m\u001b[0mo\u001b[0m\u001b[0;34m,\u001b[0m \u001b[0;36m0\u001b[0m\u001b[0;34m)\u001b[0m\u001b[0;34m\u001b[0m\u001b[0m\n\u001b[0m\u001b[1;32m    257\u001b[0m \u001b[0;34m\u001b[0m\u001b[0m\n\u001b[1;32m    258\u001b[0m def _make_iterencode(markers, _default, _encoder, _indent, _floatstr,\n",
      "\u001b[0;31mValueError\u001b[0m: Circular reference detected"
     ]
    }
   ],
   "source": [
    "import mpld3\n",
    "#create data frame that has the result of the MDS plus the cluster numbers and titles\n",
    "df = pd.DataFrame(dict(x=xs, y=ys, label=def_clusters, title=docs)) \n",
    "\n",
    "#group by cluster\n",
    "groups = df.groupby('label')\n",
    "\n",
    "#define custom css to format the font and to remove the axis labeling\n",
    "css = \"\"\"\n",
    "text.mpld3-text, div.mpld3-tooltip {\n",
    "  font-family:Arial, Helvetica, sans-serif;\n",
    "}\n",
    "\n",
    "g.mpld3-xaxis, g.mpld3-yaxis {\n",
    "display: none; }\n",
    "\n",
    "svg.mpld3-figure {\n",
    "margin-left: -200px;}\n",
    "\"\"\"\n",
    "\n",
    "# Plot \n",
    "fig, ax = plt.subplots(figsize=(30,15)) #set plot size\n",
    "ax.margins(0.03) # Optional, just adds 5% padding to the autoscaling\n",
    "\n",
    "#iterate through groups to layer the plot\n",
    "#note that I use the cluster_name and cluster_color dicts with the 'name' lookup to return the appropriate color/label\n",
    "for name, group in groups:\n",
    "    points = ax.plot(group.x, group.y, marker='o', linestyle='', ms=18, \n",
    "                     mec='none', \n",
    "                     color=colors_dict[name])\n",
    "    ax.set_aspect('auto')\n",
    "    labels = [i for i in group.title]\n",
    "    \n",
    "    #set tooltip using points, labels and the already defined 'css'\n",
    "    tooltip = mpld3.plugins.PointHTMLTooltip(points[0], labels,\n",
    "                                       voffset=10, hoffset=10, css=css)\n",
    "    #connect tooltip to fig\n",
    "    mpld3.plugins.connect(fig, tooltip, TopToolbar())    \n",
    "    \n",
    "    #set tick marks as blank\n",
    "    ax.axes.get_xaxis().set_ticks([])\n",
    "    ax.axes.get_yaxis().set_ticks([])\n",
    "    \n",
    "    #set axis as blank\n",
    "    ax.axes.get_xaxis().set_visible(False)\n",
    "    ax.axes.get_yaxis().set_visible(False)\n",
    "\n",
    "mpld3.display()"
   ]
  },
  {
   "cell_type": "code",
   "execution_count": null,
   "metadata": {},
   "outputs": [],
   "source": []
  }
 ],
 "metadata": {
  "kernelspec": {
   "display_name": "Python 3",
   "language": "python",
   "name": "python3"
  },
  "language_info": {
   "codemirror_mode": {
    "name": "ipython",
    "version": 3
   },
   "file_extension": ".py",
   "mimetype": "text/x-python",
   "name": "python",
   "nbconvert_exporter": "python",
   "pygments_lexer": "ipython3",
   "version": "3.5.2"
  }
 },
 "nbformat": 4,
 "nbformat_minor": 2
}
